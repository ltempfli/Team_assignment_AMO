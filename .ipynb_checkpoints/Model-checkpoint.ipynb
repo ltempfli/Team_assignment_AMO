{
 "cells": [
  {
   "cell_type": "markdown",
   "metadata": {
    "toc": true
   },
   "source": [
    "<h1>Table of Contents<span class=\"tocSkip\"></span></h1>\n",
    "<div class=\"toc\"><ul class=\"toc-item\"></ul></div>"
   ]
  },
  {
   "cell_type": "code",
   "execution_count": 1,
   "metadata": {},
   "outputs": [
    {
     "name": "stderr",
     "output_type": "stream",
     "text": [
      "\u001b[32m\u001b[1m  Activating\u001b[22m\u001b[39m project at `C:\\Users\\lukas\\Desktop\\AMO\\Team_assignment_AMO`\n"
     ]
    }
   ],
   "source": [
    "using Pkg; Pkg.activate(\".\")"
   ]
  },
  {
   "cell_type": "code",
   "execution_count": 2,
   "metadata": {},
   "outputs": [],
   "source": [
    "using JuMP,HiGHS,DataFrames"
   ]
  },
  {
   "cell_type": "code",
   "execution_count": 36,
   "metadata": {},
   "outputs": [
    {
     "data": {
      "text/plain": [
       "3-element Vector{Int64}:\n",
       "  70\n",
       "  80\n",
       " 150"
      ]
     },
     "execution_count": 36,
     "metadata": {},
     "output_type": "execute_result"
    }
   ],
   "source": [
    "nP=1:3                                  #number of generation units\n",
    "nW=1:1                                  #number of stochastic generation units\n",
    "nt=1:4                                  #number of time intervalls \n",
    "nS=1:2                                  #number of scenarios\n",
    "C=[100, 80, 50]                         #unit cost of generation\n",
    "C_RU=[20, 10, 15]                       #cost of up reserve commitment\n",
    "C_RD=[25, 15, 15]                       #cost of down reserve commitment\n",
    "C_U=[10, 15, 20]                        #cost of up reserve commitment\n",
    "C_D=[30, 10, 15]                        #cost of down reserve commitment\n",
    "pi=[0.7, 0.3]                           #probabilities of the scenarios\n",
    "V_LOL=[20, 25]                          #value of the lost load\n",
    "C_cur=[15]                              #cost of curtailment at turbine\n",
    "L=[150, 60]                             #loads\n",
    "W_realized = 70 .+ 15 * randn(2, 4)     #create random scenarios for four time points\n",
    "P_max=[70, 80, 150]                     #maximum production capacity"
   ]
  },
  {
   "cell_type": "code",
   "execution_count": 37,
   "metadata": {},
   "outputs": [
    {
     "data": {
      "text/plain": [
       "Dict{Symbol, AbstractArray} with 15 entries:\n",
       "  :C_RU       => [20, 10, 15]\n",
       "  :W_realized => [82.6716 93.7733 75.6023; 67.1494 57.0342 83.8781]\n",
       "  :C_U        => [10, 15, 20]\n",
       "  :nW         => 1:1\n",
       "  :nS         => 1:2\n",
       "  :C_D        => [30, 10, 15]\n",
       "  :C_RD       => [25, 15, 15]\n",
       "  :V_LOL      => [20, 25]\n",
       "  :P_max      => [70, 80, 150]\n",
       "  :C_cur      => [15]\n",
       "  :pi         => [0.7, 0.3]\n",
       "  :nP         => 1:3\n",
       "  :nt         => 1:4\n",
       "  :L          => [150, 60]\n",
       "  :C          => [100, 80, 50]"
      ]
     },
     "execution_count": 37,
     "metadata": {},
     "output_type": "execute_result"
    }
   ],
   "source": [
    "data= Dict(\n",
    "    :nP => nP,\n",
    "    :nW => nW,\n",
    "    :nt => nt,\n",
    "    :nS => nS,\n",
    "    :C => C,\n",
    "    :C_RU => C_RU,\n",
    "    :C_RD => C_RD,\n",
    "    :P_max => P_max,\n",
    "    :C_U => C_U,\n",
    "    :C_D => C_D,\n",
    "    :pi => pi,\n",
    "    :V_LOL => V_LOL,\n",
    "    :C_cur => C_cur,\n",
    "    :L => L,\n",
    "    :W_realized => W_realized,\n",
    "    :P_max => P_max\n",
    "    )"
   ]
  },
  {
   "cell_type": "code",
   "execution_count": 116,
   "metadata": {},
   "outputs": [],
   "source": [
    "model=Model(HiGHS.Optimizer);"
   ]
  },
  {
   "cell_type": "code",
   "execution_count": 117,
   "metadata": {},
   "outputs": [],
   "source": [
    "function init_variables(model::JuMP.Model)\n",
    "    @variable(model, P[p in data[:nP]] >=0)\n",
    "    @variable(model, R_U[p in data[:nP]] >=0)\n",
    "    @variable(model, R_D[p in data[:nP]] >=0)\n",
    "    @variable(model, r_U[p in data[:nP], s in data[:nS], t in data[:nt]] >=0)\n",
    "    @variable(model, r_D[p in data[:nP], s in data[:nS], t in data[:nt]] >=0)\n",
    "    @variable(model, L_Shed[p in data[:nP], s in data[:nS], t in data[:nt]] >=0)\n",
    "    @variable(model, W_spill[p in data[:nP], s in data[:nS], t in data[:nt]] >=0)\n",
    "    @variable(model, W_s[w in data[:nW]] >=0)\n",
    "    \n",
    "    return P, R_U, R_D, r_U, r_D, L_Shed, W_spill, W_s\n",
    "end\n",
    "\n",
    "P, R_U, R_D, r_U, r_D, L_Shed, W_spill, W_s=init_variables(model);"
   ]
  },
  {
   "cell_type": "code",
   "execution_count": 118,
   "metadata": {},
   "outputs": [],
   "source": [
    "function init_constraints(model::JuMP.Model, data::Dict, P, R_U, R_D, r_U, r_D, L_Shed, W_spill, W_s)\n",
    "    @constraints(model, begin \n",
    "            c1[p in data[:nP]], P[p]+ R_U[p]<= P_max[p]\n",
    "            c2[p in data[:nP]], P[p]- R_D[p]>= 0\n",
    "            c3, sum(P) + sum(W_s) - sum(L) == 0\n",
    "            c4[s in data[:nS], t in data[:nt]], sum()\n",
    "        \n",
    "    end)\n",
    "end\n",
    "init_constraints(model, data, P, R_U, R_D, r_U, r_D, L_Shed, W_spill, W_s);"
   ]
  },
  {
   "cell_type": "code",
   "execution_count": 119,
   "metadata": {},
   "outputs": [
    {
     "data": {
      "text/latex": [
       "$$ \\begin{aligned}\n",
       "\\text{feasibility}\\\\\n",
       "\\text{Subject to} \\quad & P_{1} + P_{2} + P_{3} + W\\_s_{1} = 210\\\\\n",
       " & P_{1} - R\\_D_{1} \\geq 0\\\\\n",
       " & P_{2} - R\\_D_{2} \\geq 0\\\\\n",
       " & P_{3} - R\\_D_{3} \\geq 0\\\\\n",
       " & P_{1} + R\\_U_{1} \\leq 70\\\\\n",
       " & P_{2} + R\\_U_{2} \\leq 80\\\\\n",
       " & P_{3} + R\\_U_{3} \\leq 150\\\\\n",
       " & P_{1} \\geq 0\\\\\n",
       " & P_{2} \\geq 0\\\\\n",
       " & P_{3} \\geq 0\\\\\n",
       " & R\\_U_{1} \\geq 0\\\\\n",
       " & R\\_U_{2} \\geq 0\\\\\n",
       " & R\\_U_{3} \\geq 0\\\\\n",
       " & R\\_D_{1} \\geq 0\\\\\n",
       " & R\\_D_{2} \\geq 0\\\\\n",
       " & R\\_D_{3} \\geq 0\\\\\n",
       " & r\\_U_{1,1,1} \\geq 0\\\\\n",
       " & r\\_U_{2,1,1} \\geq 0\\\\\n",
       " & r\\_U_{3,1,1} \\geq 0\\\\\n",
       " & r\\_U_{1,2,1} \\geq 0\\\\\n",
       " & r\\_U_{2,2,1} \\geq 0\\\\\n",
       " & r\\_U_{3,2,1} \\geq 0\\\\\n",
       " & r\\_U_{1,1,2} \\geq 0\\\\\n",
       " & r\\_U_{2,1,2} \\geq 0\\\\\n",
       " & r\\_U_{3,1,2} \\geq 0\\\\\n",
       " & r\\_U_{1,2,2} \\geq 0\\\\\n",
       " & r\\_U_{2,2,2} \\geq 0\\\\\n",
       " & r\\_U_{3,2,2} \\geq 0\\\\\n",
       " & r\\_U_{1,1,3} \\geq 0\\\\\n",
       " & r\\_U_{2,1,3} \\geq 0\\\\\n",
       " & r\\_U_{3,1,3} \\geq 0\\\\\n",
       " & r\\_U_{1,2,3} \\geq 0\\\\\n",
       " & r\\_U_{2,2,3} \\geq 0\\\\\n",
       " & r\\_U_{3,2,3} \\geq 0\\\\\n",
       " & r\\_U_{1,1,4} \\geq 0\\\\\n",
       " & r\\_U_{2,1,4} \\geq 0\\\\\n",
       " & r\\_U_{3,1,4} \\geq 0\\\\\n",
       " & r\\_U_{1,2,4} \\geq 0\\\\\n",
       " & r\\_U_{2,2,4} \\geq 0\\\\\n",
       " & r\\_U_{3,2,4} \\geq 0\\\\\n",
       " & r\\_D_{1,1,1} \\geq 0\\\\\n",
       " & r\\_D_{2,1,1} \\geq 0\\\\\n",
       " & r\\_D_{3,1,1} \\geq 0\\\\\n",
       " & r\\_D_{1,2,1} \\geq 0\\\\\n",
       " & r\\_D_{2,2,1} \\geq 0\\\\\n",
       " & r\\_D_{3,2,1} \\geq 0\\\\\n",
       " & r\\_D_{1,1,2} \\geq 0\\\\\n",
       " & r\\_D_{2,1,2} \\geq 0\\\\\n",
       " & r\\_D_{3,1,2} \\geq 0\\\\\n",
       " & r\\_D_{1,2,2} \\geq 0\\\\\n",
       " & r\\_D_{2,2,2} \\geq 0\\\\\n",
       " & r\\_D_{3,2,2} \\geq 0\\\\\n",
       " & r\\_D_{1,1,3} \\geq 0\\\\\n",
       " & r\\_D_{2,1,3} \\geq 0\\\\\n",
       " & r\\_D_{3,1,3} \\geq 0\\\\\n",
       " & r\\_D_{1,2,3} \\geq 0\\\\\n",
       " & r\\_D_{2,2,3} \\geq 0\\\\\n",
       " & r\\_D_{3,2,3} \\geq 0\\\\\n",
       " & r\\_D_{1,1,4} \\geq 0\\\\\n",
       " & r\\_D_{2,1,4} \\geq 0\\\\\n",
       " & r\\_D_{3,1,4} \\geq 0\\\\\n",
       " & r\\_D_{1,2,4} \\geq 0\\\\\n",
       " & r\\_D_{2,2,4} \\geq 0\\\\\n",
       " & r\\_D_{3,2,4} \\geq 0\\\\\n",
       " & L\\_Shed_{1,1,1} \\geq 0\\\\\n",
       " & L\\_Shed_{2,1,1} \\geq 0\\\\\n",
       " & L\\_Shed_{3,1,1} \\geq 0\\\\\n",
       " & L\\_Shed_{1,2,1} \\geq 0\\\\\n",
       " & L\\_Shed_{2,2,1} \\geq 0\\\\\n",
       " & L\\_Shed_{3,2,1} \\geq 0\\\\\n",
       " & L\\_Shed_{1,1,2} \\geq 0\\\\\n",
       " & L\\_Shed_{2,1,2} \\geq 0\\\\\n",
       " & L\\_Shed_{3,1,2} \\geq 0\\\\\n",
       " & L\\_Shed_{1,2,2} \\geq 0\\\\\n",
       " & L\\_Shed_{2,2,2} \\geq 0\\\\\n",
       " & L\\_Shed_{3,2,2} \\geq 0\\\\\n",
       " & L\\_Shed_{1,1,3} \\geq 0\\\\\n",
       " & L\\_Shed_{2,1,3} \\geq 0\\\\\n",
       " & L\\_Shed_{3,1,3} \\geq 0\\\\\n",
       " & L\\_Shed_{1,2,3} \\geq 0\\\\\n",
       " & L\\_Shed_{2,2,3} \\geq 0\\\\\n",
       " & L\\_Shed_{3,2,3} \\geq 0\\\\\n",
       " & L\\_Shed_{1,1,4} \\geq 0\\\\\n",
       " & L\\_Shed_{2,1,4} \\geq 0\\\\\n",
       " & L\\_Shed_{3,1,4} \\geq 0\\\\\n",
       " & L\\_Shed_{1,2,4} \\geq 0\\\\\n",
       " & L\\_Shed_{2,2,4} \\geq 0\\\\\n",
       " & L\\_Shed_{3,2,4} \\geq 0\\\\\n",
       " & W\\_spill_{1,1,1} \\geq 0\\\\\n",
       " & W\\_spill_{2,1,1} \\geq 0\\\\\n",
       " & W\\_spill_{3,1,1} \\geq 0\\\\\n",
       " & W\\_spill_{1,2,1} \\geq 0\\\\\n",
       " & W\\_spill_{2,2,1} \\geq 0\\\\\n",
       " & W\\_spill_{3,2,1} \\geq 0\\\\\n",
       " & W\\_spill_{1,1,2} \\geq 0\\\\\n",
       " & W\\_spill_{2,1,2} \\geq 0\\\\\n",
       " & W\\_spill_{3,1,2} \\geq 0\\\\\n",
       " & W\\_spill_{1,2,2} \\geq 0\\\\\n",
       " & W\\_spill_{2,2,2} \\geq 0\\\\\n",
       " & W\\_spill_{3,2,2} \\geq 0\\\\\n",
       " & W\\_spill_{1,1,3} \\geq 0\\\\\n",
       " & W\\_spill_{2,1,3} \\geq 0\\\\\n",
       " & W\\_spill_{3,1,3} \\geq 0\\\\\n",
       " & W\\_spill_{1,2,3} \\geq 0\\\\\n",
       " & W\\_spill_{2,2,3} \\geq 0\\\\\n",
       " & W\\_spill_{3,2,3} \\geq 0\\\\\n",
       " & W\\_spill_{1,1,4} \\geq 0\\\\\n",
       " & W\\_spill_{2,1,4} \\geq 0\\\\\n",
       " & W\\_spill_{3,1,4} \\geq 0\\\\\n",
       " & W\\_spill_{1,2,4} \\geq 0\\\\\n",
       " & W\\_spill_{2,2,4} \\geq 0\\\\\n",
       " & W\\_spill_{3,2,4} \\geq 0\\\\\n",
       " & W\\_s_{1} \\geq 0\\\\\n",
       "\\end{aligned} $$"
      ]
     },
     "metadata": {},
     "output_type": "display_data"
    }
   ],
   "source": [
    "print(model)"
   ]
  },
  {
   "cell_type": "code",
   "execution_count": null,
   "metadata": {},
   "outputs": [],
   "source": [
    "function init_obj_function()\n",
    "    \n",
    "end"
   ]
  }
 ],
 "metadata": {
  "kernelspec": {
   "display_name": "Julia 1.10.0",
   "language": "julia",
   "name": "julia-1.10"
  },
  "language_info": {
   "file_extension": ".jl",
   "mimetype": "application/julia",
   "name": "julia",
   "version": "1.10.0"
  },
  "toc": {
   "base_numbering": 1,
   "nav_menu": {},
   "number_sections": true,
   "sideBar": true,
   "skip_h1_title": false,
   "title_cell": "Table of Contents",
   "title_sidebar": "Contents",
   "toc_cell": true,
   "toc_position": {},
   "toc_section_display": true,
   "toc_window_display": false
  }
 },
 "nbformat": 4,
 "nbformat_minor": 4
}
