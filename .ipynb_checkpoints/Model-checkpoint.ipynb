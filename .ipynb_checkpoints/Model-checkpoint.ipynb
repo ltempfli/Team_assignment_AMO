{
 "cells": [
  {
   "cell_type": "markdown",
   "metadata": {
    "toc": true
   },
   "source": [
    "<h1>Table of Contents<span class=\"tocSkip\"></span></h1>\n",
    "<div class=\"toc\"><ul class=\"toc-item\"></ul></div>"
   ]
  },
  {
   "cell_type": "code",
   "execution_count": 1,
   "metadata": {},
   "outputs": [
    {
     "name": "stderr",
     "output_type": "stream",
     "text": [
      "\u001b[32m\u001b[1m  Activating\u001b[22m\u001b[39m project at `C:\\Users\\lukas\\Desktop\\AMO\\Team_assignment_AMO`\n"
     ]
    }
   ],
   "source": [
    "using Pkg; Pkg.activate(\".\")"
   ]
  },
  {
   "cell_type": "code",
   "execution_count": 2,
   "metadata": {},
   "outputs": [],
   "source": [
    "using JuMP,HiGHS,DataFrames"
   ]
  },
  {
   "cell_type": "code",
   "execution_count": 286,
   "metadata": {},
   "outputs": [
    {
     "name": "stdout",
     "output_type": "stream",
     "text": [
      "[85.4903355623685; 90.28708638969704;;][55.30193164463399 57.98800331952636;;;]"
     ]
    }
   ],
   "source": [
    "nP=1:3                                  #number of generation units\n",
    "nW=1:1                                  #number of stochastic generation units\n",
    "nt=1:1                                  #number of time intervalls \n",
    "nS=1:2                                  #number of scenarios\n",
    "nL=1:2                                  #number of loads\n",
    "nB=1:1                                  #number of buses\n",
    "C=[100, 80, 50]                         #unit cost of generation\n",
    "C_RU=[20, 10, 15]                       #cost of up reserve commitment\n",
    "C_RD=[25, 15, 15]                       #cost of down reserve commitment\n",
    "C_U=[10, 15, 20]                        #cost of up reserve commitment\n",
    "C_D=[30, 10, 15]                        #cost of down reserve commitment\n",
    "pi=[0.7, 0.3]                           #probabilities of the scenarios\n",
    "V_LOL=[20, 25]                          #value of the lost load\n",
    "C_cur=[15]                              #cost of curtailment at turbine\n",
    "L= 90 .+ 30 * randn(2, 1)               #loads for every time intervall\n",
    "W_realized = 70 .+ 15 * randn(1, 2, 1)  #create random scenarios for four time points\n",
    "P_max=[70, 80, 150];                    #maximum production capacity"
   ]
  },
  {
   "cell_type": "code",
   "execution_count": 287,
   "metadata": {},
   "outputs": [
    {
     "name": "stdout",
     "output_type": "stream",
     "text": [
      "57.98800331952636"
     ]
    }
   ],
   "source": [
    "data= Dict(\n",
    "    :nP => nP,\n",
    "    :nW => nW,\n",
    "    :nt => nt,\n",
    "    :nS => nS,\n",
    "    :nL => nL,\n",
    "    :C => C,\n",
    "    :C_RU => C_RU,\n",
    "    :C_RD => C_RD,\n",
    "    :P_max => P_max,\n",
    "    :C_U => C_U,\n",
    "    :C_D => C_D,\n",
    "    :pi => pi,\n",
    "    :V_LOL => V_LOL,\n",
    "    :C_cur => C_cur,\n",
    "    :L => L,\n",
    "    :W_realized => W_realized,\n",
    "    :P_max => P_max\n",
    "    );\n",
    "print(W_realized[1,2,1])"
   ]
  },
  {
   "cell_type": "code",
   "execution_count": 295,
   "metadata": {},
   "outputs": [],
   "source": [
    "function init_variables(model::JuMP.Model)\n",
    "    P=@variable(model, P[p in data[:nP], t in data[:nt]] >=0)\n",
    "    R_U=@variable(model, R_U[p in data[:nP], t in data[:nt]] >=0)\n",
    "    R_D=@variable(model, R_D[p in data[:nP], t in data[:nt]] >=0)\n",
    "    r_U=@variable(model, r_U[p in data[:nP], s in data[:nS], t in data[:nt]] >=0)\n",
    "    r_D=@variable(model, r_D[p in data[:nP], s in data[:nS], t in data[:nt]] >=0)\n",
    "    L_Shed=@variable(model, L_Shed[l in data[:nL], s in data[:nS], t in data[:nt]] >=0)\n",
    "    W_spill=@variable(model, W_spill[w in data[:nW], s in data[:nS], t in data[:nt]] >=0)\n",
    "    W_s=@variable(model, W_s[w in data[:nW], t in data[:nt]] >=0)\n",
    "    \n",
    "    vars= Dict(\n",
    "        :P=> P,\n",
    "        :R_U => R_U,\n",
    "        :R_D => R_D,\n",
    "        :r_U => r_U,\n",
    "        :r_D => r_D,\n",
    "        :L_Shed => L_Shed,\n",
    "        :W_spill => W_spill,\n",
    "        :W_s => W_s\n",
    "    )\n",
    "    \n",
    "    return vars\n",
    "end;"
   ]
  },
  {
   "cell_type": "code",
   "execution_count": 299,
   "metadata": {},
   "outputs": [],
   "source": [
    "function init_constraints(model::JuMP.Model, data::Dict, vars::Dict)\n",
    "    @constraints(model, begin \n",
    "            c1[p in data[:nP], t in data[:nt]], vars[:P][p, t]+ vars[:R_U][p, t]<= P_max[p]\n",
    "            c2[p in data[:nP] ,t in data[:nt]], vars[:P][p, t]- vars[:R_D][p, t]>= 0\n",
    "            c3[p in data[:nP], t in data[:nt], s in data[:nS]], vars[:r_U][p, s, t] <= vars[:R_U][p,t]\n",
    "            c4[p in data[:nP], t in data[:nt], s in data[:nS]], vars[:r_D][p, s, t] <= vars[:R_D][p,t]  \n",
    "            Power_balance_day_ahead[t in data[:nt]], \n",
    "            sum(vars[:P][p,t] for p in data[:nP]) + sum(vars[:W_s][w, t] for w in data[:nW]) - sum(L[l, t] for l in data[:nL]) == 0\n",
    "            Power_balance_at_stage[s in data[:nS], t in data[:nt]], \n",
    "            sum(vars[:r_U][p, s, t] for p in data[:nP]) - sum(vars[:r_D][p, s, t] for p in data[:nP]) - \n",
    "            sum(vars[:L_Shed][l, s, t] for l in data[:nL]) + sum(data[:W_realized][w,s,t] -vars[:W_s][w, t] for w in data[:nW])== 0      \n",
    "    end)\n",
    "end;"
   ]
  },
  {
   "cell_type": "code",
   "execution_count": 300,
   "metadata": {},
   "outputs": [],
   "source": [
    "function init_obj_function(model, data, vars)\n",
    "    @objective(model, Min, sum(vars[:P][p,t]* C[p] + vars[:R_U][p,t] * C_RU[p] + vars[:R_D][p,t] * C_RD[p] for p in data[:nP], t in data[:nt]) +\n",
    "    sum(pi[s] * (sum(data[:C_U][p] * vars[:r_U][p, s ,t] + data[:C_D][p] * vars[:r_D][p, s, t] for p in data[:nP], t in data[:nt]) +\n",
    "                sum(data[:C_cur][w] * vars[:W_spill][w, s, t] for w in data[:nW], t in data[:nt]) \n",
    "                + sum(data[:V_LOL][l] * vars[:L_Shed][l, s, t] for l in data[:nL], t in data[:nt])) for s in data[:nS])\n",
    "    )\n",
    "end;"
   ]
  },
  {
   "cell_type": "code",
   "execution_count": 301,
   "metadata": {
    "scrolled": false
   },
   "outputs": [
    {
     "data": {
      "text/latex": [
       "$$ \\begin{aligned}\n",
       "\\min\\quad & 100 P_{1,1} + 20 R\\_U_{1,1} + 25 R\\_D_{1,1} + 80 P_{2,1} + 10 R\\_U_{2,1} + 15 R\\_D_{2,1} + 50 P_{3,1} + 15 R\\_U_{3,1} + 15 R\\_D_{3,1} + 7 r\\_U_{1,1,1} + 21 r\\_D_{1,1,1} + 10.5 r\\_U_{2,1,1} + 7 r\\_D_{2,1,1} + 14 r\\_U_{3,1,1} + 10.5 r\\_D_{3,1,1} + 10.5 W\\_spill_{1,1,1} + 14 L\\_Shed_{1,1,1} + 17.5 L\\_Shed_{2,1,1} + 3 r\\_U_{1,2,1} + 9 r\\_D_{1,2,1} + 4.5 r\\_U_{2,2,1} + 3 r\\_D_{2,2,1} + 6 r\\_U_{3,2,1} + 4.5 r\\_D_{3,2,1} + 4.5 W\\_spill_{1,2,1} + 6 L\\_Shed_{1,2,1} + 7.5 L\\_Shed_{2,2,1}\\\\\n",
       "\\text{Subject to} \\quad & P_{1,1} + P_{2,1} + P_{3,1} + W\\_s_{1,1} = 175.77742195206554\\\\\n",
       " & r\\_U_{1,1,1} + r\\_U_{2,1,1} + r\\_U_{3,1,1} - r\\_D_{1,1,1} - r\\_D_{2,1,1} - r\\_D_{3,1,1} - L\\_Shed_{1,1,1} - L\\_Shed_{2,1,1} - W\\_s_{1,1} = -55.30193164463399\\\\\n",
       " & r\\_U_{1,2,1} + r\\_U_{2,2,1} + r\\_U_{3,2,1} - r\\_D_{1,2,1} - r\\_D_{2,2,1} - r\\_D_{3,2,1} - L\\_Shed_{1,2,1} - L\\_Shed_{2,2,1} - W\\_s_{1,1} = -57.98800331952636\\\\\n",
       " & P_{1,1} - R\\_D_{1,1} \\geq 0\\\\\n",
       " & P_{2,1} - R\\_D_{2,1} \\geq 0\\\\\n",
       " & P_{3,1} - R\\_D_{3,1} \\geq 0\\\\\n",
       " & P_{1,1} + R\\_U_{1,1} \\leq 70\\\\\n",
       " & P_{2,1} + R\\_U_{2,1} \\leq 80\\\\\n",
       " & P_{3,1} + R\\_U_{3,1} \\leq 150\\\\\n",
       " & -R\\_U_{1,1} + r\\_U_{1,1,1} \\leq 0\\\\\n",
       " & -R\\_U_{2,1} + r\\_U_{2,1,1} \\leq 0\\\\\n",
       " & -R\\_U_{3,1} + r\\_U_{3,1,1} \\leq 0\\\\\n",
       " & -R\\_U_{1,1} + r\\_U_{1,2,1} \\leq 0\\\\\n",
       " & -R\\_U_{2,1} + r\\_U_{2,2,1} \\leq 0\\\\\n",
       " & -R\\_U_{3,1} + r\\_U_{3,2,1} \\leq 0\\\\\n",
       " & -R\\_D_{1,1} + r\\_D_{1,1,1} \\leq 0\\\\\n",
       " & -R\\_D_{2,1} + r\\_D_{2,1,1} \\leq 0\\\\\n",
       " & -R\\_D_{3,1} + r\\_D_{3,1,1} \\leq 0\\\\\n",
       " & -R\\_D_{1,1} + r\\_D_{1,2,1} \\leq 0\\\\\n",
       " & -R\\_D_{2,1} + r\\_D_{2,2,1} \\leq 0\\\\\n",
       " & -R\\_D_{3,1} + r\\_D_{3,2,1} \\leq 0\\\\\n",
       " & P_{1,1} \\geq 0\\\\\n",
       " & P_{2,1} \\geq 0\\\\\n",
       " & P_{3,1} \\geq 0\\\\\n",
       " & R\\_U_{1,1} \\geq 0\\\\\n",
       " & R\\_U_{2,1} \\geq 0\\\\\n",
       " & R\\_U_{3,1} \\geq 0\\\\\n",
       " & R\\_D_{1,1} \\geq 0\\\\\n",
       " & R\\_D_{2,1} \\geq 0\\\\\n",
       " & R\\_D_{3,1} \\geq 0\\\\\n",
       " & r\\_U_{1,1,1} \\geq 0\\\\\n",
       " & r\\_U_{2,1,1} \\geq 0\\\\\n",
       " & r\\_U_{3,1,1} \\geq 0\\\\\n",
       " & r\\_U_{1,2,1} \\geq 0\\\\\n",
       " & r\\_U_{2,2,1} \\geq 0\\\\\n",
       " & r\\_U_{3,2,1} \\geq 0\\\\\n",
       " & r\\_D_{1,1,1} \\geq 0\\\\\n",
       " & r\\_D_{2,1,1} \\geq 0\\\\\n",
       " & r\\_D_{3,1,1} \\geq 0\\\\\n",
       " & r\\_D_{1,2,1} \\geq 0\\\\\n",
       " & r\\_D_{2,2,1} \\geq 0\\\\\n",
       " & r\\_D_{3,2,1} \\geq 0\\\\\n",
       " & L\\_Shed_{1,1,1} \\geq 0\\\\\n",
       " & L\\_Shed_{2,1,1} \\geq 0\\\\\n",
       " & L\\_Shed_{1,2,1} \\geq 0\\\\\n",
       " & L\\_Shed_{2,2,1} \\geq 0\\\\\n",
       " & W\\_spill_{1,1,1} \\geq 0\\\\\n",
       " & W\\_spill_{1,2,1} \\geq 0\\\\\n",
       " & W\\_s_{1,1} \\geq 0\\\\\n",
       "\\end{aligned} $$"
      ]
     },
     "metadata": {},
     "output_type": "display_data"
    }
   ],
   "source": [
    "model=Model(HiGHS.Optimizer)\n",
    "vars=init_variables(model)\n",
    "init_constraints(model, data, vars)\n",
    "init_obj_function(model, data, vars)\n",
    "print(model)"
   ]
  },
  {
   "cell_type": "code",
   "execution_count": 302,
   "metadata": {},
   "outputs": [
    {
     "name": "stdout",
     "output_type": "stream",
     "text": [
      "Running HiGHS 1.6.0: Copyright (c) 2023 HiGHS under MIT licence terms\n",
      "Presolving model\n",
      "21 rows, 24 cols, 56 nonzeros\n",
      "17 rows, 20 cols, 48 nonzeros\n",
      "17 rows, 20 cols, 48 nonzeros\n",
      "Presolve : Reductions: rows 17(-4); columns 20(-8); elements 48(-10)\n",
      "Solving the presolved LP\n",
      "Using EKK dual simplex solver - serial\n",
      "  Iteration        Objective     Infeasibilities num(sum)\n",
      "          0    -1.0999192113e+02 Ph1: 5(6); Du: 2(109.992) 0s\n",
      "         10     3.2021773867e+03 Pr: 0(0) 0s\n",
      "Solving the original LP from the solution after postsolve\n",
      "Model   status      : Optimal\n",
      "Simplex   iterations: 10\n",
      "Objective value     :  3.2021773867e+03\n",
      "HiGHS run time      :          0.00\n"
     ]
    }
   ],
   "source": [
    "optimize!(model)"
   ]
  },
  {
   "cell_type": "code",
   "execution_count": 308,
   "metadata": {},
   "outputs": [
    {
     "name": "stdout",
     "output_type": "stream",
     "text": [
      "Variable values:\n",
      "P:\n",
      "P[1]: 0.0\n",
      "P[2]: -0.0\n",
      "P[3]: 0.0\n",
      "\n",
      "R_U:\n",
      "R_U[1]: 40.475490307431556\n",
      "R_U[2]: 80.0\n",
      "R_U[3]: 0.0\n",
      "\n",
      "R_D:\n",
      "R_D[1]: 0.0\n",
      "R_D[2]: 0.0\n",
      "R_D[3]: 0.0\n",
      "\n",
      "L_Shed:\n",
      "L_Shed[1, 1, 1]: 0.0\n",
      "L_Shed[1, 2, 1]: 0.0\n",
      "L_Shed[2, 1, 1]: 0.0\n",
      "L_Shed[2, 2, 1]: 0.0\n",
      "\n",
      "W_spill:\n",
      "W_spill[1, 1, 1]: 0.0\n",
      "W_spill[1, 2, 1]: 0.0\n",
      "\n",
      "W_realized:\n",
      "W_realized[1, 1, 1]: 55.30193164463399\n",
      "W_realized[1, 2, 1]: 57.98800331952636\n",
      "\n",
      "W_s:\n",
      "W_s[1, 1]: 175.77742195206554\n",
      "\n",
      "r_U:\n",
      "r_U[1, 1, 1]: 40.475490307431556\n",
      "r_U[1, 2, 1]: 40.475490307431556\n",
      "r_U[2, 1, 1]: 80.0\n",
      "r_U[2, 2, 1]: 77.31392832510763\n",
      "r_U[3, 1, 1]: -0.0\n",
      "r_U[3, 2, 1]: 0.0\n",
      "\n",
      "r_D:\n",
      "r_D[1, 1, 1]: 0.0\n",
      "r_D[1, 2, 1]: 0.0\n",
      "r_D[2, 1, 1]: 0.0\n",
      "r_D[2, 2, 1]: 0.0\n",
      "r_D[3, 1, 1]: 0.0\n",
      "r_D[3, 2, 1]: 0.0\n",
      "\n",
      "Load\n",
      "L[1]:85.4903355623685L[2]:90.28708638969704\n",
      "\n",
      "sum:175.77742195206554"
     ]
    }
   ],
   "source": [
    "# Print the values of the variables\n",
    "println(\"Variable values:\")\n",
    "println(\"P:\")\n",
    "for p in data[:nP], t in data[:nt]\n",
    "    println(\"P[$p]: \", value(vars[:P][p, t]))\n",
    "end\n",
    "\n",
    "println(\"\\nR_U:\")\n",
    "for p in data[:nP], t in data[:nt]\n",
    "    println(\"R_U[$p]: \", value(vars[:R_U][p, t]))\n",
    "end\n",
    "\n",
    "println(\"\\nR_D:\")\n",
    "for p in data[:nP], t in data[:nt]\n",
    "    println(\"R_D[$p]: \", value(vars[:R_D][p, t]))\n",
    "end\n",
    "\n",
    "println(\"\\nL_Shed:\")\n",
    "for l in data[:nL], s in data[:nS], t in data[:nt]\n",
    "    println(\"L_Shed[$l, $s, $t]: \", value(vars[:L_Shed][l, s, t]))\n",
    "end\n",
    "\n",
    "println(\"\\nW_spill:\")\n",
    "for w in data[:nW], s in data[:nS], t in data[:nt]\n",
    "    println(\"W_spill[$w, $s, $t]: \", value(vars[:W_spill][w, s, t]))\n",
    "end\n",
    "\n",
    "println(\"\\nW_realized:\")\n",
    "for w in data[:nW], s in data[:nS], t in data[:nt]\n",
    "    println(\"W_realized[$w, $s, $t]: \", value(data[:W_realized][w, s, t]))\n",
    "end\n",
    "\n",
    "println(\"\\nW_s:\")\n",
    "for w in data[:nW], t in data[:nt]\n",
    "    println(\"W_s[$w, $t]: \", value(vars[:W_s][w, t]))\n",
    "end\n",
    "\n",
    "println(\"\\nr_U:\")\n",
    "for p in data[:nP], s in data[:nS], t in data[:nt]\n",
    "    println(\"r_U[$p, $s, $t]: \", value(vars[:r_U][p, s, t]))\n",
    "end\n",
    "\n",
    "println(\"\\nr_D:\")\n",
    "for p in data[:nP], s in data[:nS], t in data[:nt]\n",
    "    println(\"r_D[$p, $s, $t]: \", value(vars[:r_D][p, s, t]))\n",
    "end\n",
    "\n",
    "println(\"\\nLoad\")\n",
    "for l in data[:nL]\n",
    "    print(\"L[$l]:\", data[:L][l])\n",
    "end\n",
    "\n",
    "print(\"\\n\\nsum:\", sum(data[:L]))\n",
    "\n"
   ]
  },
  {
   "cell_type": "code",
   "execution_count": null,
   "metadata": {},
   "outputs": [],
   "source": []
  }
 ],
 "metadata": {
  "kernelspec": {
   "display_name": "Julia 1.10.0",
   "language": "julia",
   "name": "julia-1.10"
  },
  "language_info": {
   "file_extension": ".jl",
   "mimetype": "application/julia",
   "name": "julia",
   "version": "1.10.0"
  },
  "toc": {
   "base_numbering": 1,
   "nav_menu": {},
   "number_sections": true,
   "sideBar": true,
   "skip_h1_title": false,
   "title_cell": "Table of Contents",
   "title_sidebar": "Contents",
   "toc_cell": true,
   "toc_position": {},
   "toc_section_display": true,
   "toc_window_display": false
  }
 },
 "nbformat": 4,
 "nbformat_minor": 4
}
