{
 "cells": [
  {
   "cell_type": "markdown",
   "metadata": {
    "toc": true
   },
   "source": [
    "<h1>Table of Contents<span class=\"tocSkip\"></span></h1>\n",
    "<div class=\"toc\"><ul class=\"toc-item\"></ul></div>"
   ]
  },
  {
   "cell_type": "markdown",
   "metadata": {},
   "source": [
    "\"\"\"\n",
    "using Pkg; Pkg.activate(\".\")\n",
    "Pkg.instantiate()\n",
    "\"\"\""
   ]
  },
  {
   "cell_type": "code",
   "execution_count": null,
   "metadata": {},
   "outputs": [],
   "source": [
    "using JuMP,HiGHS,DataFrames\n"
   ]
  },
  {
   "cell_type": "code",
   "execution_count": null,
   "metadata": {},
   "outputs": [],
   "source": [
    "#I=1:3                                  #number of generation units\n",
    "#Q=1:1                                  #number of stochastic generation units\n",
    "#T=1:1                                  #number of time intervalls \n",
    "#Ω=1:2                                  #number of scenarios\n",
    "#J=1:2                                  #number of loads\n",
    "#Λ=1:1                                  #number of buses\n",
    "#C=[100, 80, 50]                         #unit cost of generation\n",
    "#C_RU=[20, 10, 15]                       #cost of up reserve commitment\n",
    "#C_RD=[25, 15, 15]                       #cost of down reserve commitment\n",
    "#C_U=[10, 15, 20]                        #cost of up reserve commitment\n",
    "#C_D=[30, 10, 15]                        #cost of down reserve commitment\n",
    "#π=[0.7, 0.3]                           #probabilities of the scenarios\n",
    "#V_LOL=[20, 25]                          #value of the lost load\n",
    "#C_cur=[15]                              #cost of curtailment at turbine\n",
    "#L= 90 .+ 30 * randn(2, 1)               #loads for every time intervall\n",
    "#W_realized = 70 .+ 15 * randn(1, 2, 1)  #create random scenarios for four time points\n",
    "#P_max=[70, 80, 150];                    #maximum production capacity\n",
    "\n",
    "N = 1:2                                #number of nodes (buses)\n",
    "I=[[1:2]; [1:1]]                           #number of generation units of node n\n",
    "Q=[[1:1]; [0]]                             #number of stochastic generation units of node n\n",
    "T=1:1                                  #number of time intervalls \n",
    "Ω=1:2                                  #number of scenarios\n",
    "J=[[1:1]; [1:1]]                           #number of loads  of node n\n",
    "Λ=[[2:2]; [1:1]]                            #set of nodes directly connected to node n\n",
    "#Λ=[[2] [1]]                            #set of nodes directly connected to node n\n",
    "C=[[10, 30], [35]]                          #unit cost of generation C[N,I]\n",
    "C_RU=[[16, 13], [10]]                       #cost of up reserve commitment C_RU[N,I]\n",
    "C_RD=[[15, 12], [9]]                        #cost of down reserve commitment C_RD[N,I]\n",
    "C_U=[[10, 30], [35]]                        #cost of up reserve commitment C_U[N,I]\n",
    "C_D=[[10, 30], [35]]                        #cost of down reserve commitment C_D[N,I]\n",
    "π=[0.6, 0.4]                           #probabilities of the scenarios\n",
    "V_LOL=[[200], [200]]                        #value of the lost load\n",
    "C_cur=[[0]] #[15]                         #cost of curtailment at turbine C_cur[N,Q]\n",
    "L= [[40], [100]]               #loads for every time intervall L=[N] [J,T]\n",
    "W_realized = [[[50] [10]] [[50] [10]] [[50] [10]]] #create random scenarios for four time points q,ω,t\n",
    "#[[[111 112] [121 122]] [[211 212] [221 222]] [[311 312] [321 322]]]\n",
    "P_max=[[50, 110], [100]];                   #maximum production capacity\n",
    "b = [[1, 1/0.13], [1/0.13, 1]]                     #line susceptance (loss of transmission)\n",
    "LC_Max = [[0, 100], [100, 0]]          #maximum transmission quantity between two buses [n][ℓ]\n",
    "print(C[2][1])"
   ]
  },
  {
   "cell_type": "code",
   "execution_count": null,
   "metadata": {},
   "outputs": [],
   "source": [
    "data= Dict(\n",
    "    :N => N,\n",
    "    :I => I,\n",
    "    :Q => Q,\n",
    "    :T => T,\n",
    "    :Ω => Ω,\n",
    "    :J => J,\n",
    "    :Λ => Λ,\n",
    "    :C => C,\n",
    "    :C_RU => C_RU,\n",
    "    :C_RD => C_RD,\n",
    "    :C_U => C_U,\n",
    "    :C_D => C_D,\n",
    "    :π => π,\n",
    "    :V_LOL => V_LOL,\n",
    "    :C_cur => C_cur,\n",
    "    :L => L,\n",
    "    :W_realized => W_realized,\n",
    "    :P_max => P_max,\n",
    "    :b => b,\n",
    "    :LC_Max => LC_Max\n",
    "    );\n",
    "#print(W_realized[1,2,1])"
   ]
  },
  {
   "cell_type": "code",
   "execution_count": null,
   "metadata": {},
   "outputs": [],
   "source": [
    "print(data[:Ω])"
   ]
  },
  {
   "cell_type": "code",
   "execution_count": null,
   "metadata": {},
   "outputs": [],
   "source": [
    "function init_variables(model::JuMP.Model)\n",
    "    #P=@variable(model, P[n in data[:N], i in data[:I], t in data[:T]; i in (data[:I])[n]] >= 0)\n",
    "    #P = @variable(model, P[n in data[:N], i in I, t in data[:T]] >= 0)\n",
    "\n",
    "    P=@variable(model, P[n in data[:N], i in data[:I][n], t in data[:T]] >=0) #energy generated\n",
    "    R_U=@variable(model, R_U[n in data[:N], i in data[:I][n], t in data[:T]] >=0) #committed upward reserve capacity of generator i\n",
    "    R_D=@variable(model, R_D[n in data[:N], i in data[:I][n], t in data[:T]] >=0) #committed downward reserve capacity of generator i\n",
    "    r_U=@variable(model, r_U[n in data[:N], i in data[:I][n], ω in data[:Ω], t in data[:T]] >=0) #up regulation of generator i in case 𝜔\n",
    "    r_D=@variable(model, r_D[n in data[:N], i in data[:I][n], ω in data[:Ω], t in data[:T]] >=0) #down regulation of generator i in case 𝜔\n",
    "    L_Shed=@variable(model, L_Shed[n in data[:N], j in data[:J][n], ω in data[:Ω], t in data[:T]] >=0) #loss of load at load demand j in case 𝜔\n",
    "    W_spill=@variable(model, W_spill[n in data[:N], q in data[:Q][n], ω in data[:Ω], t in data[:T]] >=0) #curtailment of turbine q in case 𝜔\n",
    "    W_s=@variable(model, W_s[n in data[:N], q in data[:Q][n], t in data[:T]] >=0) #scheduled wind power generation at turbine q\n",
    "    𝛿=@variable(model, 𝛿[n in data[:N], ℓ in data[:Λ][n], t in data[:T]]) #voltage angle\n",
    "    PF=@variable(model, PF[n in data[:N], ℓ in data[:Λ][n], t in data[:T]]) #power flow\n",
    "    PF_scenario=@variable(model, PF_scenario[ω in data[:Ω], n in data[:N], ℓ in data[:Λ][n], t in data[:T]]) #power flow scenario\n",
    "    \n",
    "    vars= Dict(\n",
    "        :P => P,\n",
    "        :R_U => R_U,\n",
    "        :R_D => R_D,\n",
    "        :r_U => r_U,\n",
    "        :r_D => r_D,\n",
    "        :L_Shed => L_Shed,\n",
    "        :W_spill => W_spill,\n",
    "        :W_s => W_s,\n",
    "        :𝛿 => 𝛿\n",
    "        :PF => PF\n",
    "        :PF_scenario => PF_scenario\n",
    "    )\n",
    "    \n",
    "    return vars\n",
    "end;\n"
   ]
  },
  {
   "cell_type": "code",
   "execution_count": null,
   "metadata": {},
   "outputs": [],
   "source": [
    "print(data[:L][2][1,1])"
   ]
  },
  {
   "cell_type": "code",
   "execution_count": null,
   "metadata": {},
   "outputs": [],
   "source": [
    "function init_constraints(model::JuMP.Model, data::Dict, vars::Dict)\n",
    "    @constraints(model, begin \n",
    "            c1[n in data[:N],i in data[:I][n], t in data[:T]], vars[:P][n, i, t]+ vars[:R_U][n, i, t]<= data[:P_max][n][i]\n",
    "            c2[n in data[:N],i in data[:I][n] ,t in data[:T]], vars[:P][n, i, t]- vars[:R_D][n, i, t]>= 0\n",
    "            c3[n in data[:N],i in data[:I][n], t in data[:T], ω in data[:Ω]], vars[:r_U][n, i, ω, t] <= vars[:R_U][n,i,t]\n",
    "            c4[n in data[:N],i in data[:I][n], t in data[:T], ω in data[:Ω]], vars[:r_D][n, i, ω, t] <= vars[:R_D][n,i,t]\n",
    "            \n",
    "            c5[ω in data[:Ω], n in data[:N], ℓ in data[:Λ][n], t in data[:T]], vars[:PF_scenario][ω, n, ℓ, t] <= data[:LC_Max][n][ℓ]\n",
    "            \n",
    "            c6[n in data[:N], ℓ in data[:Λ][n], t in data[:T]], vars[:PF][n, ℓ, t] <= data[:LC_Max][n][ℓ]\n",
    "            c7[ω in data[:Ω], n in data[:N], ℓ in data[:Λ][n], t in data[:T]], (vars[:𝛿][n, ℓ, t] - vars[:𝛿][ℓ, n, t]) * data[:b][n][ℓ] == vars[:PF][n, ℓ, t]\n",
    "            \n",
    "            Power_balance_day_ahead[n in data[:N], t in data[:T]], \n",
    "            sum(vars[:P][n,i,t] for i in data[:I][n]) + sum(vars[:W_s][n,q,t] for q in data[:Q][n]) - sum(data[:L][n][j,t] for j in data[:J][n]) - sum(vars[:PF][n, ℓ, t] for ℓ in data[:Λ][n]) == 0\n",
    "\n",
    "            Power_balance_at_stage[ω in data[:Ω], n in data[:N], t in data[:T]], \n",
    "            sum(vars[:r_U][n,i, ω, t] for i in data[:I][n]) -\n",
    "            sum(vars[:r_D][n,i, ω, t] for i in data[:I][n]) +\n",
    "            sum(vars[:L_Shed][n,j, ω, t] for j in data[:J][n]) +\n",
    "            sum(data[:W_realized][n][q,ω,t] -vars[:W_s][n,q,t] - vars[:W_spill][n,q,ω,t] for q in data[:Q][n]) -\n",
    "            sum(vars[:PF_scenario][ω, n, ℓ, t] for ℓ in data[:Λ][n]) +\n",
    "            sum(vars[:PF][n, ℓ, t] for ℓ in data[:Λ][n]) == 0 \n",
    "    end)\n",
    "end;\n"
   ]
  },
  {
   "cell_type": "code",
   "execution_count": null,
   "metadata": {},
   "outputs": [],
   "source": [
    "function init_obj_function(model, data, vars)\n",
    "    @objective(model, Min, sum(vars[:P][n,i,t]* data[:C][n][i] + vars[:R_U][n,i,t] * data[:C_RU][n][i] + vars[:R_D][n,i,t] * data[:C_RD][n][i] for n in data[:N], i in data[:I][n], t in data[:T]) +\n",
    "    sum(π[ω] * (sum(data[:C_U][n][i] * vars[:r_U][n,i, ω ,t] + data[:C_D][n][i] * vars[:r_D][n,i, ω, t] for i in data[:I][n]) +\n",
    "                sum(data[:C_cur][n][q] * vars[:W_spill][n,q, ω, t] for q in data[:Q][n]) +\n",
    "                sum(data[:V_LOL][n][j] * vars[:L_Shed][n, j, ω, t] for j in data[:J][n])) for n in data[:N], ω in data[:Ω], t in data[:T])\n",
    "    )\n",
    "end;"
   ]
  },
  {
   "cell_type": "code",
   "execution_count": null,
   "metadata": {},
   "outputs": [],
   "source": [
    "model=Model(HiGHS.Optimizer)\n",
    "vars=init_variables(model)\n",
    "init_constraints(model, data, vars)\n",
    "init_obj_function(model, data, vars)\n",
    "print(model)"
   ]
  },
  {
   "cell_type": "code",
   "execution_count": null,
   "metadata": {},
   "outputs": [],
   "source": [
    "optimize!(model)"
   ]
  },
  {
   "cell_type": "code",
   "execution_count": null,
   "metadata": {},
   "outputs": [],
   "source": [
    "# Print the values of the variables\n",
    "println(\"Variable values:\")\n",
    "println(\"P:\")\n",
    "for i in data[:I], t in data[:T]\n",
    "    println(\"P[$i]: \", value(vars[:P][i, t]))\n",
    "end\n",
    "\n",
    "println(\"\\nR_U:\")\n",
    "for i in data[:I], t in data[:T]\n",
    "    println(\"R_U[$i]: \", value(vars[:R_U][i, t]))\n",
    "end\n",
    "\n",
    "println(\"\\nR_D:\")\n",
    "for i in data[:I], t in data[:T]\n",
    "    println(\"R_D[$i]: \", value(vars[:R_D][i, t]))end\n",
    "\n",
    "println(\"\\nL_Shed:\")\n",
    "for j in data[:J], ω in data[:Ω], t in data[:T]\n",
    "    println(\"L_Shed[$j, $ω, $t]: \", value(vars[:L_Shed][j, ω, t]))\n",
    "end\n",
    "\n",
    "println(\"\\nW_spill:\")\n",
    "for q in data[:Q], ω in data[:Ω], t in data[:T]\n",
    "    println(\"W_spill[$q, $ω, $t]: \", value(vars[:W_spill][q, ω, t]))\n",
    "end\n",
    "\n",
    "println(\"\\nW_realized:\")\n",
    "for q in data[:Q], ω in data[:Ω], t in data[:T]\n",
    "    println(\"W_realized[$q, $ω, $t]: \", value(data[:W_realized][q, ω, t]))\n",
    "end\n",
    "\n",
    "println(\"\\nW_s:\")\n",
    "for q in data[:Q], t in data[:T]\n",
    "    println(\"W_s[$q, $t]: \", value(vars[:W_s][q, t]))\n",
    "end\n",
    "\n",
    "println(\"\\nr_U:\")\n",
    "for i in data[:I], ω in data[:Ω], t in data[:T]\n",
    "    println(\"r_U[$i, $ω, $t]: \", value(vars[:r_U][i, ω, t]))\n",
    "end\n",
    "\n",
    "println(\"\\nr_D:\")\n",
    "for i in data[:I], ω in data[:Ω], t in data[:T]\n",
    "    println(\"r_D[$i, $ω, $t]: \", value(vars[:r_D][i, ω, t]))\n",
    "end\n",
    "\n",
    "println(\"\\nLoad\")\n",
    "for j in data[:J]\n",
    "    print(\"L[$j]:\", data[:L][j])\n",
    "end\n",
    "\n",
    "print(\"\\n\\nsum:\", sum(data[:L]))\n",
    "\n",
    "\"\"\"\n",
    "print(\"Day-ahead Energy Cost\" & sum(value(vars[:P][i,t])* C[i] for i in data[:I], t in data[:T]))\n",
    "\n",
    "print(\"Reserve capacity costs\" & vars[:R_U][i,t] * C_RU[i] + vars[:R_D][i,t] * C_RD[i] for i in data[:I], t in data[:T])\n",
    "\n",
    "print(\"Balancing costs in scenarios\" & sum(π[ω] * (sum(data[:C_U][i] * vars[:r_U][i, ω ,t] + data[:C_D][i] * vars[:r_D][i, ω, t] for i in data[:I], t in data[:T]) +\n",
    "            sum(data[:C_cur][q] * vars[:W_spill][q, ω, t] for q in data[:Q], t in data[:T]) \n",
    "            + sum(data[:V_LOL][j] * vars[:L_Shed][j, ω, t] for j in data[:J], t in data[:T])) for ω in data[:Ω]))\n",
    "\"\"\""
   ]
  }
 ],
 "metadata": {
  "kernelspec": {
   "display_name": "Julia 1.9.4",
   "language": "julia",
   "name": "julia-1.9"
  },
  "language_info": {
   "codemirror_mode": {
    "name": "ipython",
    "version": 3
   },
   "file_extension": ".py",
   "mimetype": "text/x-python",
   "name": "python",
   "nbconvert_exporter": "python",
   "pygments_lexer": "ipython3",
   "version": "3.11.5"
  },
  "toc": {
   "base_numbering": 1,
   "nav_menu": {},
   "number_sections": true,
   "sideBar": true,
   "skip_h1_title": false,
   "title_cell": "Table of Contents",
   "title_sidebar": "Contents",
   "toc_cell": true,
   "toc_position": {},
   "toc_section_display": true,
   "toc_window_display": false
  }
 },
 "nbformat": 4,
 "nbformat_minor": 4
}
