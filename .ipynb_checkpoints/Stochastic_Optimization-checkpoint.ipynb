{
 "cells": [
  {
   "cell_type": "markdown",
   "metadata": {
    "toc": true
   },
   "source": [
    "<h1>Table of Contents<span class=\"tocSkip\"></span></h1>\n",
    "<div class=\"toc\"><ul class=\"toc-item\"><li><span><a href=\"#Stochastic-Optimization\" data-toc-modified-id=\"Stochastic-Optimization-1\"><span class=\"toc-item-num\">1&nbsp;&nbsp;</span>Stochastic Optimization</a></span><ul class=\"toc-item\"><li><ul class=\"toc-item\"><li><span><a href=\"#Data-Imports\" data-toc-modified-id=\"Data-Imports-1.0.1\"><span class=\"toc-item-num\">1.0.1&nbsp;&nbsp;</span>Data Imports</a></span></li><li><span><a href=\"#Functions-for-Variables-and-Constraints\" data-toc-modified-id=\"Functions-for-Variables-and-Constraints-1.0.2\"><span class=\"toc-item-num\">1.0.2&nbsp;&nbsp;</span>Functions for Variables and Constraints</a></span></li><li><span><a href=\"#Model-Creation\" data-toc-modified-id=\"Model-Creation-1.0.3\"><span class=\"toc-item-num\">1.0.3&nbsp;&nbsp;</span>Model Creation</a></span></li></ul></li></ul></li><li><span><a href=\"#Robust-Optimization\" data-toc-modified-id=\"Robust-Optimization-2\"><span class=\"toc-item-num\">2&nbsp;&nbsp;</span>Robust Optimization</a></span></li></ul></div>"
   ]
  },
  {
   "cell_type": "markdown",
   "metadata": {},
   "source": [
    "# Stochastic Optimization\n"
   ]
  },
  {
   "cell_type": "markdown",
   "metadata": {},
   "source": [
    "Stochastic optimization model used to solve the two-stage problem"
   ]
  },
  {
   "cell_type": "code",
   "execution_count": 1,
   "metadata": {},
   "outputs": [],
   "source": [
    "using JuMP,HiGHS,DataFrames\n",
    "using CSV\n",
    "using DataFrames"
   ]
  },
  {
   "cell_type": "markdown",
   "metadata": {},
   "source": [
    "### Data Imports"
   ]
  },
  {
   "cell_type": "code",
   "execution_count": 2,
   "metadata": {
    "scrolled": true
   },
   "outputs": [
    {
     "data": {
      "text/html": [
       "<div><div style = \"float: left;\"><span>2×2 DataFrame</span></div><div style = \"clear: both;\"></div></div><div class = \"data-frame\" style = \"overflow-x: scroll;\"><table class = \"data-frame\" style = \"margin-bottom: 6px;\"><thead><tr class = \"header\"><th class = \"rowNumber\" style = \"font-weight: bold; text-align: right;\">Row</th><th style = \"text-align: left;\">Omega</th><th style = \"text-align: left;\">Pi</th></tr><tr class = \"subheader headerLastRow\"><th class = \"rowNumber\" style = \"font-weight: bold; text-align: right;\"></th><th title = \"Int64\" style = \"text-align: left;\">Int64</th><th title = \"Float64\" style = \"text-align: left;\">Float64</th></tr></thead><tbody><tr><td class = \"rowNumber\" style = \"font-weight: bold; text-align: right;\">1</td><td style = \"text-align: right;\">1</td><td style = \"text-align: right;\">0.6</td></tr><tr><td class = \"rowNumber\" style = \"font-weight: bold; text-align: right;\">2</td><td style = \"text-align: right;\">2</td><td style = \"text-align: right;\">0.4</td></tr></tbody></table></div>"
      ],
      "text/latex": [
       "\\begin{tabular}{r|cc}\n",
       "\t& Omega & Pi\\\\\n",
       "\t\\hline\n",
       "\t& Int64 & Float64\\\\\n",
       "\t\\hline\n",
       "\t1 & 1 & 0.6 \\\\\n",
       "\t2 & 2 & 0.4 \\\\\n",
       "\\end{tabular}\n"
      ],
      "text/plain": [
       "\u001b[1m2×2 DataFrame\u001b[0m\n",
       "\u001b[1m Row \u001b[0m│\u001b[1m Omega \u001b[0m\u001b[1m Pi      \u001b[0m\n",
       "     │\u001b[90m Int64 \u001b[0m\u001b[90m Float64 \u001b[0m\n",
       "─────┼────────────────\n",
       "   1 │     1      0.6\n",
       "   2 │     2      0.4"
      ]
     },
     "execution_count": 2,
     "metadata": {},
     "output_type": "execute_result"
    }
   ],
   "source": [
    "# \"2_buses_\" or \"24_buses_\"\n",
    "dateiStart = \"2_buses_\"\n",
    "\n",
    "# Import data about buses\n",
    "df_buses = CSV.read(string(\"data/\",dateiStart,\"paperdata.csv\"), DataFrame,types=Dict(\"C\" => String,\"I\" => String, \"C_cur\" => String, \"Lambda\" => String))\n",
    "#Import demand data\n",
    "df_demands = CSV.read(string(\"data/\",dateiStart,\"demand.csv\"), DataFrame)\n",
    "# Import the realized wind energy\n",
    "df_realizedEnergy = CSV.read(string(\"data/\",dateiStart,\"realizedEnergy.csv\"), DataFrame)\n",
    "# Import the remaining data\n",
    "df_other = CSV.read(string(\"data/\",dateiStart,\"other_data.csv\"), DataFrame)"
   ]
  },
  {
   "cell_type": "code",
   "execution_count": 3,
   "metadata": {},
   "outputs": [
    {
     "data": {
      "text/plain": [
       "array_to_dict"
      ]
     },
     "execution_count": 3,
     "metadata": {},
     "output_type": "execute_result"
    }
   ],
   "source": [
    "\"\"\"\n",
    "Transforms indices into range for lists of objects (such as generation units)\n",
    "Input of 0 or empty cells is translated to no objects (i.e. empty array)\n",
    "\"\"\"\n",
    "function string_to_range(s)\n",
    "    # Check if s is missing or a string that represents an empty cell\n",
    "    if s == \"missing\" || s == \"0\"\n",
    "        return Int[]  # Return an empty array of Int type\n",
    "    else\n",
    "        str = string(s)  # Convert to string if not already\n",
    "        nums = split(str, \";\")  # Split the string by comma\n",
    "        nums = parse.(Int, nums)  # Parse each part to an integer\n",
    "        return minimum(nums):maximum(nums)  # Return the range\n",
    "    end\n",
    "end\n",
    "\n",
    "\"\"\"\n",
    "Transforms indices into array of values (such as generation costs per unit for each generation unit)\n",
    "Input of missing cells is translated to no values (i.e. empty array)\n",
    "Input of 0 is translated to 0 since it can be a coefficient\n",
    "\"\"\"\n",
    "function string_to_array(s)\n",
    "    # Check if s is missing or a string that represents an empty cell\n",
    "    #if s == \"0\" return 0  # Return an empty array of Float64 type\n",
    "\n",
    "    if s == \"missing\"\n",
    "        return Float64[]\n",
    "    else\n",
    "        str = string(s)  # Convert to string if not already\n",
    "        nums = split(str, \";\")  # Split the string by semicolon\n",
    "        nums = parse.(Float64, nums)  # Parse each part to a float\n",
    "        return nums  # Return the array of floats\n",
    "    end\n",
    "end\n",
    "\"\"\"\n",
    "Transforms a range and an array into one dictionary\n",
    "\"\"\"\n",
    "function array_to_dict(keys::AbstractVector{T}, values::AbstractVector{S}) where {T,S}\n",
    "    # Überprüfen, ob die Länge der Arrays gleich ist\n",
    "    if length(keys) != length(values)\n",
    "        throw(ArgumentError(\"Die Länge der Arrays muss gleich sein\"))\n",
    "    end\n",
    "\n",
    "    # Initialisierung des leeren Dictionary\n",
    "    result_dict = Dict{T,S}()\n",
    "\n",
    "    # Hinzufügen von Schlüssel-Wert-Paaren zum Dictionary\n",
    "    for i in 1:length(keys)\n",
    "        result_dict[keys[i]] = values[i]\n",
    "    end\n",
    "\n",
    "    return result_dict\n",
    "end\n"
   ]
  },
  {
   "cell_type": "code",
   "execution_count": 4,
   "metadata": {},
   "outputs": [
    {
     "name": "stdout",
     "output_type": "stream",
     "text": [
      "Float64[]\n",
      "Dict{Any, Any}()"
     ]
    }
   ],
   "source": [
    "# Create an empty dictionary to hold all nodes\n",
    "data = Dict()\n",
    "\n",
    "# Iterate over the range of nodes\n",
    "for singleNode in eachrow(df_buses)\n",
    "    # Create a dictionary for the current node with all other variables\n",
    "    data_node = Dict(\n",
    "        :I => string_to_array(string.(singleNode.I)),\n",
    "        :Q => string_to_array(string.(singleNode.Q)),\n",
    "        :J => string_to_array(string.(singleNode.J)),\n",
    "        :Λ => string_to_array(string.(singleNode.Lambda)),\n",
    "        :C_save => string_to_array(string(singleNode.C)) ,\n",
    "        :C_RU_save => string_to_array(string(singleNode.C_RU)),\n",
    "        :C_RD_save => string_to_array(string(singleNode.C_RD)),\n",
    "        :C_U_save => string_to_array(string(singleNode.C_U)),\n",
    "        :C_D_save => string_to_array(string(singleNode.C_D)),\n",
    "        :V_LOL_save => string_to_array(string(singleNode.V_LOL)),\n",
    "        :C_cur_save => string_to_array(string(singleNode.C_cur)),\n",
    "        :P_max_save => string_to_array(string(singleNode.P_max)),\n",
    "        :b_save => string_to_array(string(singleNode.b)),\n",
    "        :LC_Max_save => string_to_array(string(singleNode.LC_Max)),\n",
    "        :W_s_save => string_to_array(string(singleNode.W_s)),\n",
    "        :W_d_max_save => string_to_array(string(singleNode.W_d_max)),\n",
    "        :W_s => Dict(),\n",
    "        :W_d_min => Dict(),\n",
    "        :W_d_max => Dict(),\n",
    "        :L_save => Dict(),\n",
    "        :C => Dict(),\n",
    "        :C_RU => Dict(),\n",
    "        :C_RD => Dict(),\n",
    "        :C_U => Dict(),\n",
    "        :C_D => Dict(),\n",
    "        :P_max => Dict(),\n",
    "        :C_cur => Dict(),\n",
    "        :b => Dict(),\n",
    "        :LC_Max => Dict(),\n",
    "        :V_LOL => Dict(),\n",
    "        :Ω => 0,\n",
    "        :T => 1:1,\n",
    "    )    \n",
    "    # Assign the dictionary to the current node key\n",
    "    data[singleNode.Node] = data_node\n",
    "end\n",
    "\n",
    "println(data[2][:Q])\n",
    "print(data[1][:W_s])\n"
   ]
  },
  {
   "cell_type": "code",
   "execution_count": 5,
   "metadata": {},
   "outputs": [],
   "source": [
    "for singleNode in keys(data)\n",
    "    # Create a dictionary for the current node with all other variables\n",
    "    data[singleNode][:C] = array_to_dict(data[singleNode][:I], data[singleNode][:C_save])\n",
    "    data[singleNode][:C_RU] = array_to_dict(data[singleNode][:I], data[singleNode][:C_RU_save])\n",
    "    data[singleNode][:C_RD] = array_to_dict(data[singleNode][:I], data[singleNode][:C_RD_save])\n",
    "    data[singleNode][:C_U] = array_to_dict(data[singleNode][:I], data[singleNode][:C_U_save])\n",
    "    data[singleNode][:C_D] = array_to_dict(data[singleNode][:I], data[singleNode][:C_D_save])\n",
    "    data[singleNode][:P_max] = array_to_dict(data[singleNode][:I], data[singleNode][:P_max_save])\n",
    "    data[singleNode][:C_cur] = array_to_dict(data[singleNode][:Q], data[singleNode][:C_cur_save])\n",
    "    data[singleNode][:b] = array_to_dict(data[singleNode][:Λ], data[singleNode][:b_save])\n",
    "    data[singleNode][:LC_Max] = array_to_dict(data[singleNode][:Λ], data[singleNode][:LC_Max_save])\n",
    "    data[singleNode][:V_LOL] = array_to_dict(data[singleNode][:J], data[singleNode][:V_LOL_save])\n",
    "    data[singleNode][:W_s]= array_to_dict(data[singleNode][:Q], data[singleNode][:W_s_save])\n",
    "    data[singleNode][:W_d_max]= array_to_dict(data[singleNode][:Q], data[singleNode][:W_d_max_save])\n",
    "end"
   ]
  },
  {
   "cell_type": "code",
   "execution_count": 6,
   "metadata": {},
   "outputs": [],
   "source": [
    "#Create dictionary for alle demands dependent on node and load -> array with different times\n",
    "knownLoads = []\n",
    "demands = Dict()\n",
    "defaultPeriods = 1\n",
    "for singleNode in eachrow(df_demands)\n",
    "    data_node = Dict(\n",
    "        :L => string_to_array(string(singleNode.Demands)),\n",
    "    )    \n",
    "    if  singleNode.Node ∉ knownLoads\n",
    "        demands = Dict()\n",
    "    end\n",
    "    push!(knownLoads, singleNode.Node)\n",
    "\n",
    "    demands[singleNode.Loads] = data_node\n",
    "    data[singleNode.Node][:L] = demands\n",
    "    \n",
    "    data[singleNode.Node][:T] = 1 : singleNode.Periods\n",
    "    if defaultPeriods < singleNode.Periods\n",
    "        defaultPeriods = singleNode.Periods\n",
    "    end\n",
    "end\n",
    "\n",
    "#Fill periods of Nodes without demands -> Set Default Value\n",
    "for singleNode in keys(data)\n",
    "    #if data[singleNode][:T] === nothing\n",
    "        data[singleNode][:T] = minimum(1):maximum(defaultPeriods)\n",
    "    #end\n",
    "end\n"
   ]
  },
  {
   "cell_type": "code",
   "execution_count": 7,
   "metadata": {},
   "outputs": [],
   "source": [
    "#create dictionary with all scenarios\n",
    "scenarios = Dict()\n",
    "for singleNode in eachrow(df_other)\n",
    "    data_node = Dict(\n",
    "        :π => singleNode.Pi,\n",
    "    )\n",
    "    scenarios[singleNode.Omega] = data_node\n",
    "end\n",
    "\n",
    "#create dictionary with all realized Energy from wind turbine dependent on node, wind turbine, scenario -> array with different times\n",
    "windenergy = Dict()\n",
    "data_Omega = Dict()\n",
    "for singleNode in eachrow(df_realizedEnergy)\n",
    "    data_node = Dict(\n",
    "        :W_realized => string_to_array(string(singleNode.energy)),\n",
    "    )\n",
    "    if ! haskey(windenergy, singleNode.Q)\n",
    "        data_Omega = Dict()\n",
    "    end\n",
    "    data_Omega[singleNode.Omega] = data_node\n",
    "    windenergy[singleNode.Q] = data_Omega\n",
    "    data[singleNode.Node][:Windenergy] = windenergy\n",
    "end\n"
   ]
  },
  {
   "cell_type": "code",
   "execution_count": 8,
   "metadata": {},
   "outputs": [],
   "source": [
    "#Float muss in Integer umgewandelt werden\n",
    "for value in keys(data)\n",
    "    data[value][:Λ]  = round.(Int, data[value][:Λ])\n",
    "end"
   ]
  },
  {
   "cell_type": "markdown",
   "metadata": {},
   "source": [
    "### Functions for Variables and Constraints"
   ]
  },
  {
   "cell_type": "code",
   "execution_count": 9,
   "metadata": {},
   "outputs": [],
   "source": [
    "# Initializes variables\n",
    "function init_variables(model::JuMP.Model)\n",
    "    P=@variable(model, P[n in keys(data), i in data[n][:I], t in data[n][:T]] >=0) #energy generated\n",
    "    R_U=@variable(model, R_U[n in keys(data), i in data[n][:I], t in data[n][:T]] >=0) #committed upward reserve capacity of generator i\n",
    "    R_D=@variable(model, R_D[n in keys(data), i in data[n][:I], t in data[n][:T]] >=0) #committed downward reserve capacity of generator i\n",
    "    r_U=@variable(model, r_U[n in keys(data), i in data[n][:I], ω in keys(scenarios), t in data[n][:T]] >=0) #up regulation of generator i in case 𝜔\n",
    "    r_D=@variable(model, r_D[n in keys(data), i in data[n][:I], ω in keys(scenarios), t in data[n][:T]] >=0) #down regulation of generator i in case 𝜔\n",
    "    L_Shed=@variable(model, L_Shed[n in keys(data), j in data[n][:J], ω in keys(scenarios), t in data[n][:T]] >=0) #loss of load at load demand j in case 𝜔\n",
    "    W_spill=@variable(model, W_spill[n in keys(data), q in data[n][:Q], ω in keys(scenarios), t in data[n][:T]] >=0) #curtailment of turbine q in case 𝜔\n",
    "    W_s=@variable(model, W_s[n in keys(data), q in data[n][:Q], t in data[n][:T]] >=0) #scheduled wind power generation at turbine q\n",
    "    𝛿=@variable(model, 𝛿[n in keys(data), t in data[n][:T]] >=0) #voltage angle\n",
    "    𝛿_scenario=@variable(model, 𝛿_scenario[n in keys(data), ω in keys(scenarios),t in data[n][:T]] >=0) #voltage angle in case 𝜔\n",
    "    PF=@variable(model, PF[n in keys(data), ℓ in data[n][:Λ], t in data[n][:T]]) #power flow\n",
    "    PF_scenario=@variable(model, PF_scenario[n in keys(data), ℓ in data[n][:Λ], ω in keys(scenarios), t in data[n][:T]]) #power flow in case 𝜔\n",
    "    \n",
    "    \n",
    "    vars= Dict(\n",
    "        :P => P,\n",
    "        :R_U => R_U,\n",
    "        :R_D => R_D,\n",
    "        :r_U => r_U,\n",
    "        :r_D => r_D,\n",
    "        :L_Shed => L_Shed,\n",
    "        :W_spill => W_spill,\n",
    "        :W_s => W_s,\n",
    "        :𝛿 => 𝛿,\n",
    "        :𝛿_scenario => 𝛿_scenario,\n",
    "        :PF => PF,\n",
    "        :PF_scenario => PF_scenario,\n",
    "    )    \n",
    "    return vars\n",
    "end;"
   ]
  },
  {
   "cell_type": "code",
   "execution_count": 10,
   "metadata": {},
   "outputs": [],
   "source": [
    "# Initializes constraints\n",
    "function init_constraints(model::JuMP.Model, data::Dict, vars::Dict)\n",
    "    @constraints(model, begin \n",
    "    c1[n in keys(data),i in data[n][:I], t in data[n][:T]], vars[:P][n, i, t]+ vars[:R_U][n, i, t]<= data[n][:P_max][i]\n",
    "    \n",
    "    c2[n in keys(data),i in data[n][:I] ,t in data[n][:T]], vars[:P][n, i, t]- vars[:R_D][n, i, t]>= 0\n",
    "    c3[n in keys(data),i in data[n][:I], t in data[n][:T], ω in keys(scenarios)], vars[:r_U][n, i, ω, t] <= vars[:R_U][n,i,t]\n",
    "    c4[n in keys(data),i in data[n][:I], t in data[n][:T], ω in keys(scenarios)], vars[:r_D][n, i, ω, t] <= vars[:R_D][n,i,t]\n",
    "    c5[n in keys(data), ℓ in data[n][:Λ], t in data[n][:T]], vars[:PF][n, ℓ, t] <= data[n][:LC_Max][ℓ]\n",
    "    c5_scenario[ω in keys(scenarios), n in keys(data), ℓ in data[n][:Λ], t in data[n][:T]], vars[:PF_scenario][n, ℓ, ω, t] <= data[n][:LC_Max][ℓ]\n",
    "    \n",
    "    c6[n in keys(data), ℓ in data[n][:Λ], t in data[n][:T]], (vars[:𝛿][n, t] - vars[:𝛿][ℓ, t]) * 1 / data[n][:b][ℓ]  == vars[:PF][n, ℓ, t]\n",
    "    c6_scenario[ω in keys(scenarios), n in keys(data), ℓ in data[n][:Λ], t in data[n][:T]], (vars[:𝛿_scenario][n, ω, t] - vars[:𝛿_scenario][ℓ, ω, t]) * 1 / data[n][:b][ℓ] == vars[:PF_scenario][n, ℓ, ω, t]\n",
    "       \n",
    "    #steht im Lehrbuch, aber macht keinen Sinn -> muss auskommentiert bleiben\n",
    "    #c8[n in keys(data), t in data[n][:T]], vars[:𝛿][n, data[n][:Λ][1], t] == 0\n",
    "    #c81[ω in keys(scenarios), n in keys(data), t in data[n][:T]], vars[:𝛿_scenario][ω, n, data[n][:Λ][1], t] == 0\n",
    "    #c11, vars[:𝛿][1,2,1]==0  ### hard coded\n",
    "    #c12[ω in keys(scenarios)], vars[:𝛿_scenario][1,2,ω,1]==0 ### hard coded\n",
    "    \n",
    "    c9[ω in keys(scenarios), n in keys(data),t in data[n][:T], q in data[n][:Q]], vars[:W_spill][n,q,ω,t] <= data[n][:Windenergy][q][ω][:W_realized][t]\n",
    "    c10[ω in keys(scenarios), n in keys(data),t in data[n][:T], j in data[n][:J]], vars[:L_Shed][n,j, ω, t] <= data[n][:L][j][:L][t]\n",
    "\n",
    "    Power_balance_day_ahead[n in keys(data), t in data[n][:T]], \n",
    "    sum(vars[:P][n,i,t] for i in data[n][:I]) + sum(vars[:W_s][n,q,t] for q in data[n][:Q]) - sum(data[n][:L][j][:L][t] for j in data[n][:J]) - sum(vars[:PF][n, ℓ, t] for ℓ in data[n][:Λ]) == 0\n",
    "\n",
    "    Power_balance_at_stage[ω in keys(scenarios), n in keys(data), t in data[n][:T]], \n",
    "    sum(vars[:r_U][n,i, ω, t] for i in data[n][:I]) -\n",
    "    sum(vars[:r_D][n,i, ω, t] for i in data[n][:I]) +\n",
    "    sum(vars[:L_Shed][n,j, ω, t] for j in data[n][:J]) +\n",
    "    sum(data[n][:Windenergy][q][ω][:W_realized][t] -vars[:W_s][n,q,t] - vars[:W_spill][n,q,ω,t] for q in data[n][:Q]) -\n",
    "    sum(vars[:PF_scenario][n, ℓ, ω, t] for ℓ in data[n][:Λ]) +\n",
    "    sum(vars[:PF][n, ℓ, t] for ℓ in data[n][:Λ]) == 0\n",
    "    end)\n",
    "end;"
   ]
  },
  {
   "cell_type": "code",
   "execution_count": 11,
   "metadata": {},
   "outputs": [],
   "source": [
    "# Initializes objective function\n",
    "function init_obj_function(model, data, vars)\n",
    "    @objective(model, Min, sum(vars[:P][n,i,t]* data[n][:C][i] + vars[:R_U][n,i,t] * data[n][:C_RU][i] + vars[:R_D][n,i,t] * data[n][:C_RD][i] for n in keys(data), i in data[n][:I], t in data[n][:T]) +\n",
    "    sum(scenarios[ω][:π] * (sum(data[n][:C_U][i] * vars[:r_U][n,i, ω ,t] - data[n][:C_D][i] * vars[:r_D][n,i, ω, t] for i in data[n][:I]) +\n",
    "                sum(data[n][:C_cur][q] * vars[:W_spill][n,q, ω, t] for q in data[n][:Q]) +\n",
    "                sum(data[n][:V_LOL][j] * vars[:L_Shed][n, j, ω, t] for j in data[n][:J])) for n in keys(data), ω in keys(scenarios), t in data[n][:T])\n",
    "    )\n",
    "end;"
   ]
  },
  {
   "cell_type": "markdown",
   "metadata": {},
   "source": [
    "### Model Creation"
   ]
  },
  {
   "cell_type": "code",
   "execution_count": 12,
   "metadata": {
    "scrolled": true
   },
   "outputs": [
    {
     "name": "stdout",
     "output_type": "stream",
     "text": [
      "Dict{Symbol, JuMP.Containers.SparseAxisArray{VariableRef, N} where N}(:PF =>   [1, 2, 1]  =  PF[1,2,1]\n",
      "  [2, 1, 1]  =  PF[2,1,1], :W_s =>   [1, 1.0, 1]  =  W_s[1,1.0,1], :R_D =>   [1, 1.0, 1]  =  R_D[1,1.0,1]\n",
      "  [1, 2.0, 1]  =  R_D[1,2.0,1]\n",
      "  [2, 3.0, 1]  =  R_D[2,3.0,1], :L_Shed =>   [1, 1.0, 1, 1]  =  L_Shed[1,1.0,1,1]\n",
      "  [1, 1.0, 2, 1]  =  L_Shed[1,1.0,2,1]\n",
      "  [2, 2.0, 1, 1]  =  L_Shed[2,2.0,1,1]\n",
      "  [2, 2.0, 2, 1]  =  L_Shed[2,2.0,2,1], :PF_scenario =>   [1, 2, 1, 1]  =  PF_scenario[1,2,1,1]\n",
      "  [1, 2, 2, 1]  =  PF_scenario[1,2,2,1]\n",
      "  [2, 1, 1, 1]  =  PF_scenario[2,1,1,1]\n",
      "  [2, 1, 2, 1]  =  PF_scenario[2,1,2,1], :𝛿 =>   [1, 1]  =  𝛿[1,1]\n",
      "  [2, 1]  =  𝛿[2,1], :R_U =>   [1, 1.0, 1]  =  R_U[1,1.0,1]\n",
      "  [1, 2.0, 1]  =  R_U[1,2.0,1]\n",
      "  [2, 3.0, 1]  =  R_U[2,3.0,1], :W_spill =>   [1, 1.0, 1, 1]  =  W_spill[1,1.0,1,1]\n",
      "  [1, 1.0, 2, 1]  =  W_spill[1,1.0,2,1], :𝛿_scenario =>   [1, 1, 1]  =  𝛿_scenario[1,1,1]\n",
      "  [1, 2, 1]  =  𝛿_scenario[1,2,1]\n",
      "  [2, 1, 1]  =  𝛿_scenario[2,1,1]\n",
      "  [2, 2, 1]  =  𝛿_scenario[2,2,1], :P =>   [1, 1.0, 1]  =  P[1,1.0,1]\n",
      "  [1, 2.0, 1]  =  P[1,2.0,1]\n",
      "  [2, 3.0, 1]  =  P[2,3.0,1], :r_U =>   [1, 1.0, 1, 1]  =  r_U[1,1.0,1,1]\n",
      "  [1, 1.0, 2, 1]  =  r_U[1,1.0,2,1]\n",
      "  [1, 2.0, 1, 1]  =  r_U[1,2.0,1,1]\n",
      "  [1, 2.0, 2, 1]  =  r_U[1,2.0,2,1]\n",
      "  [2, 3.0, 1, 1]  =  r_U[2,3.0,1,1]\n",
      "  [2, 3.0, 2, 1]  =  r_U[2,3.0,2,1], :r_D =>   [1, 1.0, 1, 1]  =  r_D[1,1.0,1,1]\n",
      "  [1, 1.0, 2, 1]  =  r_D[1,1.0,2,1]\n",
      "  [1, 2.0, 1, 1]  =  r_D[1,2.0,1,1]\n",
      "  [1, 2.0, 2, 1]  =  r_D[1,2.0,2,1]\n",
      "  [2, 3.0, 1, 1]  =  r_D[2,3.0,1,1]\n",
      "  [2, 3.0, 2, 1]  =  r_D[2,3.0,2,1])"
     ]
    },
    {
     "data": {
      "text/latex": [
       "$$ \\begin{aligned}\n",
       "\\min\\quad & 35 P_{2,3.0,1} + 10 R\\_U_{2,3.0,1} + 9 R\\_D_{2,3.0,1} + 10 P_{1,1.0,1} + 16 R\\_U_{1,1.0,1} + 15 R\\_D_{1,1.0,1} + 30 P_{1,2.0,1} + 13 R\\_U_{1,2.0,1} + 12 R\\_D_{1,2.0,1} + 14 r\\_U_{2,3.0,2,1} - 14 r\\_D_{2,3.0,2,1} + 80 L\\_Shed_{2,2.0,2,1} + 21 r\\_U_{2,3.0,1,1} - 21 r\\_D_{2,3.0,1,1} + 120 L\\_Shed_{2,2.0,1,1} + 4 r\\_U_{1,1.0,2,1} - 4 r\\_D_{1,1.0,2,1} + 12 r\\_U_{1,2.0,2,1} - 12 r\\_D_{1,2.0,2,1} + 80 L\\_Shed_{1,1.0,2,1} + 6 r\\_U_{1,1.0,1,1} - 6 r\\_D_{1,1.0,1,1} + 18 r\\_U_{1,2.0,1,1} - 18 r\\_D_{1,2.0,1,1} + 120 L\\_Shed_{1,1.0,1,1}\\\\\n",
       "\\text{Subject to} \\quad & 7.692307692307692 𝛿_{2,1} - 7.692307692307692 𝛿_{1,1} - PF_{2,1,1} = 0\\\\\n",
       " & -7.692307692307692 𝛿_{2,1} + 7.692307692307692 𝛿_{1,1} - PF_{1,2,1} = 0\\\\\n",
       " & 7.692307692307692 𝛿\\_scenario_{2,2,1} - 7.692307692307692 𝛿\\_scenario_{1,2,1} - PF\\_scenario_{2,1,2,1} = 0\\\\\n",
       " & -7.692307692307692 𝛿\\_scenario_{2,2,1} + 7.692307692307692 𝛿\\_scenario_{1,2,1} - PF\\_scenario_{1,2,2,1} = 0\\\\\n",
       " & 7.692307692307692 𝛿\\_scenario_{2,1,1} - 7.692307692307692 𝛿\\_scenario_{1,1,1} - PF\\_scenario_{2,1,1,1} = 0\\\\\n",
       " & -7.692307692307692 𝛿\\_scenario_{2,1,1} + 7.692307692307692 𝛿\\_scenario_{1,1,1} - PF\\_scenario_{1,2,1,1} = 0\\\\\n",
       " & P_{2,3.0,1} - PF_{2,1,1} = 100\\\\\n",
       " & P_{1,1.0,1} + P_{1,2.0,1} + W\\_s_{1,1.0,1} - PF_{1,2,1} = 40\\\\\n",
       " & r\\_U_{2,3.0,2,1} - r\\_D_{2,3.0,2,1} + L\\_Shed_{2,2.0,2,1} + PF_{2,1,1} - PF\\_scenario_{2,1,2,1} = 0\\\\\n",
       " & r\\_U_{1,1.0,2,1} + r\\_U_{1,2.0,2,1} - r\\_D_{1,1.0,2,1} - r\\_D_{1,2.0,2,1} + L\\_Shed_{1,1.0,2,1} - W\\_spill_{1,1.0,2,1} - W\\_s_{1,1.0,1} + PF_{1,2,1} - PF\\_scenario_{1,2,2,1} = -10\\\\\n",
       " & r\\_U_{2,3.0,1,1} - r\\_D_{2,3.0,1,1} + L\\_Shed_{2,2.0,1,1} + PF_{2,1,1} - PF\\_scenario_{2,1,1,1} = 0\\\\\n",
       " & r\\_U_{1,1.0,1,1} + r\\_U_{1,2.0,1,1} - r\\_D_{1,1.0,1,1} - r\\_D_{1,2.0,1,1} + L\\_Shed_{1,1.0,1,1} - W\\_spill_{1,1.0,1,1} - W\\_s_{1,1.0,1} + PF_{1,2,1} - PF\\_scenario_{1,2,1,1} = -50\\\\\n",
       " & P_{2,3.0,1} - R\\_D_{2,3.0,1} \\geq 0\\\\\n",
       " & P_{1,1.0,1} - R\\_D_{1,1.0,1} \\geq 0\\\\\n",
       " & P_{1,2.0,1} - R\\_D_{1,2.0,1} \\geq 0\\\\\n",
       " & P_{2,3.0,1} + R\\_U_{2,3.0,1} \\leq 100\\\\\n",
       " & P_{1,1.0,1} + R\\_U_{1,1.0,1} \\leq 50\\\\\n",
       " & P_{1,2.0,1} + R\\_U_{1,2.0,1} \\leq 110\\\\\n",
       " & -R\\_U_{2,3.0,1} + r\\_U_{2,3.0,2,1} \\leq 0\\\\\n",
       " & -R\\_U_{2,3.0,1} + r\\_U_{2,3.0,1,1} \\leq 0\\\\\n",
       " & -R\\_U_{1,1.0,1} + r\\_U_{1,1.0,2,1} \\leq 0\\\\\n",
       " & -R\\_U_{1,1.0,1} + r\\_U_{1,1.0,1,1} \\leq 0\\\\\n",
       " & -R\\_U_{1,2.0,1} + r\\_U_{1,2.0,2,1} \\leq 0\\\\\n",
       " & -R\\_U_{1,2.0,1} + r\\_U_{1,2.0,1,1} \\leq 0\\\\\n",
       " & -R\\_D_{2,3.0,1} + r\\_D_{2,3.0,2,1} \\leq 0\\\\\n",
       " & -R\\_D_{2,3.0,1} + r\\_D_{2,3.0,1,1} \\leq 0\\\\\n",
       " & -R\\_D_{1,1.0,1} + r\\_D_{1,1.0,2,1} \\leq 0\\\\\n",
       " & -R\\_D_{1,1.0,1} + r\\_D_{1,1.0,1,1} \\leq 0\\\\\n",
       " & -R\\_D_{1,2.0,1} + r\\_D_{1,2.0,2,1} \\leq 0\\\\\n",
       " & -R\\_D_{1,2.0,1} + r\\_D_{1,2.0,1,1} \\leq 0\\\\\n",
       " & PF_{2,1,1} \\leq 100\\\\\n",
       " & PF_{1,2,1} \\leq 100\\\\\n",
       " & PF\\_scenario_{2,1,2,1} \\leq 100\\\\\n",
       " & PF\\_scenario_{1,2,2,1} \\leq 100\\\\\n",
       " & PF\\_scenario_{2,1,1,1} \\leq 100\\\\\n",
       " & PF\\_scenario_{1,2,1,1} \\leq 100\\\\\n",
       " & W\\_spill_{1,1.0,2,1} \\leq 10\\\\\n",
       " & W\\_spill_{1,1.0,1,1} \\leq 50\\\\\n",
       " & L\\_Shed_{2,2.0,2,1} \\leq 100\\\\\n",
       " & L\\_Shed_{1,1.0,2,1} \\leq 40\\\\\n",
       " & L\\_Shed_{2,2.0,1,1} \\leq 100\\\\\n",
       " & L\\_Shed_{1,1.0,1,1} \\leq 40\\\\\n",
       " & P_{2,3.0,1} \\geq 0\\\\\n",
       " & P_{1,1.0,1} \\geq 0\\\\\n",
       " & P_{1,2.0,1} \\geq 0\\\\\n",
       " & R\\_U_{2,3.0,1} \\geq 0\\\\\n",
       " & R\\_U_{1,1.0,1} \\geq 0\\\\\n",
       " & R\\_U_{1,2.0,1} \\geq 0\\\\\n",
       " & R\\_D_{2,3.0,1} \\geq 0\\\\\n",
       " & R\\_D_{1,1.0,1} \\geq 0\\\\\n",
       " & R\\_D_{1,2.0,1} \\geq 0\\\\\n",
       " & r\\_U_{2,3.0,2,1} \\geq 0\\\\\n",
       " & r\\_U_{2,3.0,1,1} \\geq 0\\\\\n",
       " & r\\_U_{1,1.0,2,1} \\geq 0\\\\\n",
       " & r\\_U_{1,1.0,1,1} \\geq 0\\\\\n",
       " & r\\_U_{1,2.0,2,1} \\geq 0\\\\\n",
       " & r\\_U_{1,2.0,1,1} \\geq 0\\\\\n",
       " & r\\_D_{2,3.0,2,1} \\geq 0\\\\\n",
       " & r\\_D_{2,3.0,1,1} \\geq 0\\\\\n",
       " & r\\_D_{1,1.0,2,1} \\geq 0\\\\\n",
       " & r\\_D_{1,1.0,1,1} \\geq 0\\\\\n",
       " & r\\_D_{1,2.0,2,1} \\geq 0\\\\\n",
       " & r\\_D_{1,2.0,1,1} \\geq 0\\\\\n",
       " & L\\_Shed_{2,2.0,2,1} \\geq 0\\\\\n",
       " & L\\_Shed_{2,2.0,1,1} \\geq 0\\\\\n",
       " & L\\_Shed_{1,1.0,2,1} \\geq 0\\\\\n",
       " & L\\_Shed_{1,1.0,1,1} \\geq 0\\\\\n",
       " & W\\_spill_{1,1.0,2,1} \\geq 0\\\\\n",
       " & W\\_spill_{1,1.0,1,1} \\geq 0\\\\\n",
       " & W\\_s_{1,1.0,1} \\geq 0\\\\\n",
       " & 𝛿_{2,1} \\geq 0\\\\\n",
       " & 𝛿_{1,1} \\geq 0\\\\\n",
       " & 𝛿\\_scenario_{2,2,1} \\geq 0\\\\\n",
       " & 𝛿\\_scenario_{2,1,1} \\geq 0\\\\\n",
       " & 𝛿\\_scenario_{1,2,1} \\geq 0\\\\\n",
       " & 𝛿\\_scenario_{1,1,1} \\geq 0\\\\\n",
       "\\end{aligned} $$"
      ]
     },
     "metadata": {},
     "output_type": "display_data"
    }
   ],
   "source": [
    "# Create and print model\n",
    "model=Model(HiGHS.Optimizer)\n",
    "vars=init_variables(model)\n",
    "init_constraints(model, data, vars)\n",
    "init_obj_function(model, data, vars)\n",
    "print(vars)\n",
    "print(model)"
   ]
  },
  {
   "cell_type": "code",
   "execution_count": 13,
   "metadata": {
    "scrolled": true
   },
   "outputs": [
    {
     "name": "stdout",
     "output_type": "stream",
     "text": [
      "Running HiGHS 1.6.0: Copyright (c) 2023 HiGHS under MIT licence terms\n",
      "Presolving model\n",
      "29 rows, 39 cols, 86 nonzeros\n",
      "22 rows, 29 cols, 68 nonzeros\n",
      "22 rows, 29 cols, 68 nonzeros\n",
      "Presolve : Reductions: rows 22(-20); columns 29(-11); elements 68(-32)\n",
      "Solving the presolved LP\n",
      "Using EKK dual simplex solver - serial\n",
      "  Iteration        Objective     Infeasibilities num(sum)\n",
      "          0    -8.4999773688e+01 Ph1: 11(15); Du: 7(84.9998) 0s\n",
      "         18     2.6200000000e+03 Pr: 0(0) 0s\n",
      "Solving the original LP from the solution after postsolve\n",
      "Model   status      : Optimal\n",
      "Simplex   iterations: 18\n",
      "Objective value     :  2.6200000000e+03\n",
      "HiGHS run time      :          0.00\n"
     ]
    }
   ],
   "source": [
    "optimize!(model)"
   ]
  },
  {
   "cell_type": "code",
   "execution_count": 14,
   "metadata": {},
   "outputs": [
    {
     "name": "stdout",
     "output_type": "stream",
     "text": [
      "Variable values:\n",
      "P:\n",
      "P[2, 3.0, 1]: 40.0\n",
      "P[1, 1.0, 1]: 50.0\n",
      "P[1, 2.0, 1]: 40.0\n",
      "\n",
      "R_U:\n",
      "R_U[2, 3.0, 1]: 0.0\n",
      "R_U[1, 1.0, 1]: 0.0\n",
      "R_U[1, 2.0, 1]: 0.0\n",
      "\n",
      "R_D:\n",
      "R_D[2, 3.0, 1]: 40.0\n",
      "R_D[1, 1.0, 1]: 0.0\n",
      "R_D[1, 2.0, 1]: -0.0\n",
      "\n",
      "L_Shed:\n",
      "L_Shed[2, 2.0, 2, 1]: 0.0\n",
      "L_Shed[2, 2.0, 1, 1]: 0.0\n",
      "L_Shed[1, 1.0, 2, 1]: 0.0\n",
      "L_Shed[1, 1.0, 1, 1]: 0.0\n",
      "\n",
      "W_spill:\n",
      "W_spill[1, 1.0, 2, 1]: 0.0\n",
      "W_spill[1, 1.0, 1, 1]: 0.0\n",
      "\n",
      "W_s:\n",
      "W_s[1, 1.0, 1]: 10.0\n",
      "\n",
      "PF[n, ℓ, t]:\n",
      "PF[2, 1, 1]: -60.0\n",
      "PF[1, 2, 1]: 60.0\n",
      "\n",
      "PF_scenario[n, ℓ, ω, t]:\n",
      "PF_scenario[2, 1, 2, 1]: -60.0\n",
      "PF_scenario[1, 2, 2, 1]: 60.0\n",
      "PF_scenario[2, 1, 1, 1]: -100.0\n",
      "PF_scenario[1, 2, 1, 1]: 100.0\n",
      "\n",
      "r_U[n,i, ω, t]:\n",
      "r_U[2, 3.0, 2, 1]: -0.0\n",
      "r_U[2, 3.0, 1, 1]: 0.0\n",
      "r_U[1, 1.0, 2, 1]: -0.0\n",
      "r_U[1, 1.0, 1, 1]: -0.0\n",
      "r_U[1, 2.0, 2, 1]: -0.0\n",
      "r_U[1, 2.0, 1, 1]: 0.0\n",
      "\n",
      "r_D[n,i, ω, t]:\n",
      "r_D[2, 3.0, 2, 1]: 0.0\n",
      "r_D[2, 3.0, 1, 1]: 40.0\n",
      "r_D[1, 1.0, 2, 1]: 0.0\n",
      "r_D[1, 1.0, 1, 1]: 0.0\n",
      "r_D[1, 2.0, 2, 1]: 0.0\n",
      "r_D[1, 2.0, 1, 1]: 0.0\n",
      "\n",
      "Data values:\n",
      "\n",
      "W_realized:\n",
      "W_realized[1, 1.0, 2, 1]: 10.0\n",
      "W_realized[1, 1.0, 1, 1]: 50.0\n",
      "\n",
      "Load:\n",
      "L[2, 2.0, 1]:100.0\n",
      "L[1, 1.0, 1]:40.0\n"
     ]
    }
   ],
   "source": [
    "# Print the values of the variables\n",
    "println(\"Variable values:\")\n",
    "println(\"P:\")\n",
    "for n in keys(data), i in data[n][:I], t in data[n][:T]\n",
    "    println(\"P[$n, $i, $t]: \", JuMP.value.(vars[:P][n, i, t]))\n",
    "end\n",
    "\n",
    "println(\"\\nR_U:\")\n",
    "for n in keys(data), i in data[n][:I], t in data[n][:T]\n",
    "    println(\"R_U[$n, $i, $t]: \", value(vars[:R_U][n,i, t]))\n",
    "end\n",
    "\n",
    "println(\"\\nR_D:\")\n",
    "for n in keys(data), i in data[n][:I], t in data[n][:T]\n",
    "    println(\"R_D[$n, $i, $t]: \", value(vars[:R_D][n,i, t]))end\n",
    "\n",
    "println(\"\\nL_Shed:\")\n",
    "for n in keys(data), j in data[n][:J], ω in keys(scenarios), t in data[n][:T]\n",
    "    println(\"L_Shed[$n, $j, $ω, $t]: \", value(vars[:L_Shed][n,j, ω, t]))\n",
    "end\n",
    "\n",
    "println(\"\\nW_spill:\")\n",
    "for n in keys(data), q in data[n][:Q], ω in keys(scenarios), t in data[n][:T]\n",
    "    println(\"W_spill[$n, $q, $ω, $t]: \", value(vars[:W_spill][n,q, ω, t]))\n",
    "end\n",
    "\n",
    "println(\"\\nW_s:\")\n",
    "for n in keys(data), q in data[n][:Q], t in data[n][:T]\n",
    "    println(\"W_s[$n, $q, $t]: \", value(vars[:W_s][n,q, t]))\n",
    "end\n",
    "\n",
    "println(\"\\nPF[n, ℓ, t]:\")\n",
    "for n in keys(data), ℓ in data[n][:Λ], t in data[n][:T]\n",
    "    println(\"PF[$n, $ℓ, $t]: \", value(vars[:PF][n, ℓ, t]))\n",
    "end\n",
    "\n",
    "println(\"\\nPF_scenario[n, ℓ, ω, t]:\")\n",
    "for ω in keys(scenarios), n in keys(data), ℓ in data[n][:Λ], t in data[n][:T]\n",
    "    println(\"PF_scenario[$n, $ℓ, $ω, $t]: \", value(vars[:PF_scenario][n, ℓ, ω, t]))\n",
    "end\n",
    "\n",
    "println(\"\\nr_U[n,i, ω, t]:\")\n",
    "for n in keys(data), i in data[n][:I], ω in keys(scenarios), t in data[n][:T]\n",
    "    println(\"r_U[$n, $i, $ω, $t]: \", value(vars[:r_U][n,i, ω, t]))\n",
    "end\n",
    "\n",
    "println(\"\\nr_D[n,i, ω, t]:\")\n",
    "for n in keys(data), i in data[n][:I], ω in keys(scenarios), t in data[n][:T]\n",
    "    println(\"r_D[$n, $i, $ω, $t]: \", value(vars[:r_D][n,i, ω, t]))\n",
    "end\n",
    "\n",
    "println(\"\\nData values:\")\n",
    "\n",
    "println(\"\\nW_realized:\")\n",
    "for n in keys(data), q in data[n][:Q], ω in keys(scenarios), t in data[n][:T]\n",
    "    println(\"W_realized[$n, $q, $ω, $t]: \", value(data[n][:Windenergy][q][ω][:W_realized][t]))\n",
    "end\n",
    "\n",
    "println(\"\\nLoad:\")\n",
    "for n in keys(data), j in data[n][:J], t in data[n][:T]\n",
    "    println(\"L[$n, $j, $t]:\", value(data[n][:L][j][:L][t]))\n",
    "end"
   ]
  },
  {
   "cell_type": "markdown",
   "metadata": {},
   "source": [
    "# Robust Optimization"
   ]
  },
  {
   "cell_type": "code",
   "execution_count": 15,
   "metadata": {},
   "outputs": [
    {
     "name": "stdout",
     "output_type": "stream",
     "text": [
      "20"
     ]
    }
   ],
   "source": [
    "W_s=[20]\n",
    "print(W_s[1])"
   ]
  },
  {
   "cell_type": "code",
   "execution_count": 16,
   "metadata": {},
   "outputs": [],
   "source": [
    "Γ=1.4;"
   ]
  },
  {
   "cell_type": "code",
   "execution_count": 93,
   "metadata": {},
   "outputs": [],
   "source": [
    "function init_ro_variables_sub(model::JuMP.Model)\n",
    "    vars= Dict(\n",
    "        :λ_balance_upper => @variable(model, λ_balance_upper[n in keys(data), t in data[n][:T]]),\n",
    "        #:λ_balance_lower => @variable(model, λ_balance_lower[n in keys(data), t in data[n][:T]] >=0),\n",
    "        :λ_ru => @variable(model, λ_ru[n in keys(data), i in data[n][:I], t in data[n][:T]] >=0),\n",
    "        :λ_rd => @variable(model, λ_rd[n in keys(data), i in data[n][:I], t in data[n][:T]] >=0),\n",
    "        :λ_l => @variable(model, λ_l[n in keys(data), j in data[n][:J], t in data[n][:T]] >=0),\n",
    "        :λ_spill => @variable(model, λ_spill[n in keys(data), q in data[n][:Q], t in data[n][:T]] >=0),\n",
    "        :λ_lc => @variable(model, λ_lc[n in keys(data), ℓ in data[n][:Λ], t in data[n][:T]] >=0),\n",
    "        :w_delta => @variable(model, w_delta[n in keys(data), q in data[n][:Q], t in data[n][:T]]),\n",
    "        :w_delta_up => @variable(model, w_delta_up[n in keys(data), q in data[n][:Q], t in data[n][:T]]),\n",
    "        :w_delta_down => @variable(model, w_delta_down[n in keys(data), q in data[n][:Q], t in data[n][:T]])\n",
    "        )\n",
    "    return vars\n",
    "end;"
   ]
  },
  {
   "cell_type": "markdown",
   "metadata": {},
   "source": [
    "function init_ro_constraints_sub(model::JuMP.Model, data::Dict, vars::Dict)\n",
    "    @constraints(model, begin\n",
    "        c_ru[n in keys(data), i in data[n][:I], t in data[n][:T]], vars[:λ_balance_upper][n,t] - vars[:λ_balance_lower][n,t] - vars[:λ_ru][n, i, t] <= data[n][:C_U][i]\n",
    "        c_rd[n in keys(data), i in data[n][:I], t in data[n][:T]], -vars[:λ_balance_upper][n,t] + vars[:λ_balance_lower][n,t] - vars[:λ_rd][n, i, t] <= data[n][:C_D][i]\n",
    "        #c_wspill[n in keys(data), q in data[n][:Q], t in data[n][:T]], -vars[:λ_balance_upper][n,t] + vars[:λ_balance_lower][n,t] -vars[:λ_spill][n, q, t] <= data[n][:C_cur][q]\n",
    "        #c_lshed[n in keys(data), j in data[n][:J], t in data[n][:T]], vars[:λ_balance_upper][n,t] - vars[:λ_balance_lower][n,t] -vars[:λ_l][n, j, t] <= data[n][:V_LOL][j]\n",
    "        #c_lc[n in keys(data), ℓ in data[n][:Λ], t in data[n][:T]], -data[n][:b][ℓ]*vars[:λ_balance_upper][n,t] + \n",
    "            #sum(data[n][:b][ℓ]*vars[:λ_balance_upper][ℓ, t]) +\n",
    "            #data[n][:b][ℓ]*vars[:λ_balance_lower][n,t] -sum(data[n][:b][ℓ]*vars[:λ_balance_lower][ℓ, t])-\n",
    "            #sum(data[n][:b][ℓ]*vars[:λ_lc][n, ℓ, t]) + sum(data[n][:b][ℓ]*vars[:λ_lc][ℓ, n, t])<=0\n",
    "            \n",
    "        cw1[n in keys(data), q in data[n][:Q], t in data[n][:T]], vars[:w_delta][n, q, t]<= data[n][:W_d_max][q]\n",
    "        cw2[n in keys(data), q in data[n][:Q], t in data[n][:T]], vars[:w_delta][n, q, t]>= -data[n][:W_d_max][q]\n",
    "        cw3[n in keys(data), q in data[n][:Q], t in data[n][:T]], vars[:w_delta][n, q, t] == vars[:w_delta_up][n, q, t]- vars[:w_delta_down][n, q, t]\n",
    "        cw4[n in keys(data), q in data[n][:Q], t in data[n][:T]], (vars[:w_delta_up][n, q, t] + vars[:w_delta_down][n, q, t])/ data[n][:W_d_max][q] <= Γ\n",
    "        ctest[n in keys(data), t in data[n][:T]], vars[:λ_balance_upper][n,t] <=100\n",
    "        ctest2[n in keys(data), t in data[n][:T]], vars[:λ_balance_lower][n,t] <=100\n",
    "    end)\n",
    "end;\n",
    "    "
   ]
  },
  {
   "cell_type": "code",
   "execution_count": 104,
   "metadata": {},
   "outputs": [],
   "source": [
    "function init_ro_constraints_sub(model::JuMP.Model, data::Dict, vars::Dict)\n",
    "    @constraints(model, begin\n",
    "        c_ru[n in keys(data), i in data[n][:I], t in data[n][:T]], vars[:λ_balance_upper][n,t] - vars[:λ_ru][n, i, t] <= data[n][:C_U][i]\n",
    "        c_rd[n in keys(data), i in data[n][:I], t in data[n][:T]], vars[:λ_balance_upper][n,t] - vars[:λ_rd][n, i, t] <= data[n][:C_D][i]\n",
    "        c_wspill[n in keys(data), q in data[n][:Q], t in data[n][:T]], -vars[:λ_balance_upper][n,t] -vars[:λ_spill][n, q, t] <= data[n][:C_cur][q]\n",
    "        c_lshed[n in keys(data), j in data[n][:J], t in data[n][:T]], vars[:λ_balance_upper][n,t] -vars[:λ_l][n, j, t] <= data[n][:V_LOL][j]\n",
    "        c_lc[n in keys(data), ℓ in data[n][:Λ], t in data[n][:T]], -data[n][:b][ℓ]*vars[:λ_balance_upper][n,t] + \n",
    "            sum(data[n][:b][ℓ]*vars[:λ_balance_upper][ℓ, t]) <=0\n",
    "            \n",
    "        cw1[n in keys(data), q in data[n][:Q], t in data[n][:T]], vars[:w_delta][n, q, t]<= data[n][:W_d_max][q]\n",
    "        cw2[n in keys(data), q in data[n][:Q], t in data[n][:T]], vars[:w_delta][n, q, t]>= -data[n][:W_d_max][q]\n",
    "        cw3[n in keys(data), q in data[n][:Q], t in data[n][:T]], vars[:w_delta][n, q, t] == vars[:w_delta_up][n, q, t]- vars[:w_delta_down][n, q, t]\n",
    "        cw4[n in keys(data), q in data[n][:Q], t in data[n][:T]], (vars[:w_delta_up][n, q, t] + vars[:w_delta_down][n, q, t])/ data[n][:W_d_max][q] <= Γ\n",
    "    end)\n",
    "end;"
   ]
  },
  {
   "cell_type": "markdown",
   "metadata": {},
   "source": [
    "function init_ro_objective_sub(model::JuMP.Model, data::Dict, vars::Dict, vars_master::Dict)\n",
    "    @objective(model, Max,\n",
    "    #+sum((-vars[:w_delta][n,q,t]-value(vars_master[:𝛿][n,t]) +value(vars_master[:𝛿][ℓ,t])) *vars[:λ_balance_upper][n,t] for n in keys(data), q in data[n][:Q], t in data[n][:T], ℓ in data[n][:Λ])\n",
    "    sum(vars[:λ_balance_upper][n,t] for n in keys(data), t in data[n][:T])    \n",
    "    #+sum((vars[:w_delta][n,q,t]+value(vars_master[:𝛿][n,t]) -value(vars_master[:𝛿][ℓ,t])) *vars[:λ_balance_lower][n,t] for n in keys(data), q in data[n][:Q], t in data[n][:T], ℓ in data[n][:Λ])\n",
    "    #+sum((vars[:w_delta][n,q,t]+value(vars_master[:𝛿][n,t]) -value(vars_master[:𝛿][ℓ,t])) *1 for n in keys(data), q in data[n][:Q], t in data[n][:T], ℓ in data[n][:Λ])\n",
    "    #-sum(value(vars_master[:R_U][n,i,t])* vars[:λ_ru][n,i,t] for n in keys(data), i in data[n][:I], t in data[n][:T])\n",
    "    #-sum(value(vars_master[:R_D][n,i,t])* vars[:λ_rd][n,i,t] for n in keys(data), i in data[n][:I], t in data[n][:T])\n",
    "    #-sum(data[n][:L][j][:L][t]* vars[:λ_l][n,j,t] for n in keys(data), j in data[n][:J], t in data[n][:T])\n",
    "    #-sum((data[n][:W_s][q] + vars[:w_delta][n,q,t]) * vars[:λ_spill][n,q,t] for n in keys(data), q in data[n][:Q], t in data[n][:T])\n",
    "    #-sum(data[n][:LC_Max][ℓ]* vars[:λ_lc][n,ℓ,t] for n in keys(data), ℓ in data[n][:Λ], t in data[n][:T])\n",
    "    )\n",
    "end;"
   ]
  },
  {
   "cell_type": "code",
   "execution_count": 100,
   "metadata": {},
   "outputs": [],
   "source": [
    "function init_ro_objective_sub(model::JuMP.Model, data::Dict, vars::Dict, vars_master::Dict)\n",
    "    @objective(model, Max,\n",
    "    +sum((-vars[:w_delta][n,q,t]-value(vars_master[:𝛿][n,t]) +value(vars_master[:𝛿][ℓ,t])) *vars[:λ_balance_upper][n,t] for n in keys(data), q in data[n][:Q], t in data[n][:T], ℓ in data[n][:Λ])  \n",
    "    #+sum((vars[:w_delta][n,q,t]+value(vars_master[:𝛿][n,t]) -value(vars_master[:𝛿][ℓ,t])) *vars[:λ_balance_lower][n,t] for n in keys(data), q in data[n][:Q], t in data[n][:T], ℓ in data[n][:Λ])\n",
    "    #+sum((vars[:w_delta][n,q,t]+value(vars_master[:𝛿][n,t]) -value(vars_master[:𝛿][ℓ,t])) *1 for n in keys(data), q in data[n][:Q], t in data[n][:T], ℓ in data[n][:Λ])\n",
    "    #-sum(value(vars_master[:R_U][n,i,t])* vars[:λ_ru][n,i,t] for n in keys(data), i in data[n][:I], t in data[n][:T])\n",
    "    #-sum(value(vars_master[:R_D][n,i,t])* vars[:λ_rd][n,i,t] for n in keys(data), i in data[n][:I], t in data[n][:T])\n",
    "    #-sum(data[n][:L][j][:L][t]* vars[:λ_l][n,j,t] for n in keys(data), j in data[n][:J], t in data[n][:T])\n",
    "    #-sum((data[n][:W_s][q] + vars[:w_delta][n,q,t]) * vars[:λ_spill][n,q,t] for n in keys(data), q in data[n][:Q], t in data[n][:T])\n",
    "    #-sum(data[n][:LC_Max][ℓ]* vars[:λ_lc][n,ℓ,t] for n in keys(data), ℓ in data[n][:Λ], t in data[n][:T])\n",
    "    )\n",
    "end;"
   ]
  },
  {
   "cell_type": "code",
   "execution_count": 20,
   "metadata": {},
   "outputs": [],
   "source": [
    "function init_ro_variables_master(model::JuMP.Model)\n",
    "\n",
    "    vars= Dict(\n",
    "        :alpha=> @variable(model, alpha >= 0),\n",
    "        :P=> @variable(model, P[n in keys(data), i in data[n][:I], t in data[n][:T]] >=0), #power generated from generator i\n",
    "        :R_U=> @variable(model, R_U[n in keys(data), i in data[n][:I], t in data[n][:T]] >=0), #committed upward reserve capacity of generator i\n",
    "        :R_D=> @variable(model, R_D[n in keys(data), i in data[n][:I], t in data[n][:T]] >=0), #committed downward reserve capacity of generator i\n",
    "        :𝛿 => @variable(model, 𝛿[n in keys(data), t in data[n][:T]]) #voltage angle\n",
    "    )\n",
    "    return vars\n",
    "end;"
   ]
  },
  {
   "cell_type": "code",
   "execution_count": 21,
   "metadata": {},
   "outputs": [],
   "source": [
    "function init_ro_constraints_master(model::JuMP.Model, data::Dict, vars::Dict)\n",
    "    @constraints(model, begin\n",
    "        Power_balance_day_ahead[n in keys(data), t in data[n][:T]] , \n",
    "        sum(vars[:P][n,i,t] for i in data[n][:I]) + sum(data[n][:W_s][q] for q in data[n][:Q]) - sum(data[n][:L][j][:L][t] for j in data[n][:J]) - sum((vars[:𝛿][n, t] - vars[:𝛿][ℓ, t])* 1 / data[n][:b][ℓ]  for ℓ in data[n][:Λ])== 0\n",
    "        c1[n in keys(data),i in data[n][:I], t in data[n][:T]], vars[:P][n, i, t]+ vars[:R_U][n, i, t]<= data[n][:P_max][i]\n",
    "        c2[n in keys(data),i in data[n][:I] ,t in data[n][:T]], vars[:P][n, i, t]- vars[:R_D][n, i, t]>= 0\n",
    "        c3[n in keys(data), ℓ in data[n][:Λ], t in data[n][:T]], (vars[:𝛿][n, t] - vars[:𝛿][ℓ, t]) * 1 / data[n][:b][ℓ] <= data[n][:LC_Max][ℓ]\n",
    "    end)\n",
    "    \n",
    "end;"
   ]
  },
  {
   "cell_type": "code",
   "execution_count": 22,
   "metadata": {},
   "outputs": [],
   "source": [
    "function init_ro_objective_master(model::JuMP.Model, data::Dict, vars::Dict)\n",
    "    @objective(model, Min, sum(vars[:P][n,i,t]* data[n][:C][i] + vars[:R_U][n,i,t] * data[n][:C_RU][i] + vars[:R_D][n,i,t] * data[n][:C_RD][i] for n in keys(data), i in data[n][:I], t in data[n][:T]) +\n",
    "    + vars[:alpha]\n",
    "    )\n",
    "end;"
   ]
  },
  {
   "cell_type": "code",
   "execution_count": 57,
   "metadata": {},
   "outputs": [
    {
     "data": {
      "text/latex": [
       "$$ \\begin{aligned}\n",
       "\\min\\quad & 35 P_{2,3.0,1} + 10 R\\_U_{2,3.0,1} + 9 R\\_D_{2,3.0,1} + 10 P_{1,1.0,1} + 16 R\\_U_{1,1.0,1} + 15 R\\_D_{1,1.0,1} + 30 P_{1,2.0,1} + 13 R\\_U_{1,2.0,1} + 12 R\\_D_{1,2.0,1} + alpha\\\\\n",
       "\\text{Subject to} \\quad & P_{2,3.0,1} - 7.692307692307692 𝛿_{2,1} + 7.692307692307692 𝛿_{1,1} = 100\\\\\n",
       " & P_{1,1.0,1} + P_{1,2.0,1} + 7.692307692307692 𝛿_{2,1} - 7.692307692307692 𝛿_{1,1} = 20\\\\\n",
       " & P_{2,3.0,1} - R\\_D_{2,3.0,1} \\geq 0\\\\\n",
       " & P_{1,1.0,1} - R\\_D_{1,1.0,1} \\geq 0\\\\\n",
       " & P_{1,2.0,1} - R\\_D_{1,2.0,1} \\geq 0\\\\\n",
       " & P_{2,3.0,1} + R\\_U_{2,3.0,1} \\leq 100\\\\\n",
       " & P_{1,1.0,1} + R\\_U_{1,1.0,1} \\leq 50\\\\\n",
       " & P_{1,2.0,1} + R\\_U_{1,2.0,1} \\leq 110\\\\\n",
       " & 7.692307692307692 𝛿_{2,1} - 7.692307692307692 𝛿_{1,1} \\leq 100\\\\\n",
       " & -7.692307692307692 𝛿_{2,1} + 7.692307692307692 𝛿_{1,1} \\leq 100\\\\\n",
       " & alpha \\geq 0\\\\\n",
       " & P_{2,3.0,1} \\geq 0\\\\\n",
       " & P_{1,1.0,1} \\geq 0\\\\\n",
       " & P_{1,2.0,1} \\geq 0\\\\\n",
       " & R\\_U_{2,3.0,1} \\geq 0\\\\\n",
       " & R\\_U_{1,1.0,1} \\geq 0\\\\\n",
       " & R\\_U_{1,2.0,1} \\geq 0\\\\\n",
       " & R\\_D_{2,3.0,1} \\geq 0\\\\\n",
       " & R\\_D_{1,1.0,1} \\geq 0\\\\\n",
       " & R\\_D_{1,2.0,1} \\geq 0\\\\\n",
       "\\end{aligned} $$"
      ]
     },
     "metadata": {},
     "output_type": "display_data"
    }
   ],
   "source": [
    "model_ro_master=Model(HiGHS.Optimizer)\n",
    "vars_ro_master=init_ro_variables_master(model_ro_master)\n",
    "init_ro_constraints_master(model_ro_master, data, vars_ro_master)\n",
    "init_ro_objective_master(model_ro_master, data, vars_ro_master)\n",
    "print(model_ro_master)"
   ]
  },
  {
   "cell_type": "code",
   "execution_count": 101,
   "metadata": {},
   "outputs": [
    {
     "name": "stdout",
     "output_type": "stream",
     "text": [
      "Solving LP without presolve or with basis\n",
      "Model   status      : Optimal\n",
      "Objective value     :  2.6000000000e+03\n",
      "HiGHS run time      :          0.00\n",
      "Variable values:\n",
      "alpha:0.0\n",
      "P:\n",
      "P[2, 3.0, 1]: -0.0\n",
      "P[1, 1.0, 1]: 50.0\n",
      "P[1, 2.0, 1]: 70.0\n",
      "\n",
      "R_U:\n",
      "R_U[2, 3.0, 1]: 0.0\n",
      "R_U[1, 1.0, 1]: 0.0\n",
      "R_U[1, 2.0, 1]: 0.0\n",
      "\n",
      "R_D:\n",
      "R_D[2, 3.0, 1]: 0.0\n",
      "R_D[1, 1.0, 1]: 0.0\n",
      "R_D[1, 2.0, 1]: 0.0\n",
      "\n",
      "𝛿:\n",
      "𝛿[2, 1]: 0.0\n",
      "𝛿[1, 1]: 13.000000000000002\n"
     ]
    }
   ],
   "source": [
    "optimize!(model_ro_master)\n",
    "\n",
    "# Print the values of the variables\n",
    "println(\"Variable values:\")\n",
    "print(\"alpha:\")\n",
    "print(value(vars_ro_master[:alpha]))\n",
    "println(\"\\nP:\")\n",
    "for n in keys(data), i in data[n][:I], t in data[n][:T]\n",
    "    println(\"P[$n, $i, $t]: \", JuMP.value.(vars_ro_master[:P][n, i, t]))\n",
    "end\n",
    "\n",
    "println(\"\\nR_U:\")\n",
    "for n in keys(data), i in data[n][:I], t in data[n][:T]\n",
    "    println(\"R_U[$n, $i, $t]: \", value(vars_ro_master[:R_U][n,i, t]))\n",
    "end\n",
    "\n",
    "println(\"\\nR_D:\")\n",
    "for n in keys(data), i in data[n][:I], t in data[n][:T]\n",
    "    println(\"R_D[$n, $i, $t]: \", value(vars_ro_master[:R_D][n,i, t]))end\n",
    "\n",
    "println(\"\\n𝛿:\")\n",
    "for n in keys(data), t in data[n][:T]\n",
    "    println(\"𝛿[$n, $t]: \", value(vars_ro_master[:𝛿][n, t]))\n",
    "end"
   ]
  },
  {
   "cell_type": "code",
   "execution_count": 105,
   "metadata": {},
   "outputs": [
    {
     "data": {
      "text/latex": [
       "$$ \\begin{aligned}\n",
       "\\max\\quad & -w\\_delta_{1,1.0,1}\\times λ\\_balance\\_upper_{1,1} - 13.000000000000002 λ\\_balance\\_upper_{1,1}\\\\\n",
       "\\text{Subject to} \\quad & w\\_delta_{1,1.0,1} - w\\_delta\\_up_{1,1.0,1} + w\\_delta\\_down_{1,1.0,1} = 0\\\\\n",
       " & w\\_delta_{1,1.0,1} \\geq -15\\\\\n",
       " & λ\\_balance\\_upper_{2,1} - λ\\_ru_{2,3.0,1} \\leq 35\\\\\n",
       " & λ\\_balance\\_upper_{1,1} - λ\\_ru_{1,1.0,1} \\leq 10\\\\\n",
       " & λ\\_balance\\_upper_{1,1} - λ\\_ru_{1,2.0,1} \\leq 30\\\\\n",
       " & λ\\_balance\\_upper_{2,1} - λ\\_rd_{2,3.0,1} \\leq 35\\\\\n",
       " & λ\\_balance\\_upper_{1,1} - λ\\_rd_{1,1.0,1} \\leq 10\\\\\n",
       " & λ\\_balance\\_upper_{1,1} - λ\\_rd_{1,2.0,1} \\leq 30\\\\\n",
       " & -λ\\_balance\\_upper_{1,1} - λ\\_spill_{1,1.0,1} \\leq 0\\\\\n",
       " & λ\\_balance\\_upper_{2,1} - λ\\_l_{2,2.0,1} \\leq 200\\\\\n",
       " & λ\\_balance\\_upper_{1,1} - λ\\_l_{1,1.0,1} \\leq 200\\\\\n",
       " & -0.13 λ\\_balance\\_upper_{2,1} + 0.13 λ\\_balance\\_upper_{1,1} \\leq 0\\\\\n",
       " & 0.13 λ\\_balance\\_upper_{2,1} - 0.13 λ\\_balance\\_upper_{1,1} \\leq 0\\\\\n",
       " & w\\_delta_{1,1.0,1} \\leq 15\\\\\n",
       " & 0.06666666666666667 w\\_delta\\_up_{1,1.0,1} + 0.06666666666666667 w\\_delta\\_down_{1,1.0,1} \\leq 1.4\\\\\n",
       " & λ\\_ru_{2,3.0,1} \\geq 0\\\\\n",
       " & λ\\_ru_{1,1.0,1} \\geq 0\\\\\n",
       " & λ\\_ru_{1,2.0,1} \\geq 0\\\\\n",
       " & λ\\_rd_{2,3.0,1} \\geq 0\\\\\n",
       " & λ\\_rd_{1,1.0,1} \\geq 0\\\\\n",
       " & λ\\_rd_{1,2.0,1} \\geq 0\\\\\n",
       " & λ\\_l_{2,2.0,1} \\geq 0\\\\\n",
       " & λ\\_l_{1,1.0,1} \\geq 0\\\\\n",
       " & λ\\_spill_{1,1.0,1} \\geq 0\\\\\n",
       " & λ\\_lc_{2,1,1} \\geq 0\\\\\n",
       " & λ\\_lc_{1,2,1} \\geq 0\\\\\n",
       "\\end{aligned} $$"
      ]
     },
     "metadata": {},
     "output_type": "display_data"
    }
   ],
   "source": [
    "model_ro_sub=Model(HiGHS.Optimizer)\n",
    "vars_ro_sub=init_ro_variables_sub(model_ro_sub)\n",
    "init_ro_constraints_sub(model_ro_sub, data, vars_ro_sub)\n",
    "init_ro_objective_sub(model_ro_sub, data, vars_ro_sub, vars_ro_master)\n",
    "print(model_ro_sub)"
   ]
  },
  {
   "cell_type": "code",
   "execution_count": 106,
   "metadata": {},
   "outputs": [
    {
     "name": "stdout",
     "output_type": "stream",
     "text": [
      "Running HiGHS 1.6.0: Copyright (c) 2023 HiGHS under MIT licence terms\n",
      "Iteration, Runtime, ObjVal, NullspaceDim\n",
      "0, 0.000987, 0.000000, 1\n",
      "3, 0.000987, nan, 0\n",
      "Model   status      : Optimal\n",
      "Objective value     :  0.0000000000e+00\n",
      "HiGHS run time      :          0.00\n",
      "Variable values:\n",
      "\n",
      ":λ_balance_upper:\n",
      ":λ_balance_upper[2, 1]: 0.0\n",
      ":λ_balance_upper[1, 1]: 0.0\n"
     ]
    }
   ],
   "source": [
    "optimize!(model_ro_sub)\n",
    "\n",
    "\n",
    "# Print the values of the variables\n",
    "println(\"Variable values:\")\n",
    "\n",
    "println(\"\\n:λ_balance_upper:\")\n",
    "for n in keys(data), t in data[n][:T]\n",
    "    println(\":λ_balance_upper[$n, $t]: \", JuMP.value.(vars_ro_sub[:λ_balance_upper][n, t]))\n",
    "end\n",
    "\n"
   ]
  },
  {
   "cell_type": "code",
   "execution_count": 27,
   "metadata": {},
   "outputs": [],
   "source": [
    "function benders_decomp(master::JuMP.Model, sub::JuMP.Model, data::Dict, vars_ro_sub, vars_ro)\n",
    "    #initialize master model variables\n",
    "    optimize!(master)\n",
    "    \n",
    "    #initalize variables\n",
    "    wert=0 #intial value for the cancel condition\n",
    "    alpha=-1 #intial value for the cancel condition\n",
    "    i=1; #number of iteration (just for printing purposes)\n",
    "    \n",
    "    #solving the problem with Benders decomposition using dual dynamic programming – DDP\n",
    "    \n",
    "    :alpha=> @variable(model, alpha >= 0),\n",
    "        :P=> @variable(model, P[n in keys(data), i in data[n][:I], t in data[n][:T]] >=0), #power generated from generator i\n",
    "        :R_U=> @variable(model, R_U[n in keys(data), i in data[n][:I], t in data[n][:T]] >=0), #committed upward reserve capacity of generator i\n",
    "        :R_D=> @variable(model, R_D[n in keys(data), i in data[n][:I], t in data[n][:T]] >=0), #committed downward reserve capacity of generator i\n",
    "        :𝛿 => @variable(model, 𝛿[n in keys(data), t in data[n][:T]]) #voltage angle\n",
    "\n",
    "    while wert!=alpha\n",
    "        print(\"\\n iteration no $i \\n\")\n",
    "\n",
    "        # optimize dual subproblem with the fixed values of the masterproblem\n",
    "        init_ro_objective_sub(sub, data, vars_ro_sub, vars_ro_master)\n",
    "        print(sub)\n",
    "        optimize!(sub)\n",
    "\n",
    "        wert = objective_value(sub)\n",
    "        print(wert)\n",
    "        print(\" objective value sub \\n\")\n",
    "\n",
    "        # add benders cut (as constraint with dual variable from the subproblem)\n",
    "        #@constraint(Masterproblem, value(λ)*(-5-x) + value(γ)*(-7.5 -(x/2)) + value(μ) *(-17.5 +(x/2)) +value(β) *(-10 +x) <= alpha_var)\n",
    "\n",
    "        # solve masterproblem with new constraint\n",
    "        optimize!(Masterproblem)\n",
    "\n",
    "            print(objective_value(Masterproblem))\n",
    "        print(\"\\n Objective_value Masterproblem \\n\")\n",
    "        print(value(x))\n",
    "        print(\" value x\\n\")\n",
    "        alpha=value(alpha_var)\n",
    "        print(alpha)\n",
    "        print(\" value alpha\\n\")\n",
    "        # compare solution of the subproblem with solution of alpha in the masterproblem\n",
    "        print(\"alpha = alpha & -y=wert \\n\")\n",
    "        # update fixed value of x\n",
    "        x_input=value(x)\n",
    "        i=i+1\n",
    "\n",
    "\n",
    "    end\n",
    "    \n",
    "end;"
   ]
  },
  {
   "cell_type": "code",
   "execution_count": 28,
   "metadata": {},
   "outputs": [
    {
     "name": "stdout",
     "output_type": "stream",
     "text": [
      "Solving LP without presolve or with basis\n",
      "Model   status      : Optimal\n",
      "Objective value     :  2.6000000000e+03\n",
      "HiGHS run time      :          0.00\n"
     ]
    },
    {
     "ename": "LoadError",
     "evalue": "An object of name P is already attached to this model. If this\n    is intended, consider using the anonymous construction syntax, e.g.,\n    `x = @variable(model, [1:N], ...)` where the name of the object does\n    not appear inside the macro.\n\n    Alternatively, use `unregister(model, :P)` to first unregister\n    the existing name from the model. Note that this will not delete the\n    object; it will just remove the reference at `model[:P]`.\n",
     "output_type": "error",
     "traceback": [
      "An object of name P is already attached to this model. If this\n    is intended, consider using the anonymous construction syntax, e.g.,\n    `x = @variable(model, [1:N], ...)` where the name of the object does\n    not appear inside the macro.\n\n    Alternatively, use `unregister(model, :P)` to first unregister\n    the existing name from the model. Note that this will not delete the\n    object; it will just remove the reference at `model[:P]`.\n",
      "",
      "Stacktrace:",
      " [1] error(s::String)",
      "   @ Base .\\error.jl:35",
      " [2] _error_if_cannot_register(model::Model, name::Symbol)",
      "   @ JuMP C:\\Users\\lukas\\.julia\\packages\\JuMP\\HjlGr\\src\\macros.jl:411",
      " [3] macro expansion",
      "   @ C:\\Users\\lukas\\.julia\\packages\\JuMP\\HjlGr\\src\\macros.jl:400 [inlined]",
      " [4] benders_decomp(master::Model, sub::Model, data::Dict{Any, Any}, vars_ro_sub::Dict{Symbol, JuMP.Containers.SparseAxisArray{VariableRef, N} where N}, vars_ro::Dict{Symbol, Any})",
      "   @ Main .\\In[27]:13",
      " [5] top-level scope",
      "   @ In[28]:1"
     ]
    }
   ],
   "source": [
    "benders_decomp(model_ro_master, model_ro_sub, data, vars_ro_sub, vars_ro_master)"
   ]
  }
 ],
 "metadata": {
  "kernelspec": {
   "display_name": "Julia 1.10.0",
   "language": "julia",
   "name": "julia-1.10"
  },
  "language_info": {
   "file_extension": ".jl",
   "mimetype": "application/julia",
   "name": "julia",
   "version": "1.10.0"
  },
  "toc": {
   "base_numbering": 1,
   "nav_menu": {},
   "number_sections": true,
   "sideBar": true,
   "skip_h1_title": false,
   "title_cell": "Table of Contents",
   "title_sidebar": "Contents",
   "toc_cell": true,
   "toc_position": {
    "height": "calc(100% - 180px)",
    "left": "10px",
    "top": "150px",
    "width": "341.323px"
   },
   "toc_section_display": true,
   "toc_window_display": false
  }
 },
 "nbformat": 4,
 "nbformat_minor": 5
}
