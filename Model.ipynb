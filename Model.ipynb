{
 "cells": [
  {
   "cell_type": "markdown",
   "metadata": {
    "toc": true
   },
   "source": [
    "<h1>Table of Contents<span class=\"tocSkip\"></span></h1>\n",
    "<div class=\"toc\"><ul class=\"toc-item\"></ul></div>"
   ]
  },
  {
   "cell_type": "code",
   "execution_count": 8,
   "metadata": {},
   "outputs": [
    {
     "name": "stderr",
     "output_type": "stream",
     "text": [
      "\u001b[32m\u001b[1m  Activating\u001b[22m\u001b[39m project at `a:\\07Dissertation\\01 Seminare\\AMO\\Abgabe\\Team_assignment_AMO`"
     ]
    },
    {
     "name": "stderr",
     "output_type": "stream",
     "text": [
      "\n"
     ]
    },
    {
     "name": "stderr",
     "output_type": "stream",
     "text": [
      "┌ Warning: The active manifest file has dependencies that were resolved with a different julia version (1.10.0). Unexpected behavior may occur.\n",
      "└ @ nothing A:\\07Dissertation\\01 Seminare\\AMO\\Abgabe\\Team_assignment_AMO\\Manifest.toml:0\n"
     ]
    },
    {
     "name": "stderr",
     "output_type": "stream",
     "text": [
      "\u001b[32m\u001b[1m   Installed\u001b[22m\u001b[39m CodecBzip2 ───────── v0.8.2\n",
      "\u001b[32m\u001b[1m   Installed\u001b[22m\u001b[39m CodecZlib ────────── v0.7.4\n"
     ]
    },
    {
     "name": "stderr",
     "output_type": "stream",
     "text": [
      "\u001b[32m\u001b[1m   Installed\u001b[22m\u001b[39m TranscodingStreams ─ v0.10.3\n"
     ]
    },
    {
     "name": "stderr",
     "output_type": "stream",
     "text": [
      "\u001b[32m\u001b[1m   Installed\u001b[22m\u001b[39m JuMP ─────────────── v1.19.0\n"
     ]
    },
    {
     "name": "stderr",
     "output_type": "stream",
     "text": [
      "\u001b[32m\u001b[1m   Installed\u001b[22m\u001b[39m MathOptInterface ─── v1.25.2\n"
     ]
    },
    {
     "name": "stderr",
     "output_type": "stream",
     "text": [
      "\u001b[32m\u001b[1mPrecompiling\u001b[22m\u001b[39m "
     ]
    },
    {
     "name": "stderr",
     "output_type": "stream",
     "text": [
      "project...\n"
     ]
    },
    {
     "name": "stderr",
     "output_type": "stream",
     "text": [
      "\u001b[32m  ✓ \u001b[39m\u001b[90mTranscodingStreams\u001b[39m\n"
     ]
    },
    {
     "name": "stderr",
     "output_type": "stream",
     "text": [
      "\u001b[32m  ✓ \u001b[39m\u001b[90mConda\u001b[39m\n"
     ]
    },
    {
     "name": "stderr",
     "output_type": "stream",
     "text": [
      "\u001b[32m  ✓ \u001b[39m\u001b[90mTranscodingStreams → TestExt\u001b[39m\n"
     ]
    },
    {
     "name": "stderr",
     "output_type": "stream",
     "text": [
      "\u001b[32m  ✓ \u001b[39m\u001b[90mCodecZlib\u001b[39m\n"
     ]
    },
    {
     "name": "stderr",
     "output_type": "stream",
     "text": [
      "\u001b[32m  ✓ \u001b[39m\u001b[90mCodecBzip2\u001b[39m\n"
     ]
    },
    {
     "name": "stderr",
     "output_type": "stream",
     "text": [
      "\u001b[32m  ✓ \u001b[39mIJulia\n"
     ]
    },
    {
     "name": "stderr",
     "output_type": "stream",
     "text": [
      "\u001b[32m  ✓ \u001b[39m\u001b[90mMathOptInterface\u001b[39m\n"
     ]
    },
    {
     "name": "stderr",
     "output_type": "stream",
     "text": [
      "\u001b[32m  ✓ \u001b[39mHiGHS\n"
     ]
    },
    {
     "name": "stderr",
     "output_type": "stream",
     "text": [
      "\u001b[32m  ✓ \u001b[39mJuMP\n",
      "  9 dependencies successfully precompiled in 140 seconds. 56 already precompiled.\n"
     ]
    }
   ],
   "source": [
    "using Pkg; Pkg.activate(\".\")\n",
    "Pkg.instantiate()"
   ]
  },
  {
   "cell_type": "code",
   "execution_count": 9,
   "metadata": {},
   "outputs": [],
   "source": [
    "using JuMP,HiGHS,DataFrames\n"
   ]
  },
  {
   "cell_type": "code",
   "execution_count": 61,
   "metadata": {},
   "outputs": [],
   "source": [
    "#nP=1:3                                  #number of generation units\n",
    "#nW=1:1                                  #number of stochastic generation units\n",
    "#nt=1:1                                  #number of time intervalls \n",
    "#nS=1:2                                  #number of scenarios\n",
    "#nL=1:2                                  #number of loads\n",
    "#nB=1:1                                  #number of buses\n",
    "#C=[100, 80, 50]                         #unit cost of generation\n",
    "#C_RU=[20, 10, 15]                       #cost of up reserve commitment\n",
    "#C_RD=[25, 15, 15]                       #cost of down reserve commitment\n",
    "#C_U=[10, 15, 20]                        #cost of up reserve commitment\n",
    "#C_D=[30, 10, 15]                        #cost of down reserve commitment\n",
    "#pi=[0.7, 0.3]                           #probabilities of the scenarios\n",
    "#V_LOL=[20, 25]                          #value of the lost load\n",
    "#C_cur=[15]                              #cost of curtailment at turbine\n",
    "#L= 90 .+ 30 * randn(2, 1)               #loads for every time intervall\n",
    "#W_realized = 70 .+ 15 * randn(1, 2, 1)  #create random scenarios for four time points\n",
    "#P_max=[70, 80, 150];                    #maximum production capacity\n",
    "\n",
    "nP=1:3                                  #number of generation units\n",
    "nW=1:1                                  #number of stochastic generation units\n",
    "nt=1:1                                  #number of time intervalls \n",
    "nS=1:2                                  #number of scenarios\n",
    "nL=1:2                                  #number of loads\n",
    "nB=1:2                                  #number of buses\n",
    "C=[10, 30, 35]                          #unit cost of generation\n",
    "C_RU=[16, 13, 10]                       #cost of up reserve commitment\n",
    "C_RD=[15, 12, 9]                        #cost of down reserve commitment\n",
    "C_U=[10, 30, 35]                        #cost of up reserve commitment\n",
    "C_D=[10, 30, 35]                        #cost of down reserve commitment\n",
    "pi=[0.6, 0.4]                           #probabilities of the scenarios\n",
    "V_LOL=[200, 200]                        #value of the lost load\n",
    "C_cur=[0] #[15]                         #cost of curtailment at turbine\n",
    "L= [40,100]               #loads for every time intervall\n",
    "W_realized = [[[50] [10]] [[50] [10]] [[50] [10]]] #create random scenarios for four time points w,s,t\n",
    "#[[[111 112] [121 122]] [[211 212] [221 222]] [[311 312] [321 322]]]\n",
    "P_max=[50, 110, 100];                   #maximum production capacity\n",
    "b = [[1, 1/0.13] [1/0.13, 1]]                     #loss of transmission\n",
    "LC_Max = [[0,100] [100, 0]]          #maximum transmission quantity between two buses"
   ]
  },
  {
   "cell_type": "code",
   "execution_count": 62,
   "metadata": {},
   "outputs": [
    {
     "name": "stdout",
     "output_type": "stream",
     "text": [
      "10"
     ]
    }
   ],
   "source": [
    "data= Dict(\n",
    "    :nP => nP,\n",
    "    :nW => nW,\n",
    "    :nt => nt,\n",
    "    :nS => nS,\n",
    "    :nL => nL,\n",
    "    :C => C,\n",
    "    :C_RU => C_RU,\n",
    "    :C_RD => C_RD,\n",
    "    :P_max => P_max,\n",
    "    :C_U => C_U,\n",
    "    :C_D => C_D,\n",
    "    :pi => pi,\n",
    "    :V_LOL => V_LOL,\n",
    "    :C_cur => C_cur,\n",
    "    :L => L,\n",
    "    :W_realized => W_realized,\n",
    "    :P_max => P_max,\n",
    "    :b => b,\n",
    "    :LC_Max => LC_Max\n",
    "    );\n",
    "print(W_realized[1,2,1])"
   ]
  },
  {
   "cell_type": "code",
   "execution_count": 63,
   "metadata": {},
   "outputs": [],
   "source": [
    "function init_variables(model::JuMP.Model)\n",
    "    P=@variable(model, P[p in data[:nP], t in data[:nt]] >=0)\n",
    "    R_U=@variable(model, R_U[p in data[:nP], t in data[:nt]] >=0)\n",
    "    R_D=@variable(model, R_D[p in data[:nP], t in data[:nt]] >=0)\n",
    "    r_U=@variable(model, r_U[p in data[:nP], s in data[:nS], t in data[:nt]] >=0)\n",
    "    r_D=@variable(model, r_D[p in data[:nP], s in data[:nS], t in data[:nt]] >=0)\n",
    "    L_Shed=@variable(model, L_Shed[l in data[:nL], s in data[:nS], t in data[:nt]] >=0)\n",
    "    W_spill=@variable(model, W_spill[w in data[:nW], s in data[:nS], t in data[:nt]] >=0)\n",
    "    W_s=@variable(model, W_s[w in data[:nW], t in data[:nt]] >=0)\n",
    "    Delta=@variable(model, Delta[i in data[:nB], j in data[:nB]])\n",
    "    PF=@variable(model, PF[s in data[:nS], i in data[:nB], j in data[:nB]])\n",
    "    \n",
    "    vars= Dict(\n",
    "        :P=> P,\n",
    "        :R_U => R_U,\n",
    "        :R_D => R_D,\n",
    "        :r_U => r_U,\n",
    "        :r_D => r_D,\n",
    "        :L_Shed => L_Shed,\n",
    "        :W_spill => W_spill,\n",
    "        :W_s => W_s,\n",
    "        :Delta => Delta\n",
    "        :PF => PF\n",
    "    )\n",
    "    \n",
    "    return vars\n",
    "end;"
   ]
  },
  {
   "cell_type": "code",
   "execution_count": 64,
   "metadata": {},
   "outputs": [],
   "source": [
    "function init_constraints(model::JuMP.Model, data::Dict, vars::Dict)\n",
    "    @constraints(model, begin \n",
    "            c1[p in data[:nP], t in data[:nt]], vars[:P][p, t]+ vars[:R_U][p, t]<= P_max[p]\n",
    "            c2[p in data[:nP] ,t in data[:nt]], vars[:P][p, t]- vars[:R_D][p, t]>= 0\n",
    "            c3[p in data[:nP], t in data[:nt], s in data[:nS]], vars[:r_U][p, s, t] <= vars[:R_U][p,t]\n",
    "            c4[p in data[:nP], t in data[:nt], s in data[:nS]], vars[:r_D][p, s, t] <= vars[:R_D][p,t]\n",
    "            c5[s in data[:nS], b1 in data[:nB], b2 in data[:nB], vars[:PF[b1, b2]] <= data[:LC_Max[b1,b2]]]\n",
    "            c6[s in data[:nS], b1 in data[:nB], b2 in data[:nB], vars[:Delta[b1, b2]] - vars[:Delta[b2, b1]] * data[:b[b1, b2]] == vars[:PF[b1, b2]]]\n",
    "            Power_balance_day_ahead[t in data[:nt]], \n",
    "            sum(vars[:P][p,t] for p in data[:nP]) + sum(vars[:W_s][w, t] for w in data[:nW]) - sum(L[l, t] for l in data[:nL]) - vars[:PF[b1, b2]] == 0\n",
    "            Power_balance_at_stage[s in data[:nS], t in data[:nt]], \n",
    "            sum(vars[:r_U][p, s, t] for p in data[:nP]) - sum(vars[:r_D][p, s, t] for p in data[:nP]) - \n",
    "            sum(vars[:L_Shed][l, s, t] for l in data[:nL]) + sum(data[:W_realized][w,s,t] -vars[:W_s][w, t] for w in data[:nW])== 0      \n",
    "    end)\n",
    "end;"
   ]
  },
  {
   "cell_type": "markdown",
   "metadata": {},
   "source": []
  },
  {
   "cell_type": "code",
   "execution_count": null,
   "metadata": {},
   "outputs": [],
   "source": []
  },
  {
   "cell_type": "code",
   "execution_count": null,
   "metadata": {},
   "outputs": [],
   "source": []
  },
  {
   "cell_type": "code",
   "execution_count": 65,
   "metadata": {},
   "outputs": [],
   "source": [
    "function init_obj_function(model, data, vars)\n",
    "    @objective(model, Min, sum(vars[:P][p,t]* C[p] + vars[:R_U][p,t] * C_RU[p] + vars[:R_D][p,t] * C_RD[p] for p in data[:nP], t in data[:nt]) +\n",
    "    sum(pi[s] * (sum(data[:C_U][p] * vars[:r_U][p, s ,t] + data[:C_D][p] * vars[:r_D][p, s, t] for p in data[:nP], t in data[:nt]) +\n",
    "                sum(data[:C_cur][w] * vars[:W_spill][w, s, t] for w in data[:nW], t in data[:nt]) \n",
    "                + sum(data[:V_LOL][l] * vars[:L_Shed][l, s, t] for l in data[:nL], t in data[:nt])) for s in data[:nS])\n",
    "    )\n",
    "end;"
   ]
  },
  {
   "cell_type": "code",
   "execution_count": 66,
   "metadata": {
    "scrolled": false
   },
   "outputs": [
    {
     "name": "stdout",
     "output_type": "stream",
     "text": [
      "Min 10 P[1,1] + 16 R_U[1,1] + 15 R_D[1,1] + 30 P[2,1] + 13 R_U[2,1] + 12 R_D[2,1] + 35 P[3,1] + 10 R_U[3,1] + 9 R_D[3,1] + 6 r_U[1,1,1] + 6 r_D[1,1,1] + 18 r_U[2,1,1] + 18 r_D[2,1,1] + 21 r_U[3,1,1] + 21 r_D[3,1,1] + 120 L_Shed[1,1,1] + 120 L_Shed[2,1,1] + 4 r_U[1,2,1] + 4 r_D[1,2,1] + 12 r_U[2,2,1] + 12 r_D[2,2,1] + 14 r_U[3,2,1] + 14 r_D[3,2,1] + 80 L_Shed[1,2,1] + 80 L_Shed[2,2,1]\n",
      "Subject to\n",
      " Power_balance_day_ahead[1] : P[1,1] + P[2,1] + P[3,1] + W_s[1,1] == 140\n",
      " Power_balance_at_stage[1,1] : r_U[1,1,1] + r_U[2,1,1] + r_U[3,1,1] - r_D[1,1,1] - r_D[2,1,1] - r_D[3,1,1] - L_Shed[1,1,1] - L_Shed[2,1,1] - W_s[1,1] == -50\n",
      " Power_balance_at_stage[2,1] : r_U[1,2,1] + r_U[2,2,1] + r_U[3,2,1] - r_D[1,2,1] - r_D[2,2,1] - r_D[3,2,1] - L_Shed[1,2,1] - L_Shed[2,2,1] - W_s[1,1] == -10\n",
      " c2[1,1] : P[1,1] - R_D[1,1] >= 0\n",
      " c2[2,1] : P[2,1] - R_D[2,1] >= 0\n",
      " c2[3,1] : P[3,1] - R_D[3,1] >= 0\n",
      " c1[1,1] : P[1,1] + R_U[1,1] <= 50\n",
      " c1[2,1] : P[2,1] + R_U[2,1] <= 110\n",
      " c1[3,1] : P[3,1] + R_U[3,1] <= 100\n",
      " c3[1,1,1] : -R_U[1,1] + r_U[1,1,1] <= 0\n",
      " c3[2,1,1] : -R_U[2,1] + r_U[2,1,1] <= 0\n",
      " c3[3,1,1] : -R_U[3,1] + r_U[3,1,1] <= 0\n",
      " c3[1,1,2] : -R_U[1,1] + r_U[1,2,1] <= 0\n",
      " c3[2,1,2] : -R_U[2,1] + r_U[2,2,1] <= 0\n",
      " c3[3,1,2] : -R_U[3,1] + r_U[3,2,1] <= 0\n",
      " c4[1,1,1] : -R_D[1,1] + r_D[1,1,1] <= 0\n",
      " c4[2,1,1] : -R_D[2,1] + r_D[2,1,1] <= 0\n",
      " c4[3,1,1] : -R_D[3,1] + r_D[3,1,1] <= 0\n",
      " c4[1,1,2] : -R_D[1,1] + r_D[1,2,1] <= 0\n",
      " c4[2,1,2] : -R_D[2,1] + r_D[2,2,1] <= 0\n",
      " c4[3,1,2] : -R_D[3,1] + r_D[3,2,1] <= 0\n",
      " P[1,1] >= 0\n",
      " P[2,1] >= 0\n",
      " P[3,1] >= 0\n",
      " R_U[1,1] >= 0\n",
      " R_U[2,1] >= 0\n",
      " R_U[3,1] >= 0\n",
      " R_D[1,1] >= 0\n",
      " R_D[2,1] >= 0\n",
      " R_D[3,1] >= 0\n",
      " r_U[1,1,1] >= 0\n",
      " r_U[2,1,1] >= 0\n",
      " r_U[3,1,1] >= 0\n",
      " r_U[1,2,1] >= 0\n",
      " r_U[2,2,1] >= 0\n",
      " r_U[3,2,1] >= 0\n",
      " r_D[1,1,1] >= 0\n",
      " r_D[2,1,1] >= 0\n",
      " r_D[3,1,1] >= 0\n",
      " r_D[1,2,1] >= 0\n",
      " r_D[2,2,1] >= 0\n",
      " r_D[3,2,1] >= 0\n",
      " L_Shed[1,1,1] >= 0\n",
      " L_Shed[2,1,1] >= 0\n",
      " L_Shed[1,2,1] >= 0\n",
      " L_Shed[2,2,1] >= 0\n",
      " W_spill[1,1,1] >= 0\n",
      " W_spill[1,2,1] >= 0\n",
      " W_s[1,1] >= 0\n"
     ]
    }
   ],
   "source": [
    "model=Model(HiGHS.Optimizer)\n",
    "vars=init_variables(model)\n",
    "init_constraints(model, data, vars)\n",
    "init_obj_function(model, data, vars)\n",
    "print(model)"
   ]
  },
  {
   "cell_type": "code",
   "execution_count": 67,
   "metadata": {},
   "outputs": [
    {
     "name": "stdout",
     "output_type": "stream",
     "text": [
      "Running HiGHS 1.6.0: Copyright (c) 2023 HiGHS under MIT licence terms\n",
      "Presolving model\n",
      "21 rows, 24 cols, 56 nonzeros\n",
      "20 rows, 23 cols, 56 nonzeros\n",
      "Presolve : Reductions: rows 20(-1); columns 23(-5); elements 56(-2)\n",
      "Solving the presolved LP\n",
      "Using EKK dual simplex solver - serial\n",
      "  Iteration        Objective     Infeasibilities num(sum)\n",
      "          0    -9.9999686469e+00 Ph1: 3(3); Du: 1(9.99997) 0s\n",
      "          7     2.6600000000e+03 Pr: 0(0) 0s\n",
      "Solving the original LP from the solution after postsolve\n",
      "Model   status      : Optimal\n",
      "Simplex   iterations: 7\n",
      "Objective value     :  2.6600000000e+03\n",
      "HiGHS run time      :          0.00\n"
     ]
    }
   ],
   "source": [
    "optimize!(model)"
   ]
  },
  {
   "cell_type": "code",
   "execution_count": 76,
   "metadata": {},
   "outputs": [
    {
     "name": "stdout",
     "output_type": "stream",
     "text": [
      "Variable values:\n",
      "P:\n",
      "P[1]: 50.0\n",
      "P[2]: 40.0\n",
      "P[3]: 0.0\n",
      "\n",
      "R_U:\n",
      "R_U[1]: 0.0\n",
      "R_U[2]: 0.0\n",
      "R_U[3]: 40.0\n",
      "\n",
      "R_D:\n",
      "R_D[1]: 0.0\n",
      "R_D[2]: 0.0\n",
      "R_D[3]: 0.0\n",
      "\n",
      "L_Shed:\n",
      "L_Shed[1, 1, 1]: 0.0\n",
      "L_Shed[1, 2, 1]: 0.0\n",
      "L_Shed[2, 1, 1]: 0.0\n",
      "L_Shed[2, 2, 1]: 0.0\n",
      "\n",
      "W_spill:"
     ]
    },
    {
     "name": "stdout",
     "output_type": "stream",
     "text": [
      "\n",
      "W_spill[1, 1, 1]: 0.0\n",
      "W_spill[1, 2, 1]: 0.0\n",
      "\n",
      "W_realized:\n",
      "W_realized[1, 1, 1]: 50\n",
      "W_realized[1, 2, 1]: 10\n",
      "\n",
      "W_s:\n",
      "W_s[1, 1]: 50.0\n",
      "\n",
      "r_U:\n",
      "r_U[1, 1, 1]: 0.0\n",
      "r_U[1, 2, 1]: -0.0\n",
      "r_U[2, 1, 1]: 0.0\n",
      "r_U[2, 2, 1]: -0.0\n",
      "r_U[3, 1, 1]: 0.0\n",
      "r_U[3, 2, 1]: 40.0\n",
      "\n",
      "r_D:\n",
      "r_D[1, 1, 1]: 0.0\n",
      "r_D[1, 2, 1]: 0.0\n",
      "r_D[2, 1, 1]: 0.0\n",
      "r_D[2, 2, 1]: "
     ]
    },
    {
     "name": "stdout",
     "output_type": "stream",
     "text": [
      "0.0\n",
      "r_D[3, 1, 1]: 0.0\n",
      "r_D[3, 2, 1]: 0.0\n",
      "\n",
      "Load\n",
      "L[1]:40L[2]:100\n",
      "\n",
      "sum:"
     ]
    },
    {
     "name": "stdout",
     "output_type": "stream",
     "text": [
      "140"
     ]
    },
    {
     "ename": "MethodError",
     "evalue": "MethodError: no method matching &(::String, ::Float64)\n\nClosest candidates are:\n  &(::Any, ::Any, !Matched::Any, !Matched::Any...)\n   @ Base operators.jl:578\n",
     "output_type": "error",
     "traceback": [
      "MethodError: no method matching &(::String, ::Float64)\n",
      "\n",
      "Closest candidates are:\n",
      "  &(::Any, ::Any, !Matched::Any, !Matched::Any...)\n",
      "   @ Base operators.jl:578\n",
      "\n",
      "\n",
      "Stacktrace:\n",
      " [1] top-level scope\n",
      "   @ a:\\07Dissertation\\01 Seminare\\AMO\\Abgabe\\Team_assignment_AMO\\Model.ipynb:55"
     ]
    }
   ],
   "source": [
    "# Print the values of the variables\n",
    "println(\"Variable values:\")\n",
    "println(\"P:\")\n",
    "for p in data[:nP], t in data[:nt]\n",
    "    println(\"P[$p]: \", value(vars[:P][p, t]))\n",
    "end\n",
    "\n",
    "println(\"\\nR_U:\")\n",
    "for p in data[:nP], t in data[:nt]\n",
    "    println(\"R_U[$p]: \", value(vars[:R_U][p, t]))\n",
    "end\n",
    "\n",
    "println(\"\\nR_D:\")\n",
    "for p in data[:nP], t in data[:nt]\n",
    "    println(\"R_D[$p]: \", value(vars[:R_D][p, t]))\n",
    "end\n",
    "\n",
    "println(\"\\nL_Shed:\")\n",
    "for l in data[:nL], s in data[:nS], t in data[:nt]\n",
    "    println(\"L_Shed[$l, $s, $t]: \", value(vars[:L_Shed][l, s, t]))\n",
    "end\n",
    "\n",
    "println(\"\\nW_spill:\")\n",
    "for w in data[:nW], s in data[:nS], t in data[:nt]\n",
    "    println(\"W_spill[$w, $s, $t]: \", value(vars[:W_spill][w, s, t]))\n",
    "end\n",
    "\n",
    "println(\"\\nW_realized:\")\n",
    "for w in data[:nW], s in data[:nS], t in data[:nt]\n",
    "    println(\"W_realized[$w, $s, $t]: \", value(data[:W_realized][w, s, t]))\n",
    "end\n",
    "\n",
    "println(\"\\nW_s:\")\n",
    "for w in data[:nW], t in data[:nt]\n",
    "    println(\"W_s[$w, $t]: \", value(vars[:W_s][w, t]))\n",
    "end\n",
    "\n",
    "println(\"\\nr_U:\")\n",
    "for p in data[:nP], s in data[:nS], t in data[:nt]\n",
    "    println(\"r_U[$p, $s, $t]: \", value(vars[:r_U][p, s, t]))\n",
    "end\n",
    "\n",
    "println(\"\\nr_D:\")\n",
    "for p in data[:nP], s in data[:nS], t in data[:nt]\n",
    "    println(\"r_D[$p, $s, $t]: \", value(vars[:r_D][p, s, t]))\n",
    "end\n",
    "\n",
    "println(\"\\nLoad\")\n",
    "for l in data[:nL]\n",
    "    print(\"L[$l]:\", data[:L][l])\n",
    "end\n",
    "\n",
    "print(\"\\n\\nsum:\", sum(data[:L]))\n",
    "\"\"\"\n",
    "print(\"Day-ahead Energy Cost\" & sum(value(vars[:P][p,t])* C[p] for p in data[:nP], t in data[:nt]))\n",
    "\n",
    "print(\"Reserve capacity costs\" & vars[:R_U][p,t] * C_RU[p] + vars[:R_D][p,t] * C_RD[p] for p in data[:nP], t in data[:nt])\n",
    "\n",
    "print(\"Balancing costs in scenarios\" & sum(pi[s] * (sum(data[:C_U][p] * vars[:r_U][p, s ,t] + data[:C_D][p] * vars[:r_D][p, s, t] for p in data[:nP], t in data[:nt]) +\n",
    "            sum(data[:C_cur][w] * vars[:W_spill][w, s, t] for w in data[:nW], t in data[:nt]) \n",
    "            + sum(data[:V_LOL][l] * vars[:L_Shed][l, s, t] for l in data[:nL], t in data[:nt])) for s in data[:nS]))\n",
    "\"\"\""
   ]
  },
  {
   "cell_type": "code",
   "execution_count": null,
   "metadata": {},
   "outputs": [],
   "source": []
  }
 ],
 "metadata": {
  "kernelspec": {
   "display_name": "Julia 1.9.4",
   "language": "julia",
   "name": "julia-1.9"
  },
  "language_info": {
   "file_extension": ".jl",
   "mimetype": "application/julia",
   "name": "julia",
   "version": "1.9.4"
  },
  "toc": {
   "base_numbering": 1,
   "nav_menu": {},
   "number_sections": true,
   "sideBar": true,
   "skip_h1_title": false,
   "title_cell": "Table of Contents",
   "title_sidebar": "Contents",
   "toc_cell": true,
   "toc_position": {},
   "toc_section_display": true,
   "toc_window_display": false
  }
 },
 "nbformat": 4,
 "nbformat_minor": 4
}
