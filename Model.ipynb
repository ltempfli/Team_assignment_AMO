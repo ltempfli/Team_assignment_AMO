{
 "cells": [
  {
   "cell_type": "markdown",
   "metadata": {
    "toc": true
   },
   "source": [
    "<h1>Table of Contents<span class=\"tocSkip\"></span></h1>\n",
    "<div class=\"toc\"><ul class=\"toc-item\"></ul></div>"
   ]
  },
  {
   "cell_type": "code",
   "execution_count": 8,
   "metadata": {},
   "outputs": [
    {
     "name": "stderr",
     "output_type": "stream",
     "text": [
      "\u001b[32m\u001b[1m  Activating\u001b[22m\u001b[39m project at `a:\\07Dissertation\\01 Seminare\\AMO\\Abgabe\\Team_assignment_AMO`"
     ]
    },
    {
     "name": "stderr",
     "output_type": "stream",
     "text": [
      "\n"
     ]
    },
    {
     "name": "stderr",
     "output_type": "stream",
     "text": [
      "┌ Warning: The active manifest file has dependencies that were resolved with a different julia version (1.10.0). Unexpected behavior may occur.\n",
      "└ @ nothing A:\\07Dissertation\\01 Seminare\\AMO\\Abgabe\\Team_assignment_AMO\\Manifest.toml:0\n"
     ]
    },
    {
     "name": "stderr",
     "output_type": "stream",
     "text": [
      "\u001b[32m\u001b[1m   Installed\u001b[22m\u001b[39m CodecBzip2 ───────── v0.8.2\n",
      "\u001b[32m\u001b[1m   Installed\u001b[22m\u001b[39m CodecZlib ────────── v0.7.4\n"
     ]
    },
    {
     "name": "stderr",
     "output_type": "stream",
     "text": [
      "\u001b[32m\u001b[1m   Installed\u001b[22m\u001b[39m TranscodingStreams ─ v0.10.3\n"
     ]
    },
    {
     "name": "stderr",
     "output_type": "stream",
     "text": [
      "\u001b[32m\u001b[1m   Installed\u001b[22m\u001b[39m JuMP ─────────────── v1.19.0\n"
     ]
    },
    {
     "name": "stderr",
     "output_type": "stream",
     "text": [
      "\u001b[32m\u001b[1m   Installed\u001b[22m\u001b[39m MathOptInterface ─── v1.25.2\n"
     ]
    },
    {
     "name": "stderr",
     "output_type": "stream",
     "text": [
      "\u001b[32m\u001b[1mPrecompiling\u001b[22m\u001b[39m "
     ]
    },
    {
     "name": "stderr",
     "output_type": "stream",
     "text": [
      "project...\n"
     ]
    },
    {
     "name": "stderr",
     "output_type": "stream",
     "text": [
      "\u001b[32m  ✓ \u001b[39m\u001b[90mTranscodingStreams\u001b[39m\n"
     ]
    },
    {
     "name": "stderr",
     "output_type": "stream",
     "text": [
      "\u001b[32m  ✓ \u001b[39m\u001b[90mConda\u001b[39m\n"
     ]
    },
    {
     "name": "stderr",
     "output_type": "stream",
     "text": [
      "\u001b[32m  ✓ \u001b[39m\u001b[90mTranscodingStreams → TestExt\u001b[39m\n"
     ]
    },
    {
     "name": "stderr",
     "output_type": "stream",
     "text": [
      "\u001b[32m  ✓ \u001b[39m\u001b[90mCodecZlib\u001b[39m\n"
     ]
    },
    {
     "name": "stderr",
     "output_type": "stream",
     "text": [
      "\u001b[32m  ✓ \u001b[39m\u001b[90mCodecBzip2\u001b[39m\n"
     ]
    },
    {
     "name": "stderr",
     "output_type": "stream",
     "text": [
      "\u001b[32m  ✓ \u001b[39mIJulia\n"
     ]
    },
    {
     "name": "stderr",
     "output_type": "stream",
     "text": [
      "\u001b[32m  ✓ \u001b[39m\u001b[90mMathOptInterface\u001b[39m\n"
     ]
    },
    {
     "name": "stderr",
     "output_type": "stream",
     "text": [
      "\u001b[32m  ✓ \u001b[39mHiGHS\n"
     ]
    },
    {
     "name": "stderr",
     "output_type": "stream",
     "text": [
      "\u001b[32m  ✓ \u001b[39mJuMP\n",
      "  9 dependencies successfully precompiled in 140 seconds. 56 already precompiled.\n"
     ]
    }
   ],
   "source": [
    "using Pkg; Pkg.activate(\".\")\n",
    "Pkg.instantiate()"
   ]
  },
  {
   "cell_type": "code",
   "execution_count": 9,
   "metadata": {},
   "outputs": [],
   "source": [
    "using JuMP,HiGHS,DataFrames\n"
   ]
  },
  {
   "cell_type": "code",
   "execution_count": 124,
   "metadata": {},
   "outputs": [
    {
     "ename": "ArgumentError",
     "evalue": "ArgumentError: number of columns of each array must match (got (2, 1))",
     "output_type": "error",
     "traceback": [
      "ArgumentError: number of columns of each array must match (got (2, 1))\n",
      "\n",
      "Stacktrace:\n",
      " [1] _typed_vcat(#unused#::Type{Int64}, A::Tuple{Matrix{Int64}, Vector{Int64}})\n",
      "   @ Base .\\abstractarray.jl:1689\n",
      " [2] typed_vcat\n",
      "   @ .\\abstractarray.jl:1703 [inlined]\n",
      " [3] vcat(::Matrix{Int64}, ::Vector{Int64})\n",
      "   @ Base .\\array.jl:1958\n",
      " [4] top-level scope\n",
      "   @ a:\\07Dissertation\\01 Seminare\\AMO\\Abgabe\\Team_assignment_AMO\\Model.ipynb:26"
     ]
    }
   ],
   "source": [
    "#I=1:3                                  #number of generation units\n",
    "#Q=1:1                                  #number of stochastic generation units\n",
    "#T=1:1                                  #number of time intervalls \n",
    "#Ω=1:2                                  #number of scenarios\n",
    "#J=1:2                                  #number of loads\n",
    "#Λ=1:1                                  #number of buses\n",
    "#C=[100, 80, 50]                         #unit cost of generation\n",
    "#C_RU=[20, 10, 15]                       #cost of up reserve commitment\n",
    "#C_RD=[25, 15, 15]                       #cost of down reserve commitment\n",
    "#C_U=[10, 15, 20]                        #cost of up reserve commitment\n",
    "#C_D=[30, 10, 15]                        #cost of down reserve commitment\n",
    "#π=[0.7, 0.3]                           #probabilities of the scenarios\n",
    "#V_LOL=[20, 25]                          #value of the lost load\n",
    "#C_cur=[15]                              #cost of curtailment at turbine\n",
    "#L= 90 .+ 30 * randn(2, 1)               #loads for every time intervall\n",
    "#W_realized = 70 .+ 15 * randn(1, 2, 1)  #create random scenarios for four time points\n",
    "#P_max=[70, 80, 150];                    #maximum production capacity\n",
    "\n",
    "N = 1:2                                #number of nodes (buses)\n",
    "I=[1:2; 1:1]                           #number of generation units of node n\n",
    "Q=[1:1; 0]                             #number of stochastic generation units of node n\n",
    "T=1:1                                  #number of time intervalls \n",
    "Ω=1:2                                  #number of scenarios\n",
    "J=[1:1; 1:1]                           #number of loads  of node n\n",
    "Λ=[[2] [1]]                            #set of nodes directly connected to node n\n",
    "C=[[10 30]; [35]]                          #unit cost of generation C[N,I]\n",
    "print(C[2,1])\n",
    "C_RU=[[16 13] [10]]                       #cost of up reserve commitment\n",
    "C_RD=[[15 12] [9]]                        #cost of down reserve commitment\n",
    "C_U=[[10 30] [35]]                        #cost of up reserve commitment\n",
    "C_D=[[10 30] [35]]                        #cost of down reserve commitment\n",
    "π=[0.6, 0.4]                           #probabilities of the scenarios\n",
    "V_LOL=[[200] [200]]                        #value of the lost load\n",
    "C_cur=[0] #[15]                         #cost of curtailment at turbine\n",
    "L= [[40] [100]]               #loads for every time intervall L=[N T]\n",
    "#print(L[1,2])\n",
    "W_realized = [[[50] [10]] [[50] [10]] [[50] [10]]] #create random scenarios for four time points q,ω,t\n",
    "#[[[111 112] [121 122]] [[211 212] [221 222]] [[311 312] [321 322]]]\n",
    "P_max=[[50 110] [100]];                   #maximum production capacity\n",
    "b = [[1 1/0.13] [1/0.13 1]]                     #line susceptance (loss of transmission)\n",
    "LC_Max = [[0 100] [100 0]]          #maximum transmission quantity between two buses"
   ]
  },
  {
   "cell_type": "code",
   "execution_count": 78,
   "metadata": {},
   "outputs": [
    {
     "name": "stdout",
     "output_type": "stream",
     "text": [
      "10"
     ]
    }
   ],
   "source": [
    "data= Dict(\n",
    "    :I => I,\n",
    "    :Q => Q,\n",
    "    :T => T,\n",
    "    :Ω => Ω,\n",
    "    :J => J,\n",
    "    :C => C,\n",
    "    :C_RU => C_RU,\n",
    "    :C_RD => C_RD,\n",
    "    :P_max => P_max,\n",
    "    :C_U => C_U,\n",
    "    :C_D => C_D,\n",
    "    :π => π,\n",
    "    :V_LOL => V_LOL,\n",
    "    :C_cur => C_cur,\n",
    "    :L => L,\n",
    "    :W_realized => W_realized,\n",
    "    :P_max => P_max,\n",
    "    :b => b,\n",
    "    :LC_Max => LC_Max\n",
    "    );\n",
    "print(W_realized[1,2,1])"
   ]
  },
  {
   "cell_type": "code",
   "execution_count": 113,
   "metadata": {},
   "outputs": [],
   "source": [
    "function init_variables(model::JuMP.Model)\n",
    "    P=@variable(model, P[n in data[:N], i in data[:I[n]], t in data[:T]] >=0) #energy generated\n",
    "    R_U=@variable(model, R_U[n in data[:N], i in data[:I[n]], t in data[:T]] >=0) #committed upward reserve capacity of generator i\n",
    "    R_D=@variable(model, R_D[n in data[:N], i in data[:I[n]], t in data[:T]] >=0) #committed downward reserve capacity of generator i\n",
    "    r_U=@variable(model, r_U[n in data[:N], i in data[:I[n]], ω in data[:Ω], t in data[:T]] >=0) #up regulation of generator i in case 𝜔\n",
    "    r_D=@variable(model, r_D[n in data[:N], i in data[:I[n]], ω in data[:Ω], t in data[:T]] >=0) #down regulation of generator i in case 𝜔\n",
    "    L_Shed=@variable(model, L_Shed[n in data[:N], j in data[:J[n]], ω in data[:Ω], t in data[:T]] >=0) #loss of load at load demand j in case 𝜔\n",
    "    W_spill=@variable(model, W_spill[n in data[:N], q in data[:Q[n]], ω in data[:Ω], t in data[:T]] >=0) #curtailment of turbine q in case 𝜔\n",
    "    W_s=@variable(model, W_s[n in data[:N], q in data[:Q[n]], t in data[:T]] >=0) #scheduled wind power generation at turbine q\n",
    "    𝛿=@variable(model, 𝛿[n in data[:N], ℓ in data[:Λ[n]]]) #voltage angle\n",
    "    PF=@variable(model, PF[n in data[:N], ℓ in data[:Λ[n]]]) #power flow\n",
    "    PF_scenario=@variable(model, PF[ω in data[:Ω], n in data[:N], ℓ in data[:Λ[n]]]) #power flow scenario\n",
    "    \n",
    "    vars= Dict(\n",
    "        :P=> P,\n",
    "        :R_U => R_U,\n",
    "        :R_D => R_D,\n",
    "        :r_U => r_U,\n",
    "        :r_D => r_D,\n",
    "        :L_Shed => L_Shed,\n",
    "        :W_spill => W_spill,\n",
    "        :W_s => W_s,\n",
    "        :𝛿 => 𝛿\n",
    "        :PF => PF\n",
    "        :PF_scenario => PF_scenario\n",
    "    )\n",
    "    \n",
    "    return vars\n",
    "end;\n"
   ]
  },
  {
   "cell_type": "code",
   "execution_count": 114,
   "metadata": {},
   "outputs": [
    {
     "ename": "LoadError",
     "evalue": "LoadError: At a:\\07Dissertation\\01 Seminare\\AMO\\Abgabe\\Team_assignment_AMO\\Model.ipynb:7: `@constraint(model, c5[ω in data[:Ω], b1 in data[:Λ], b2 in data[:Λ], vars[(:PF_scenario)[ω, b1, b2]] <= data[(:LC_Max)[b1, b2]]])`: No constraint expression was given.\nin expression starting at a:\\07Dissertation\\01 Seminare\\AMO\\Abgabe\\Team_assignment_AMO\\Model.ipynb:7",
     "output_type": "error",
     "traceback": [
      "LoadError: At a:\\07Dissertation\\01 Seminare\\AMO\\Abgabe\\Team_assignment_AMO\\Model.ipynb:7: `@constraint(model, c5[ω in data[:Ω], b1 in data[:Λ], b2 in data[:Λ], vars[(:PF_scenario)[ω, b1, b2]] <= data[(:LC_Max)[b1, b2]]])`: No constraint expression was given.\n",
      "in expression starting at a:\\07Dissertation\\01 Seminare\\AMO\\Abgabe\\Team_assignment_AMO\\Model.ipynb:7\n",
      "\n",
      "Stacktrace:\n",
      "  [1] error(::String, ::String)\n",
      "    @ Base .\\error.jl:44\n",
      "  [2] (::JuMP.Containers.var\"#error_fn#98\"{String})(::String, ::Vararg{Any})\n",
      "    @ JuMP.Containers C:\\Users\\Leonie Hergeth\\.julia\\packages\\JuMP\\HjlGr\\src\\Containers\\macro.jl:325\n",
      "  [3] var\"@constraint\"(__source__::LineNumberNode, __module__::Module, input_args::Vararg{Any})\n",
      "    @ JuMP C:\\Users\\Leonie Hergeth\\.julia\\packages\\JuMP\\HjlGr\\src\\macros\\@constraint.jl:88\n",
      "  [4] eval\n",
      "    @ .\\boot.jl:370 [inlined]\n",
      "  [5] include_string(mapexpr::typeof(REPL.softscope), mod::Module, code::String, filename::String)\n",
      "    @ Base .\\loading.jl:1903\n",
      "  [6] #invokelatest#2\n",
      "    @ .\\essentials.jl:819 [inlined]\n",
      "  [7] invokelatest\n",
      "    @ .\\essentials.jl:816 [inlined]\n",
      "  [8] (::VSCodeServer.var\"#208#209\"{VSCodeServer.NotebookRunCellArguments, String})()\n",
      "    @ VSCodeServer c:\\Users\\Leonie Hergeth\\.vscode\\extensions\\julialang.language-julia-1.66.2\\scripts\\packages\\VSCodeServer\\src\\serve_notebook.jl:19\n",
      "  [9] withpath(f::VSCodeServer.var\"#208#209\"{VSCodeServer.NotebookRunCellArguments, String}, path::String)\n",
      "    @ VSCodeServer c:\\Users\\Leonie Hergeth\\.vscode\\extensions\\julialang.language-julia-1.66.2\\scripts\\packages\\VSCodeServer\\src\\repl.jl:274\n",
      " [10] notebook_runcell_request(conn::VSCodeServer.JSONRPC.JSONRPCEndpoint{Base.PipeEndpoint, Base.PipeEndpoint}, params::VSCodeServer.NotebookRunCellArguments)\n",
      "    @ VSCodeServer c:\\Users\\Leonie Hergeth\\.vscode\\extensions\\julialang.language-julia-1.66.2\\scripts\\packages\\VSCodeServer\\src\\serve_notebook.jl:13\n",
      " [11] dispatch_msg(x::VSCodeServer.JSONRPC.JSONRPCEndpoint{Base.PipeEndpoint, Base.PipeEndpoint}, dispatcher::VSCodeServer.JSONRPC.MsgDispatcher, msg::Dict{String, Any})\n",
      "    @ VSCodeServer.JSONRPC c:\\Users\\Leonie Hergeth\\.vscode\\extensions\\julialang.language-julia-1.66.2\\scripts\\packages\\JSONRPC\\src\\typed.jl:67\n",
      " [12] serve_notebook(pipename::String, outputchannel_logger::Base.CoreLogging.SimpleLogger; crashreporting_pipename::String)\n",
      "    @ VSCodeServer c:\\Users\\Leonie Hergeth\\.vscode\\extensions\\julialang.language-julia-1.66.2\\scripts\\packages\\VSCodeServer\\src\\serve_notebook.jl:139\n",
      " [13] top-level scope\n",
      "    @ c:\\Users\\Leonie Hergeth\\.vscode\\extensions\\julialang.language-julia-1.66.2\\scripts\\notebook\\notebook.jl:32"
     ]
    }
   ],
   "source": [
    "function init_constraints(model::JuMP.Model, data::Dict, vars::Dict)\n",
    "    @constraints(model, begin \n",
    "            c1[n in data[:N],i in data[:I[n]], t in data[:T]], vars[:P][n, i, t]+ vars[:R_U][n, i, t]<= P_max[n, i]\n",
    "            c2[n in data[:N],i in data[:I] ,t in data[:T]], vars[:P][n, i, t]- vars[:R_D][n, i, t]>= 0\n",
    "            c3[n in data[:N],i in data[:I], t in data[:T], ω in data[:Ω]], vars[:r_U][n, i, ω, t] <= vars[:R_U][n, i,t]\n",
    "            c4[n in data[:N],i in data[:I], t in data[:T], ω in data[:Ω]], vars[:r_D][n, i, ω, t] <= vars[:R_D][n, i,t]\n",
    "            c5[ω in data[:Ω], n in data[:N], ℓ in data[:Λ[n]], vars[:PF_scenario[ω, n, ℓ]] <= data[:LC_Max[n,ℓ]]]\n",
    "            c6[n in data[:N], ℓ in data[:Λ[n]], vars[:PF[n, ℓ]] <= data[:LC_Max[n,ℓ]]]\n",
    "            c7[ω in data[:Ω], n in data[:N], ℓ in data[:Λ[n]], (vars[:Delta[n, ℓ]] - vars[:Delta[ℓ, n]]) * data[:b[n, ℓ]] == vars[:PF[n, ℓ]]]\n",
    "            \n",
    "            Power_balance_day_ahead[n in data[:N], t in data[:T]], \n",
    "            sum(vars[:P][i,t] for i in data[:I[n]]) + sum(vars[:W_s][q, t] for q in data[:Q[n]]) - sum(L[j, t] for j in data[:J[n]]) - sum(vars[:PF[n, ℓ]] for ℓ in data[:Λ[n]]) == 0\n",
    "\n",
    "            Power_balance_at_stage[ω in data[:Ω], t in data[:T]], \n",
    "            sum(vars[:r_U][i, ω, t] for i in data[:I]) - sum(vars[:r_D][i, ω, t] for i in data[:I]) - \n",
    "            sum(vars[:L_Shed][j, ω, t] for j in data[:J]) + sum(data[:W_realized][q,ω,t] -vars[:W_s][q, t] for q in data[:Q])== 0      \n",
    "    end)\n",
    "end;\n",
    "\n",
    "\"\"\"\n",
    "\n",
    "\"\"\""
   ]
  },
  {
   "cell_type": "code",
   "execution_count": 87,
   "metadata": {},
   "outputs": [],
   "source": [
    "function init_obj_function(model, data, vars)\n",
    "    @objective(model, Min, sum(vars[:P][i,t]* C[i] + vars[:R_U][i,t] * C_RU[i] + vars[:R_D][i,t] * C_RD[i] for i in data[:I], t in data[:T]) +\n",
    "    sum(π[ω] * (sum(data[:C_U][i] * vars[:r_U][i, ω ,t] + data[:C_D][i] * vars[:r_D][i, ω, t] for i in data[:I], t in data[:T]) +\n",
    "                sum(data[:C_cur][q] * vars[:W_spill][q, ω, t] for q in data[:Q], t in data[:T]) \n",
    "                + sum(data[:V_LOL][j] * vars[:L_Shed][j, ω, t] for j in data[:J], t in data[:T])) for ω in data[:Ω])\n",
    "    )\n",
    "end;"
   ]
  },
  {
   "cell_type": "code",
   "execution_count": 88,
   "metadata": {
    "scrolled": false
   },
   "outputs": [
    {
     "name": "stdout",
     "output_type": "stream",
     "text": [
      "Min 10 P[1,1] + 16 R_U[1,1] + 15 R_D[1,1] + 30 P[2,1] + 13 R_U[2,1] + 12 R_D[2,1] + 35 P[3,1] + 10 R_U[3,1] + 9 R_D[3,1] + 6 r_U[1,1,1] + 6 r_D[1,1,1] + 18 r_U[2,1,1] + 18 r_D[2,1,1] + 21 r_U[3,1,1] + 21 r_D[3,1,1] + 120 L_Shed[1,1,1] + 120 L_Shed[2,1,1] + 4 r_U[1,2,1] + 4 r_D[1,2,1] + 12 r_U[2,2,1] + 12 r_D[2,2,1] + 14 r_U[3,2,1] + 14 r_D[3,2,1] + 80 L_Shed[1,2,1] + 80 L_Shed[2,2,1]\n",
      "Subject to\n",
      " Power_balance_day_ahead[1] : P[1,1] + P[2,1] + P[3,1] + W_s[1,1] == 140\n",
      " Power_balance_at_stage[1,1] : r_U[1,1,1] + r_U[2,1,1] + r_U[3,1,1] - r_D[1,1,1] - r_D[2,1,1] - r_D[3,1,1] - L_Shed[1,1,1] - L_Shed[2,1,1] - W_s[1,1] == -50\n",
      " Power_balance_at_stage[2,1] : r_U[1,2,1] + r_U[2,2,1] + r_U[3,2,1] - r_D[1,2,1] - r_D[2,2,1] - r_D[3,2,1] - L_Shed[1,2,1] - L_Shed[2,2,1] - W_s[1,1] == -10\n",
      " c2[1,1] : P[1,1] - R_D[1,1] >= 0\n",
      " c2[2,1] : P[2,1] - R_D[2,1] >= 0\n",
      " c2[3,1] : P[3,1] - R_D[3,1] >= 0\n",
      " c1[1,1] : P[1,1] + R_U[1,1] <= 50\n",
      " c1[2,1] : P[2,1] + R_U[2,1] <= 110\n",
      " c1[3,1] : P[3,1] + R_U[3,1] <= 100\n",
      " c3[1,1,1] : -R_U[1,1] + r_U[1,1,1] <= 0\n",
      " c3[2,1,1] : -R_U[2,1] + r_U[2,1,1] <= 0\n",
      " c3[3,1,1] : -R_U[3,1] + r_U[3,1,1] <= 0\n",
      " c3[1,1,2] : -R_U[1,1] + r_U[1,2,1] <= 0\n",
      " c3[2,1,2] : -R_U[2,1] + r_U[2,2,1] <= 0\n",
      " c3[3,1,2] : -R_U[3,1] + r_U[3,2,1] <= 0\n",
      " c4[1,1,1] : -R_D[1,1] + r_D[1,1,1] <= 0\n",
      " c4[2,1,1] : -R_D[2,1] + r_D[2,1,1] <= 0\n",
      " c4[3,1,1] : -R_D[3,1] + r_D[3,1,1] <= 0\n",
      " c4[1,1,2] : -R_D[1,1] + r_D[1,2,1] <= 0\n",
      " c4[2,1,2] : -R_D[2,1] + r_D[2,2,1] <= 0\n",
      " c4[3,1,2] : -R_D[3,1] + r_D[3,2,1] <= 0\n",
      " P[1,1] >= 0\n",
      " P[2,1] >= 0\n",
      " P[3,1] >= 0\n",
      " R_U[1,1] >= 0\n",
      " R_U[2,1] >= 0\n",
      " R_U[3,1] >= 0\n",
      " R_D[1,1] >= 0\n",
      " R_D[2,1] >= 0\n",
      " R_D[3,1] >= 0\n",
      " r_U[1,1,1] >= 0\n",
      " r_U[2,1,1] >= 0\n",
      " r_U[3,1,1] >= 0\n",
      " r_U[1,2,1] >= 0\n",
      " r_U[2,2,1] >= 0\n",
      " r_U[3,2,1] >= 0\n",
      " r_D[1,1,1] >= 0\n",
      " r_D[2,1,1] >= 0\n",
      " r_D[3,1,1] >= 0\n",
      " r_D[1,2,1] >= 0\n",
      " r_D[2,2,1] >= 0\n",
      " r_D[3,2,1] >= 0\n",
      " L_Shed[1,1,1] >= 0\n",
      " L_Shed[2,1,1] >= 0\n",
      " L_Shed[1,2,1] >= 0\n",
      " L_Shed[2,2,1] >= 0\n",
      " W_spill[1,1,1] >= 0\n",
      " W_spill[1,2,1] >= 0\n",
      " W_s[1,1] >= 0\n"
     ]
    }
   ],
   "source": [
    "model=Model(HiGHS.Optimizer)\n",
    "vars=init_variables(model)\n",
    "init_constraints(model, data, vars)\n",
    "init_obj_function(model, data, vars)\n",
    "print(model)"
   ]
  },
  {
   "cell_type": "code",
   "execution_count": 89,
   "metadata": {},
   "outputs": [
    {
     "name": "stdout",
     "output_type": "stream",
     "text": [
      "Running HiGHS 1.6.0: Copyright (c) 2023 HiGHS under MIT licence terms\n",
      "Presolving model\n",
      "21 rows, 24 cols, 56 nonzeros\n",
      "20 rows, 23 cols, 56 nonzeros\n",
      "Presolve : Reductions: rows 20(-1); columns 23(-5); elements 56(-2)\n",
      "Solving the presolved LP\n",
      "Using EKK dual simplex solver - serial\n",
      "  Iteration        Objective     Infeasibilities num(sum)\n",
      "          0    -9.9999686469e+00 Ph1: 3(3); Du: 1(9.99997) 0s\n",
      "          7     2.6600000000e+03 Pr: 0(0) 0s\n",
      "Solving the original LP from the solution after postsolve\n",
      "Model   status      : Optimal\n",
      "Simplex   iterations: 7\n",
      "Objective value     :  2.6600000000e+03\n",
      "HiGHS run time      :          0.00\n"
     ]
    }
   ],
   "source": [
    "optimize!(model)"
   ]
  },
  {
   "cell_type": "code",
   "execution_count": 97,
   "metadata": {},
   "outputs": [
    {
     "name": "stdout",
     "output_type": "stream",
     "text": [
      "Variable values:\n",
      "P:\n",
      "P[1]: 50.0"
     ]
    },
    {
     "name": "stdout",
     "output_type": "stream",
     "text": [
      "\n",
      "P[2]: 40.0\n",
      "P[3]: 0.0\n",
      "\n",
      "R_U:\n",
      "R_U[1]: 0.0\n",
      "R_U[2]: 0.0\n",
      "R_U[3]: 40.0\n",
      "\n",
      "R_D:"
     ]
    },
    {
     "name": "stdout",
     "output_type": "stream",
     "text": [
      "\n",
      "R_D[1]: 0.0\n",
      "R_D[2]: 0.0\n",
      "R_D[3]: 0.0\n",
      "\n",
      "L_Shed:\n",
      "L_Shed[1, 1, 1]: 0.0\n",
      "L_Shed[1, 2, 1]: 0.0\n",
      "L_Shed[2, 1, 1]: 0.0\n",
      "L_Shed[2, 2, 1]: 0.0\n",
      "\n",
      "W_spill:"
     ]
    },
    {
     "name": "stdout",
     "output_type": "stream",
     "text": [
      "\n",
      "W_spill[1, 1, 1]: 0.0\n",
      "W_spill[1, 2, 1]: 0.0\n",
      "\n",
      "W_realized:\n",
      "W_realized[1, 1, 1]: 50\n",
      "W_realized[1, 2, 1]: 10\n",
      "\n",
      "W_s:\n"
     ]
    },
    {
     "name": "stdout",
     "output_type": "stream",
     "text": [
      "W_s[1, 1]: 50.0\n",
      "\n",
      "r_U:\n",
      "r_U[1, 1, 1]: 0.0\n",
      "r_U[1, 2, 1]: -0.0\n",
      "r_U[2, 1, 1]: 0.0\n",
      "r_U[2, 2, 1]: -0.0\n"
     ]
    },
    {
     "name": "stdout",
     "output_type": "stream",
     "text": [
      "r_U[3, 1, 1]: 0.0\n",
      "r_U[3, 2, 1]: 40.0\n",
      "\n",
      "r_D:\n",
      "r_D[1, 1, 1]: 0.0\n",
      "r_D[1, 2, 1]: 0.0\n",
      "r_D[2, 1, 1]: 0.0\n",
      "r_D[2, 2, 1]: 0.0\n",
      "r_D[3, 1, 1]: 0.0"
     ]
    },
    {
     "name": "stdout",
     "output_type": "stream",
     "text": [
      "\n",
      "r_D[3, 2, 1]: 0.0\n",
      "\n",
      "Load\n",
      "L[1]:40L[2]:100\n",
      "\n",
      "sum:140"
     ]
    },
    {
     "data": {
      "text/plain": [
       "\"print(\\\"Day-ahead Energy Cost\\\" & sum(value(vars[:P][i,t])* C[i] for i in data[:I], t in data[:T]))\\n\\nprint(\\\"Reserve capacity costs\\\" & vars[:R_U][i,t] * C_RU[i] + vars[:R_D][i,t] * C_RD[i] for i in data[:I], t in data[:T])\\n\\nprint(\\\"Balancing costs in scenarios\\\" & sum(π[ω] * \" ⋯ 52 bytes ⋯ \"D][i] * vars[:r_D][i, ω, t] for i in data[:I], t in data[:T]) +\\n            sum(data[:C_cur][q] * vars[:W_spill][q, ω, t] for q in data[:Q], t in data[:T]) \\n            + sum(data[:V_LOL][j] * vars[:L_Shed][j, ω, t] for j in data[:J], t in data[:T])) for ω in data[:Ω]))\\n\""
      ]
     },
     "metadata": {},
     "output_type": "display_data"
    }
   ],
   "source": [
    "# Print the values of the variables\n",
    "println(\"Variable values:\")\n",
    "println(\"P:\")\n",
    "for i in data[:I], t in data[:T]\n",
    "    println(\"P[$i]: \", value(vars[:P][i, t]))\n",
    "end\n",
    "\n",
    "println(\"\\nR_U:\")\n",
    "for i in data[:I], t in data[:T]\n",
    "    println(\"R_U[$i]: \", value(vars[:R_U][i, t]))\n",
    "end\n",
    "\n",
    "println(\"\\nR_D:\")\n",
    "for i in data[:I], t in data[:T]\n",
    "    println(\"R_D[$i]: \", value(vars[:R_D][i, t]))end\n",
    "\n",
    "println(\"\\nL_Shed:\")\n",
    "for j in data[:J], ω in data[:Ω], t in data[:T]\n",
    "    println(\"L_Shed[$j, $ω, $t]: \", value(vars[:L_Shed][j, ω, t]))\n",
    "end\n",
    "\n",
    "println(\"\\nW_spill:\")\n",
    "for q in data[:Q], ω in data[:Ω], t in data[:T]\n",
    "    println(\"W_spill[$q, $ω, $t]: \", value(vars[:W_spill][q, ω, t]))\n",
    "end\n",
    "\n",
    "println(\"\\nW_realized:\")\n",
    "for q in data[:Q], ω in data[:Ω], t in data[:T]\n",
    "    println(\"W_realized[$q, $ω, $t]: \", value(data[:W_realized][q, ω, t]))\n",
    "end\n",
    "\n",
    "println(\"\\nW_s:\")\n",
    "for q in data[:Q], t in data[:T]\n",
    "    println(\"W_s[$q, $t]: \", value(vars[:W_s][q, t]))\n",
    "end\n",
    "\n",
    "println(\"\\nr_U:\")\n",
    "for i in data[:I], ω in data[:Ω], t in data[:T]\n",
    "    println(\"r_U[$i, $ω, $t]: \", value(vars[:r_U][i, ω, t]))\n",
    "end\n",
    "\n",
    "println(\"\\nr_D:\")\n",
    "for i in data[:I], ω in data[:Ω], t in data[:T]\n",
    "    println(\"r_D[$i, $ω, $t]: \", value(vars[:r_D][i, ω, t]))\n",
    "end\n",
    "\n",
    "println(\"\\nLoad\")\n",
    "for j in data[:J]\n",
    "    print(\"L[$j]:\", data[:L][j])\n",
    "end\n",
    "\n",
    "print(\"\\n\\nsum:\", sum(data[:L]))\n",
    "\n",
    "\"\"\"\n",
    "print(\"Day-ahead Energy Cost\" & sum(value(vars[:P][i,t])* C[i] for i in data[:I], t in data[:T]))\n",
    "\n",
    "print(\"Reserve capacity costs\" & vars[:R_U][i,t] * C_RU[i] + vars[:R_D][i,t] * C_RD[i] for i in data[:I], t in data[:T])\n",
    "\n",
    "print(\"Balancing costs in scenarios\" & sum(π[ω] * (sum(data[:C_U][i] * vars[:r_U][i, ω ,t] + data[:C_D][i] * vars[:r_D][i, ω, t] for i in data[:I], t in data[:T]) +\n",
    "            sum(data[:C_cur][q] * vars[:W_spill][q, ω, t] for q in data[:Q], t in data[:T]) \n",
    "            + sum(data[:V_LOL][j] * vars[:L_Shed][j, ω, t] for j in data[:J], t in data[:T])) for ω in data[:Ω]))\n",
    "\"\"\""
   ]
  }
 ],
 "metadata": {
  "kernelspec": {
   "display_name": "Julia 1.9.4",
   "language": "julia",
   "name": "julia-1.9"
  },
  "language_info": {
   "file_extension": ".jl",
   "mimetype": "application/julia",
   "name": "julia",
   "version": "1.9.4"
  },
  "toc": {
   "base_numbering": 1,
   "nav_menu": {},
   "number_sections": true,
   "sideBar": true,
   "skip_h1_title": false,
   "title_cell": "Table of Contents",
   "title_sidebar": "Contents",
   "toc_cell": true,
   "toc_position": {},
   "toc_section_display": true,
   "toc_window_display": false
  }
 },
 "nbformat": 4,
 "nbformat_minor": 4
}
