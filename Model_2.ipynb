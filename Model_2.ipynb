{
 "cells": [
  {
   "cell_type": "markdown",
   "id": "01da2a5f-cd65-4ad7-94b6-d155f46be45f",
   "metadata": {},
   "source": [
    "## Model 2\n"
   ]
  },
  {
   "cell_type": "markdown",
   "id": "4cf767e0-4c37-46d1-81a6-2d034855caa9",
   "metadata": {},
   "source": [
    "Additions to the model (Marten has unsolvable problems with the Julia kernel :/  )"
   ]
  },
  {
   "cell_type": "code",
   "execution_count": 76,
   "id": "e79cef7d-eddd-4e9b-a8a4-b98cb7c86f8f",
   "metadata": {},
   "outputs": [],
   "source": [
    "using JuMP,HiGHS,DataFrames\n"
   ]
  },
  {
   "cell_type": "code",
   "execution_count": 77,
   "id": "92eea34f-5d32-4fc3-9362-206e2235e02c",
   "metadata": {},
   "outputs": [
    {
     "name": "stdout",
     "output_type": "stream",
     "text": [
      "10"
     ]
    }
   ],
   "source": [
    "#I=1:3                                  #number of generation units\n",
    "#Q=1:1                                  #number of stochastic generation units\n",
    "#T=1:1                                  #number of time intervalls \n",
    "#Ω=1:2                                  #number of scenarios\n",
    "#J=1:2                                  #number of loads\n",
    "#Λ=1:1                                  #number of buses\n",
    "#C=[100, 80, 50]                         #unit cost of generation\n",
    "#C_RU=[20, 10, 15]                       #cost of up reserve commitment\n",
    "#C_RD=[25, 15, 15]                       #cost of down reserve commitment\n",
    "#C_U=[10, 15, 20]                        #cost of up reserve commitment\n",
    "#C_D=[30, 10, 15]                        #cost of down reserve commitment\n",
    "#π=[0.7, 0.3]                           #probabilities of the scenarios\n",
    "#V_LOL=[20, 25]                          #value of the lost load\n",
    "#C_cur=[15]                              #cost of curtailment at turbine\n",
    "#L= 90 .+ 30 * randn(2, 1)               #loads for every time intervall\n",
    "#W_realized = 70 .+ 15 * randn(1, 2, 1)  #create random scenarios for four time points\n",
    "#P_max=[70, 80, 150];                    #maximum production capacity\n",
    "\n",
    "N = 1:2                                #number of nodes (buses)\n",
    "I=[[1:2]; [1:1]]                           #number of generation units of node n\n",
    "# Q [0:0] \n",
    "# changed Q\n",
    "Q = [[1], []]                          # Q[n] gives the wind units at node n\n",
    "T=1:1                                  #number of time intervalls \n",
    "Ω=1:2                                  #number of scenarios\n",
    "J=[[1:1]; [1:1]]                           #number of loads  of node n\n",
    "Λ=[[2:2]; [1:1]]                            #set of nodes directly connected to node n\n",
    "#Λ=[[2] [1]]                            #set of nodes directly connected to node n\n",
    "C=[[10, 30], [35]]                          #unit cost of generation C[N,I]\n",
    "C_RU=[[16, 13], [10]]                       #cost of up reserve commitment C_RU[N,I]\n",
    "C_RD=[[15, 12], [9]]                        #cost of down reserve commitment C_RD[N,I]\n",
    "C_U=[[10, 30], [35]]                        #cost of up reserve commitment C_U[N,I]\n",
    "C_D=[[10, 30], [35]]                        #cost of down reserve commitment C_D[N,I]\n",
    "π=[0.6, 0.4]                           #probabilities of the scenarios\n",
    "V_LOL=[[200], [200]]                        #value of the lost load\n",
    "C_cur=[[0]] #[15]                         #cost of curtailment at turbine C_cur[N,Q]\n",
    "L= [[40], [100]]               #loads for every time intervall L=[N] [J,T]\n",
    "#W_realized = [[[50] [10]] [[50] [10]] [[50] [10]]] #create random scenarios for four time points q,ω,t\n",
    "\n",
    "# changed back to original\n",
    "W_realized = [[[[50],[10]],[]],[]] #70 .+ 15 * randn(1, 1, 2, 1)  #create random scenarios for n,q,ω,t [[[[50],[10]]],[]]#\n",
    "#[[[111 112] [121 122]] [[211 212] [221 222]] [[311 312] [321 322]]]\n",
    "P_max=[[50, 110], [100]];                   #maximum production capacity\n",
    "\n",
    "# From IEEE 24 bus\n",
    "b = [[1, 1/0.13], [1/0.13, 1]]                     #line susceptance (loss of transmission)\n",
    "LC_Max = [[0, 100], [100, 0]]          #maximum transmission quantity between two buses [n][ℓ]\n",
    "print(W_realized[1][1][2][1])"
   ]
  },
  {
   "cell_type": "code",
   "execution_count": 78,
   "id": "ed734a17-070c-4e0b-b5de-dd2534451679",
   "metadata": {},
   "outputs": [
    {
     "data": {
      "text/plain": [
       "Dict{Symbol, AbstractVector} with 20 entries:\n",
       "  :C_RU       => [[16, 13], [10]]\n",
       "  :b          => [[1.0, 7.69231], [7.69231, 1.0]]\n",
       "  :C_U        => [[10, 30], [35]]\n",
       "  :C_D        => [[10, 30], [35]]\n",
       "  :P_max      => [[50, 110], [100]]\n",
       "  :C_cur      => [[0]]\n",
       "  :LC_Max     => [[0, 100], [100, 0]]\n",
       "  :Ω          => 1:2\n",
       "  :Λ          => UnitRange{Int64}[2:2, 1:1]\n",
       "  :W_realized => Vector{Any}[[Any[[50], [10]], Any[]], []]\n",
       "  :N          => 1:2\n",
       "  :C_RD       => [[15, 12], [9]]\n",
       "  :Q          => Vector{Any}[[1], []]\n",
       "  :V_LOL      => [[200], [200]]\n",
       "  :T          => 1:1\n",
       "  :I          => UnitRange{Int64}[1:2, 1:1]\n",
       "  :π          => [0.6, 0.4]\n",
       "  :J          => UnitRange{Int64}[1:1, 1:1]\n",
       "  :L          => [[40], [100]]\n",
       "  :C          => [[10, 30], [35]]"
      ]
     },
     "metadata": {},
     "output_type": "display_data"
    }
   ],
   "source": [
    "data[:node_i][:I]\n",
    "\n",
    "data= Dict(\n",
    "    :N => N,\n",
    "    :I => I,\n",
    "    :Q => Q,\n",
    "    :T => T,\n",
    "    :Ω => Ω,\n",
    "    :J => J,\n",
    "    :Λ => Λ,\n",
    "    :C => C,\n",
    "    :C_RU => C_RU,\n",
    "    :C_RD => C_RD,\n",
    "    :C_U => C_U,\n",
    "    :C_D => C_D,\n",
    "    :π => π,\n",
    "    :V_LOL => V_LOL,\n",
    "    :C_cur => C_cur,\n",
    "    :L => L,\n",
    "    :W_realized => W_realized,\n",
    "    :P_max => P_max,\n",
    "    :b => b,\n",
    "    :LC_Max => LC_Max\n",
    "    );\n",
    "#print(W_realized[1,2,1])"
   ]
  },
  {
   "cell_type": "code",
   "execution_count": 79,
   "id": "1b7feac8-b794-477f-a1af-006dfeb529e6",
   "metadata": {},
   "outputs": [],
   "source": [
    "function init_variables(model::JuMP.Model)\n",
    "    P=@variable(model, P[n in data[:N], i in data[:I][n], t in data[:T]] >=0) #energy generated\n",
    "    R_U=@variable(model, R_U[n in data[:N], i in data[:I][n], t in data[:T]] >=0) #committed upward reserve capacity of generator i\n",
    "    R_D=@variable(model, R_D[n in data[:N], i in data[:I][n], t in data[:T]] >=0) #committed downward reserve capacity of generator i\n",
    "    r_U=@variable(model, r_U[n in data[:N], i in data[:I][n], ω in data[:Ω], t in data[:T]] >=0) #up regulation of generator i in case 𝜔\n",
    "    r_D=@variable(model, r_D[n in data[:N], i in data[:I][n], ω in data[:Ω], t in data[:T]] >=0) #down regulation of generator i in case 𝜔\n",
    "    L_Shed=@variable(model, L_Shed[n in data[:N], j in data[:J][n], ω in data[:Ω], t in data[:T]] >=0) #loss of load at load demand j in case 𝜔\n",
    "    W_spill=@variable(model, W_spill[n in data[:N], q in data[:Q][n], ω in data[:Ω], t in data[:T]] >=0) #curtailment of turbine q in case 𝜔\n",
    "    W_s=@variable(model, W_s[n in data[:N], q in data[:Q][n], t in data[:T]] >=0) #scheduled wind power generation at turbine q\n",
    "    𝛿=@variable(model, 𝛿[n in data[:N], ℓ in data[:Λ][n], t in data[:T]] >= 0) #voltage angle\n",
    "    PF=@variable(model, PF[n in data[:N], ℓ in data[:Λ][n], t in data[:T]] >= 0) #power flow          # added >= 0 \n",
    "    PF_scenario=@variable(model, PF_scenario[ω in data[:Ω], n in data[:N], ℓ in data[:Λ][n], t in data[:T]] >= 0) #power flow scenario\n",
    "    \n",
    "    vars= Dict(\n",
    "        :P => P,\n",
    "        :R_U => R_U,\n",
    "        :R_D => R_D,\n",
    "        :r_U => r_U,\n",
    "        :r_D => r_D,\n",
    "        :L_Shed => L_Shed,\n",
    "        :W_spill => W_spill,\n",
    "        :W_s => W_s,            # added commas\n",
    "        :𝛿 => 𝛿,\n",
    "        :PF => PF,\n",
    "        :PF_scenario => PF_scenario\n",
    "    )\n",
    "    \n",
    "    return vars\n",
    "end;\n"
   ]
  },
  {
   "cell_type": "code",
   "execution_count": 80,
   "id": "789406ff-632f-40b0-a4b1-9656e6327b06",
   "metadata": {},
   "outputs": [],
   "source": [
    "function init_constraints(model::JuMP.Model, data::Dict, vars::Dict)\n",
    "    @constraints(model, begin \n",
    "            c1[n in data[:N],i in data[:I][n], t in data[:T]], vars[:P][n, i, t]+ vars[:R_U][n, i, t]<= data[:P_max][n][i]\n",
    "            c2[n in data[:N],i in data[:I][n] ,t in data[:T]], vars[:P][n, i, t]- vars[:R_D][n, i, t]>= 0\n",
    "            c3[n in data[:N],i in data[:I][n], t in data[:T], ω in data[:Ω]], vars[:r_U][n, i, ω, t] <= vars[:R_U][n,i,t]\n",
    "            c4[n in data[:N],i in data[:I][n], t in data[:T], ω in data[:Ω]], vars[:r_D][n, i, ω, t] <= vars[:R_D][n,i,t]\n",
    "            \n",
    "            c5[ω in data[:Ω], n in data[:N], ℓ in data[:Λ][n], t in data[:T]], vars[:PF_scenario][ω, n, ℓ, t] <= data[:LC_Max][n][ℓ]\n",
    "            \n",
    "            c6[n in data[:N], ℓ in data[:Λ][n], t in data[:T]], vars[:PF][n, ℓ, t] <= data[:LC_Max][n][ℓ]\n",
    "            # Something wrong with powerflow\n",
    "            c7[ω in data[:Ω], n in data[:N], ℓ in data[:Λ][n], t in data[:T]], (vars[:𝛿][n, ℓ, t] - vars[:𝛿][ℓ, n, t]) * data[:b][n][ℓ] == vars[:PF][n, ℓ, t]\n",
    "\n",
    "            ## !!\n",
    "            Power_balance_day_ahead[n in data[:N], t in data[:T]], \n",
    "            sum(vars[:P][n,i,t] for i in data[:I][n]) + sum(vars[:W_s][n,q,t] for q in data[:Q][n]) - sum(data[:L][n][j,t] for j in data[:J][n]) - sum(vars[:PF][n, ℓ, t] for ℓ in data[:Λ][n]) == 0\n",
    "\n",
    "            Power_balance_at_stage[ω in data[:Ω], n in data[:N], t in data[:T]], \n",
    "            sum(vars[:r_U][n,i, ω, t] for i in data[:I][n]) -\n",
    "            sum(vars[:r_D][n,i, ω, t] for i in data[:I][n]) +\n",
    "            sum(vars[:L_Shed][n,j, ω, t] for j in data[:J][n]) +\n",
    "            # n ! and W_realized and Q changed\n",
    "            sum(data[:W_realized][n][q][ω][t] -vars[:W_s][n,q,t] - vars[:W_spill][n,q,ω,t] for q in data[:Q][n]) -\n",
    "            sum(vars[:PF_scenario][ω, n, ℓ, t] for ℓ in data[:Λ][n]) +\n",
    "            sum(vars[:PF][n, ℓ, t] for ℓ in data[:Λ][n]) == 0 \n",
    "    end)\n",
    "end;\n"
   ]
  },
  {
   "cell_type": "code",
   "execution_count": 81,
   "id": "497ed0bc-d3ca-49b6-a917-3e4d64c1031c",
   "metadata": {},
   "outputs": [
    {
     "data": {
      "text/plain": [
       "7.692307692307692"
      ]
     },
     "metadata": {},
     "output_type": "display_data"
    }
   ],
   "source": [
    "#W_realized[1,1,1,1]\n",
    "#print(vars[:W_s][1,1,1])\n",
    "#println(data[:Q])\n",
    "#println(keys(vars[:W_s]))\n",
    "data[:b][1][2]\n"
   ]
  },
  {
   "cell_type": "code",
   "execution_count": 86,
   "id": "31fc2906-6380-4459-b1bd-5f4fdf189f88",
   "metadata": {},
   "outputs": [],
   "source": [
    "function init_obj_function(model, data, vars)\n",
    "    @objective(model, Min, sum(vars[:P][n,i,t]* data[:C][n][i] + vars[:R_U][n,i,t] * data[:C_RU][n][i] + vars[:R_D][n,i,t] * data[:C_RD][n][i] for n in data[:N], i in data[:I][n], t in data[:T]) +\n",
    "    sum(π[ω] * (sum(data[:C_U][n][i] * vars[:r_U][n,i, ω ,t] + data[:C_D][n][i] * vars[:r_D][n,i, ω, t] for i in data[:I][n]) +\n",
    "                sum(data[:C_cur][n][q] * vars[:W_spill][n,q, ω, t] for q in data[:Q][n]) +\n",
    "                sum(data[:V_LOL][n][j] * vars[:L_Shed][n, j, ω, t] for j in data[:J][n])) for n in data[:N], ω in data[:Ω], t in data[:T])\n",
    "    )\n",
    "end;"
   ]
  },
  {
   "cell_type": "code",
   "execution_count": 87,
   "id": "36cf5fd5-4e3c-4a6e-a2f5-f85068a034da",
   "metadata": {
    "scrolled": true
   },
   "outputs": [
    {
     "name": "stdout",
     "output_type": "stream",
     "text": [
      "Min 10 P[1,1,1] + 16 R_U[1,1,1] + 15 R_D[1,1,1] + 30 P[1,2,1] + 13 R_U[1,2,1] + 12 R_D[1,2,1] + 35 P[2,1,1] + 10 R_U[2,1,1] + 9 R_D[2,1,1] + 6 r_U[1,1,1,1] + 6 r_D[1,1,1,1] + 18 r_U[1,2,1,1] + 18 r_D[1,2,1,1] + 120 L_Shed[1,1,1,1] + 4 r_U[1,1,2,1] + 4 r_D[1,1,2,1] + 12 r_U[1,2,2,1] + 12 r_D[1,2,2,1] + 80 L_Shed[1,1,2,1] + 21 r_U[2,1,1,1] + 21 r_D[2,1,1,1] + 120 L_Shed[2,1,1,1] + 14 r_U[2,1,2,1] + 14 r_D[2,1,2,1] + 80 L_Shed[2,1,2,1]\n",
      "Subject to\n",
      " c7[1,1,2,1] : 7.692307692307692 𝛿[1,2,1] - 7.692307692307692 𝛿[2,1,1] - PF[1,2,1] == 0\n",
      " c7[1,2,1,1] : -7.692307692307692 𝛿[1,2,1] + 7.692307692307692 𝛿[2,1,1] - PF[2,1,1] == 0\n",
      " c7[2,1,2,1] : 7.692307692307692 𝛿[1,2,1] - 7.692307692307692 𝛿[2,1,1] - PF[1,2,1] == 0\n",
      " c7[2,2,1,1] : -7.692307692307692 𝛿[1,2,1] + 7.692307692307692 𝛿[2,1,1] - PF[2,1,1] == 0\n",
      " Power_balance_day_ahead[1,1] : P[1,1,1] + P[1,2,1] + W_s[1,1,1] - PF[1,2,1] == 40\n",
      " Power_balance_day_ahead[2,1] : P[2,1,1] - PF[2,1,1] == 100\n",
      " Power_balance_at_stage[1,1,1] : r_U[1,1,1,1] + r_U[1,2,1,1] - r_D[1,1,1,1] - r_D[1,2,1,1] + L_Shed[1,1,1,1] - W_spill[1,1,1,1] - W_s[1,1,1] + PF[1,2,1] - PF_scenario[1,1,2,1] == -50\n",
      " Power_balance_at_stage[2,1,1] : r_U[1,1,2,1] + r_U[1,2,2,1] - r_D[1,1,2,1] - r_D[1,2,2,1] + L_Shed[1,1,2,1] - W_spill[1,1,2,1] - W_s[1,1,1] + PF[1,2,1] - PF_scenario[2,1,2,1] == -10\n",
      " Power_balance_at_stage[1,2,1] : r_U[2,1,1,1] - r_D[2,1,1,1] + L_Shed[2,1,1,1] + PF[2,1,1] - PF_scenario[1,2,1,1] == 0\n",
      " Power_balance_at_stage[2,2,1] : r_U[2,1,2,1] - r_D[2,1,2,1] + L_Shed[2,1,2,1] + PF[2,1,1] - PF_scenario[2,2,1,1] == 0\n",
      " c2[1,1,1] : P[1,1,1] - R_D[1,1,1] >= 0\n",
      " c2[1,2,1] : P[1,2,1] - R_D[1,2,1] >= 0\n",
      " c2[2,1,1] : P[2,1,1] - R_D[2,1,1] >= 0\n",
      " c1[1,1,1] : P[1,1,1] + R_U[1,1,1] <= 50\n",
      " c1[1,2,1] : P[1,2,1] + R_U[1,2,1] <= 110\n",
      " c1[2,1,1] : P[2,1,1] + R_U[2,1,1] <= 100\n",
      " c3[1,1,1,1] : -R_U[1,1,1] + r_U[1,1,1,1] <= 0\n",
      " c3[1,1,1,2] : -R_U[1,1,1] + r_U[1,1,2,1] <= 0\n",
      " c3[1,2,1,1] : -R_U[1,2,1] + r_U[1,2,1,1] <= 0\n",
      " c3[1,2,1,2] : -R_U[1,2,1] + r_U[1,2,2,1] <= 0\n",
      " c3[2,1,1,1] : -R_U[2,1,1] + r_U[2,1,1,1] <= 0\n",
      " c3[2,1,1,2] : -R_U[2,1,1] + r_U[2,1,2,1] <= 0\n",
      " c4[1,1,1,1] : -R_D[1,1,1] + r_D[1,1,1,1] <= 0\n",
      " c4[1,1,1,2] : -R_D[1,1,1] + r_D[1,1,2,1] <= 0\n",
      " c4[1,2,1,1] : -R_D[1,2,1] + r_D[1,2,1,1] <= 0\n",
      " c4[1,2,1,2] : -R_D[1,2,1] + r_D[1,2,2,1] <= 0\n",
      " c4[2,1,1,1] : -R_D[2,1,1] + r_D[2,1,1,1] <= 0\n",
      " c4[2,1,1,2] : -R_D[2,1,1] + r_D[2,1,2,1] <= 0\n",
      " c5[1,1,2,1] : PF_scenario[1,1,2,1] <= 100\n",
      " c5[1,2,1,1] : PF_scenario[1,2,1,1] <= 100\n",
      " c5[2,1,2,1] : PF_scenario[2,1,2,1] <= 100\n",
      " c5[2,2,1,1] : PF_scenario[2,2,1,1] <= 100\n",
      " c6[1,2,1] : PF[1,2,1] <= 100\n",
      " c6[2,1,1] : PF[2,1,1] <= 100\n",
      " P[1,1,1] >= 0\n",
      " P[1,2,1] >= 0\n",
      " P[2,1,1] >= 0\n",
      " R_U[1,1,1] >= 0\n",
      " R_U[1,2,1] >= 0\n",
      " R_U[2,1,1] >= 0\n",
      " R_D[1,1,1] >= 0\n",
      " R_D[1,2,1] >= 0\n",
      " R_D[2,1,1] >= 0\n",
      " r_U[1,1,1,1] >= 0\n",
      " r_U[1,1,2,1] >= 0\n",
      " r_U[1,2,1,1] >= 0\n",
      " r_U[1,2,2,1] >= 0\n",
      " r_U[2,1,1,1] >= 0\n",
      " r_U[2,1,2,1] >= 0\n",
      " r_D[1,1,1,1] >= 0\n",
      " r_D[1,1,2,1] >= 0\n",
      " r_D[1,2,1,1] >= 0\n",
      " r_D[1,2,2,1] >= 0\n",
      " r_D[2,1,1,1] >= 0\n",
      " r_D[2,1,2,1] >= 0\n",
      " L_Shed[1,1,1,1] >= 0\n",
      " L_Shed[1,1,2,1] >= 0\n",
      " L_Shed[2,1,1,1] >= 0\n",
      " L_Shed[2,1,2,1] >= 0\n",
      " W_spill[1,1,1,1] >= 0\n",
      " W_spill[1,1,2,1] >= 0\n",
      " W_s[1,1,1] >= 0\n",
      " 𝛿[1,2,1] >= 0\n",
      " 𝛿[2,1,1] >= 0\n",
      " PF[1,2,1] >= 0\n",
      " PF[2,1,1] >= 0\n",
      " PF_scenario[1,1,2,1] >= 0\n",
      " PF_scenario[1,2,1,1] >= 0\n",
      " PF_scenario[2,1,2,1] >= 0\n",
      " PF_scenario[2,2,1,1] >= 0\n"
     ]
    }
   ],
   "source": [
    "model=Model(HiGHS.Optimizer)\n",
    "vars=init_variables(model)\n",
    "init_constraints(model, data, vars)\n",
    "init_obj_function(model, data, vars)\n",
    "print(model)"
   ]
  },
  {
   "cell_type": "code",
   "execution_count": 84,
   "id": "41b49558-859d-4748-880e-29c07390fabd",
   "metadata": {
    "scrolled": true
   },
   "outputs": [
    {
     "name": "stdout",
     "output_type": "stream",
     "text": [
      "Running HiGHS 1.6.0: Copyright (c) 2023 HiGHS under MIT licence terms\n",
      "Presolving model\n",
      "21 rows, 25 cols, 58 nonzeros\n",
      "9 rows, 13 cols, 25 nonzeros\n",
      "Presolve : Reductions: rows 9(-25); columns 13(-23); elements 25(-63)\n",
      "Solving the presolved LP\n",
      "Using EKK dual simplex solver - serial\n",
      "  Iteration        Objective     Infeasibilities num(sum)\n",
      "          0     3.5000000000e+03 Pr: 3(100) 0s\n",
      "          4     3.8000000000e+03 Pr: 0(0) 0s\n",
      "Solving the original LP from the solution after postsolve\n",
      "Model   status      : Optimal\n",
      "Simplex   iterations: 4\n",
      "Objective value     :  3.8000000000e+03\n",
      "HiGHS run time      :          0.00\n"
     ]
    }
   ],
   "source": [
    "optimize!(model)"
   ]
  },
  {
   "cell_type": "code",
   "execution_count": 85,
   "id": "328c9241-12d4-4fa0-97e7-5e8759d43d2e",
   "metadata": {},
   "outputs": [
    {
     "name": "stdout",
     "output_type": "stream",
     "text": [
      "Variable values:\n",
      "P:\n",
      "P[1:2]:   [1]  =  30.0\n",
      "  [2]  =  0.0\n",
      "P[1:1]:   [1]  =  30.0\n",
      "P[1:2]:   [1]  =  100.0\n",
      "P[1:1]:   [1]  =  100.0\n",
      "\n",
      "R_U:\n"
     ]
    },
    {
     "ename": "BoundsError",
     "evalue": "BoundsError: attempt to access JuMP.Containers.SparseAxisArray{VariableRef, 3, Tuple{Int64, Int64, Int64}} with 3 entries at index [1:2, 1]",
     "output_type": "error",
     "traceback": [
      "BoundsError: attempt to access JuMP.Containers.SparseAxisArray{VariableRef, 3, Tuple{Int64, Int64, Int64}} with 3 entries at index [1:2, 1]\n",
      "\n",
      "Stacktrace:\n",
      " [1] getindex(::JuMP.Containers.SparseAxisArray{VariableRef, 3, Tuple{Int64, Int64, Int64}}, ::UnitRange{Int64}, ::Vararg{Any}; kwargs::Base.Pairs{Symbol, Union{}, Tuple{}, NamedTuple{(), Tuple{}}})\n",
      "   @ JuMP.Containers C:\\Users\\Leonie Hergeth\\.julia\\packages\\JuMP\\HjlGr\\src\\Containers\\SparseAxisArray.jl:164\n",
      " [2] getindex(::JuMP.Containers.SparseAxisArray{VariableRef, 3, Tuple{Int64, Int64, Int64}}, ::UnitRange{Int64}, ::Int64)\n",
      "   @ JuMP.Containers C:\\Users\\Leonie Hergeth\\.julia\\packages\\JuMP\\HjlGr\\src\\Containers\\SparseAxisArray.jl:152\n",
      " [3] top-level scope\n",
      "   @ a:\\07Dissertation\\01 Seminare\\AMO\\Abgabe\\Team_assignment_AMO\\Model_2.ipynb:10"
     ]
    }
   ],
   "source": [
    "# Print the values of the variables\n",
    "println(\"Variable values:\")\n",
    "println(\"P:\")\n",
    "for n in data[:N], i in data[:I], t in data[:T]\n",
    "    println(\"P[$i]: \", JuMP.value.(vars[:P][n, i, t]))\n",
    "end\n",
    "\n",
    "println(\"\\nR_U:\")\n",
    "for i in data[:I], t in data[:T]\n",
    "    println(\"R_U[$i]: \", value(vars[:R_U][i, t]))\n",
    "end\n",
    "\n",
    "println(\"\\nR_D:\")\n",
    "for i in data[:I], t in data[:T]\n",
    "    println(\"R_D[$i]: \", value(vars[:R_D][i, t]))end\n",
    "\n",
    "println(\"\\nL_Shed:\")\n",
    "for j in data[:J], ω in data[:Ω], t in data[:T]\n",
    "    println(\"L_Shed[$j, $ω, $t]: \", value(vars[:L_Shed][j, ω, t]))\n",
    "end\n",
    "\n",
    "println(\"\\nW_spill:\")\n",
    "for q in data[:Q], ω in data[:Ω], t in data[:T]\n",
    "    println(\"W_spill[$q, $ω, $t]: \", value(vars[:W_spill][q, ω, t]))\n",
    "end\n",
    "\n",
    "println(\"\\nW_realized:\")\n",
    "for q in data[:Q], ω in data[:Ω], t in data[:T]\n",
    "    println(\"W_realized[$q, $ω, $t]: \", value(data[:W_realized][q, ω, t]))\n",
    "end\n",
    "\n",
    "println(\"\\nW_s:\")\n",
    "for q in data[:Q], t in data[:T]\n",
    "    println(\"W_s[$q, $t]: \", value(vars[:W_s][q, t]))\n",
    "end\n",
    "\n",
    "println(\"\\nr_U:\")\n",
    "for i in data[:I], ω in data[:Ω], t in data[:T]\n",
    "    println(\"r_U[$i, $ω, $t]: \", value(vars[:r_U][i, ω, t]))\n",
    "end\n",
    "\n",
    "println(\"\\nr_D:\")\n",
    "for i in data[:I], ω in data[:Ω], t in data[:T]\n",
    "    println(\"r_D[$i, $ω, $t]: \", value(vars[:r_D][i, ω, t]))\n",
    "end\n",
    "\n",
    "println(\"\\nLoad\")\n",
    "for j in data[:J]\n",
    "    print(\"L[$j]:\", data[:L][j])\n",
    "end\n",
    "\n",
    "print(\"\\n\\nsum:\", sum(data[:L]))"
   ]
  }
 ],
 "metadata": {
  "kernelspec": {
   "display_name": "Julia 1.9.4",
   "language": "julia",
   "name": "julia-1.9"
  },
  "language_info": {
   "file_extension": ".jl",
   "mimetype": "application/julia",
   "name": "julia",
   "version": "1.9.4"
  }
 },
 "nbformat": 4,
 "nbformat_minor": 5
}
