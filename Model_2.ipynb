{
 "cells": [
  {
   "cell_type": "markdown",
   "id": "01da2a5f-cd65-4ad7-94b6-d155f46be45f",
   "metadata": {},
   "source": [
    "## Model 2\n"
   ]
  },
  {
   "cell_type": "markdown",
   "id": "4cf767e0-4c37-46d1-81a6-2d034855caa9",
   "metadata": {},
   "source": [
    "Stochastic optimization model used to solve the two-stage problem"
   ]
  },
  {
   "cell_type": "code",
   "execution_count": 71,
   "id": "e79cef7d-eddd-4e9b-a8a4-b98cb7c86f8f",
   "metadata": {},
   "outputs": [],
   "source": [
    "using JuMP,HiGHS,DataFrames\n",
    "using CSV\n",
    "using DataFrames"
   ]
  },
  {
   "cell_type": "code",
   "execution_count": 72,
   "id": "9439b13d-e09c-4c42-94c0-d181f9f888b6",
   "metadata": {
    "scrolled": true
   },
   "outputs": [
    {
     "data": {
      "text/html": [
       "<div><div style = \"float: left;\"><span>2×4 DataFrame</span></div><div style = \"clear: both;\"></div></div><div class = \"data-frame\" style = \"overflow-x: scroll;\"><table class = \"data-frame\" style = \"margin-bottom: 6px;\"><thead><tr class = \"header\"><th class = \"rowNumber\" style = \"font-weight: bold; text-align: right;\">Row</th><th style = \"text-align: left;\">Node</th><th style = \"text-align: left;\">Q</th><th style = \"text-align: left;\">Omega</th><th style = \"text-align: left;\">energy</th></tr><tr class = \"subheader headerLastRow\"><th class = \"rowNumber\" style = \"font-weight: bold; text-align: right;\"></th><th title = \"Int64\" style = \"text-align: left;\">Int64</th><th title = \"Int64\" style = \"text-align: left;\">Int64</th><th title = \"Int64\" style = \"text-align: left;\">Int64</th><th title = \"Int64\" style = \"text-align: left;\">Int64</th></tr></thead><tbody><tr><td class = \"rowNumber\" style = \"font-weight: bold; text-align: right;\">1</td><td style = \"text-align: right;\">1</td><td style = \"text-align: right;\">1</td><td style = \"text-align: right;\">1</td><td style = \"text-align: right;\">50</td></tr><tr><td class = \"rowNumber\" style = \"font-weight: bold; text-align: right;\">2</td><td style = \"text-align: right;\">1</td><td style = \"text-align: right;\">1</td><td style = \"text-align: right;\">2</td><td style = \"text-align: right;\">10</td></tr></tbody></table></div>"
      ],
      "text/latex": [
       "\\begin{tabular}{r|cccc}\n",
       "\t& Node & Q & Omega & energy\\\\\n",
       "\t\\hline\n",
       "\t& Int64 & Int64 & Int64 & Int64\\\\\n",
       "\t\\hline\n",
       "\t1 & 1 & 1 & 1 & 50 \\\\\n",
       "\t2 & 1 & 1 & 2 & 10 \\\\\n",
       "\\end{tabular}\n"
      ],
      "text/plain": [
       "\u001b[1m2×4 DataFrame\u001b[0m\n",
       "\u001b[1m Row \u001b[0m│\u001b[1m Node  \u001b[0m\u001b[1m Q     \u001b[0m\u001b[1m Omega \u001b[0m\u001b[1m energy \u001b[0m\n",
       "     │\u001b[90m Int64 \u001b[0m\u001b[90m Int64 \u001b[0m\u001b[90m Int64 \u001b[0m\u001b[90m Int64  \u001b[0m\n",
       "─────┼─────────────────────────────\n",
       "   1 │     1      1      1      50\n",
       "   2 │     1      1      2      10"
      ]
     },
     "metadata": {},
     "output_type": "display_data"
    }
   ],
   "source": [
    "# Import data about buses\n",
    "df_buses = CSV.read(\"data/24_buses.csv\", DataFrame,types=Dict(\"I\" => String, \"C_cur\" => String, \"Lambda\" => String))\n",
    "#Import demand data\n",
    "df_demands = CSV.read(\"data/demand.csv\", DataFrame)\n",
    "# Import the rest of the data\n",
    "df_other = CSV.read(\"data/other_data.csv\", DataFrame)\n",
    "# Import the realized wind energy\n",
    "df_realizedEnergy = CSV.read(\"data/realizedEnergy.csv\", DataFrame)"
   ]
  },
  {
   "cell_type": "code",
   "execution_count": 73,
   "id": "e85e35f5-c275-4092-b07f-4133e537902f",
   "metadata": {},
   "outputs": [
    {
     "data": {
      "text/plain": [
       "string_to_array"
      ]
     },
     "metadata": {},
     "output_type": "display_data"
    }
   ],
   "source": [
    "\"\"\"\n",
    "Transforms indices into range for lists of objects (such as generation units)\n",
    "Input of 0 or empty cells is translated to no objects (i.e. empty array)\n",
    "\"\"\"\n",
    "function string_to_range(s)\n",
    "    # Check if s is missing or a string that represents an empty cell\n",
    "    if s == \"missing\" || s == \"0\"\n",
    "        return Int[]  # Return an empty array of Int type\n",
    "    else\n",
    "        str = string(s)  # Convert to string if not already\n",
    "        nums = split(str, \";\")  # Split the string by comma\n",
    "        nums = parse.(Int, nums)  # Parse each part to an integer\n",
    "        return minimum(nums):maximum(nums)  # Return the range\n",
    "    end\n",
    "end\n",
    "\n",
    "\"\"\"\n",
    "Transforms indices into array of values (such as generation costs per unit for each generation unit)\n",
    "Input of missing cells is translated to no values (i.e. empty array)\n",
    "Input of 0 is translated to 0 since it can be a coefficient\n",
    "\"\"\"\n",
    "function string_to_array(s)\n",
    "    # Check if s is missing or a string that represents an empty cell\n",
    "    #if s == \"0\" return 0  # Return an empty array of Float64 type\n",
    "\n",
    "    if s == \"missing\"\n",
    "        return Float64[]\n",
    "    else\n",
    "        str = string(s)  # Convert to string if not already\n",
    "        nums = split(str, \";\")  # Split the string by semicolon\n",
    "        nums = parse.(Float64, nums)  # Parse each part to a float\n",
    "        return nums  # Return the array of floats\n",
    "    end\n",
    "end\n"
   ]
  },
  {
   "cell_type": "code",
   "execution_count": 74,
   "id": "d3d5a73a-6017-46a2-be0a-d9358efca745",
   "metadata": {},
   "outputs": [],
   "source": [
    "# Create an empty dictionary to hold all nodes\n",
    "data = Dict()\n",
    "\n",
    "# Iterate over the range of nodes\n",
    "for singleNode in eachrow(df_buses)\n",
    "    # Create a dictionary for the current node with all other variables\n",
    "    data_node = Dict(\n",
    "        :I => string_to_range(string.(singleNode.I)),\n",
    "        :Q => string_to_range(string.(singleNode.Q)),\n",
    "        :J => string_to_range(string.(singleNode.J)),\n",
    "        :Λ => string_to_range(string.(singleNode.Lambda)),\n",
    "        :C => string_to_array(string(singleNode.C)) ,\n",
    "        :C_RU => string_to_array(string(singleNode.C_RU)),\n",
    "        :C_RD => string_to_array(string(singleNode.C_RD)),\n",
    "        :C_U => string_to_array(string(singleNode.C_U)),\n",
    "        :C_D => string_to_array(string(singleNode.C_D)),\n",
    "        :V_LOL => string_to_array(string(singleNode.V_LOL)),\n",
    "        :C_cur => string_to_array(string(singleNode.C_cur)),\n",
    "        :P_max => string_to_array(string(singleNode.P_max)),\n",
    "        :b => string_to_array(string(singleNode.b)),\n",
    "        :LC_Max => string_to_array(string(singleNode.LC_Max)),\n",
    "        :L => Dict(),\n",
    "        :Ω => 0,\n",
    "    )    \n",
    "    # Assign the dictionary to the current node key\n",
    "    data[singleNode.Node] = data_node\n",
    "end\n",
    "\n",
    "#Create dictionary for alle demands dependent on node and load -> array with different times\n",
    "knownLoads = []\n",
    "demands = Dict()\n",
    "for singleNode in eachrow(df_demands)\n",
    "    data_node = Dict(\n",
    "        :L => string_to_array(string(singleNode.Demands)),\n",
    "    )    \n",
    "    if  singleNode.Node ∉ knownLoads\n",
    "        demands = Dict()\n",
    "    end\n",
    "    push!(knownLoads, singleNode.Node)\n",
    "\n",
    "    demands[singleNode.Loads] = data_node\n",
    "    data[singleNode.Node][:L] = demands\n",
    "    \n",
    "    data[singleNode.Node][:T] = Int(singleNode.Periods)\n",
    "end\n",
    "\n",
    "#create dictionary with all scenarios\n",
    "scenarios = Dict()\n",
    "for singleNode in eachrow(df_other)\n",
    "    data_node = Dict(\n",
    "        :π => singleNode.Pi,\n",
    "    )\n",
    "    scenarios[singleNode.Omega] = data_node\n",
    "end\n",
    "\n",
    "#create dictionary with all realized Energy from wind turbine dependent on node, wind turbine, scenario -> array with different times\n",
    "windenergy = Dict()\n",
    "data_Omega = Dict()\n",
    "for singleNode in eachrow(df_realizedEnergy)\n",
    "    data_node = Dict(\n",
    "        :W_realized => string_to_array(string(singleNode.energy)),\n",
    "    )\n",
    "    if ! haskey(windenergy, singleNode.Q)\n",
    "        data_Omega = Dict()\n",
    "    end\n",
    "    data_Omega[singleNode.Omega] = data_node\n",
    "    windenergy[singleNode.Q] = data_Omega\n",
    "    data[singleNode.Node][:Windenergy] = windenergy\n",
    "end\n",
    "\n",
    "#Float muss in Integer umgewandelt werden\n",
    "for value in keys(data)\n",
    "    data[value][:Λ]  = round.(Int, data[value][:Λ])\n",
    "end"
   ]
  },
  {
   "cell_type": "code",
   "execution_count": 75,
   "id": "1b7feac8-b794-477f-a1af-006dfeb529e6",
   "metadata": {},
   "outputs": [],
   "source": [
    "function init_variables(model::JuMP.Model)\n",
    "    P=@variable(model, P[n in keys(data), i in data[n][:I], t in data[n][:T]] >=0) #energy generated\n",
    "    R_U=@variable(model, R_U[n in keys(data), i in data[n][:I], t in data[n][:T]] >=0) #committed upward reserve capacity of generator i\n",
    "    R_D=@variable(model, R_D[n in keys(data), i in data[n][:I], t in data[n][:T]] >=0) #committed downward reserve capacity of generator i\n",
    "    r_U=@variable(model, r_U[n in keys(data), i in data[n][:I], ω in keys(scenarios), t in data[n][:T]] >=0) #up regulation of generator i in case 𝜔\n",
    "    r_D=@variable(model, r_D[n in keys(data), i in data[n][:I], ω in keys(scenarios), t in data[n][:T]] >=0) #down regulation of generator i in case 𝜔\n",
    "    L_Shed=@variable(model, L_Shed[n in keys(data), j in data[n][:J], ω in keys(scenarios), t in data[n][:T]] >=0) #loss of load at load demand j in case 𝜔\n",
    "    W_spill=@variable(model, W_spill[n in keys(data), q in data[n][:Q], ω in keys(scenarios), t in data[n][:T]] >=0) #curtailment of turbine q in case 𝜔\n",
    "    W_s=@variable(model, W_s[n in keys(data), q in data[n][:Q], t in data[n][:T]] >=0) #scheduled wind power generation at turbine q\n",
    "    𝛿=@variable(model, 𝛿[n in keys(data), ℓ in data[n][:Λ], t in data[n][:T]] >= 0) #voltage angle\n",
    "    PF=@variable(model, PF[n in keys(data), ℓ in data[n][:Λ], t in data[n][:T]]) #power flow          # added >= 0 \n",
    "    PF_scenario=@variable(model, PF_scenario[ω in keys(scenarios), n in keys(data), ℓ in data[n][:Λ], t in data[n][:T]]) #power flow scenario\n",
    "    \n",
    "    \n",
    "    vars= Dict(\n",
    "        :P => P,\n",
    "        :R_U => R_U,\n",
    "        :R_D => R_D,\n",
    "        :r_U => r_U,\n",
    "        :r_D => r_D,\n",
    "        :L_Shed => L_Shed,\n",
    "        :W_spill => W_spill,\n",
    "        :W_s => W_s,\n",
    "        :𝛿 => 𝛿,\n",
    "        :PF => PF,\n",
    "        :PF_scenario => PF_scenario\n",
    "    )    \n",
    "    return vars\n",
    "end;\n"
   ]
  },
  {
   "cell_type": "code",
   "execution_count": 76,
   "id": "789406ff-632f-40b0-a4b1-9656e6327b06",
   "metadata": {},
   "outputs": [],
   "source": [
    "function init_constraints(model::JuMP.Model, data::Dict, vars::Dict)\n",
    "    @constraints(model, begin \n",
    "    c1[n in keys(data),i in data[n][:I], t in data[n][:T]], vars[:P][n, i, t]+ vars[:R_U][n, i, t]<= data[n][:P_max][i]\n",
    "    c2[n in keys(data),i in data[n][:I] ,t in data[n][:T]], vars[:P][n, i, t]- vars[:R_D][n, i, t]>= 0\n",
    "    c3[n in keys(data),i in data[n][:I], t in data[n][:T], ω in keys(scenarios)], vars[:r_U][n, i, ω, t] <= vars[:R_U][n,i,t]\n",
    "    c4[n in keys(data),i in data[n][:I], t in data[n][:T], ω in keys(scenarios)], vars[:r_D][n, i, ω, t] <= vars[:R_D][n,i,t]\n",
    "    \n",
    "    c5[ω in keys(scenarios), n in keys(data), ℓ in data[n][:Λ], t in data[n][:T]], vars[:PF_scenario][ω, n, ℓ, t] <= data[n][:LC_Max][ℓ]\n",
    "    \n",
    "    c6[n in keys(data), ℓ in data[n][:Λ], t in data[n][:T]], vars[:PF][n, ℓ, t] <= data[n][:LC_Max][ℓ]\n",
    "    c7[ω in keys(scenarios), n in keys(data), ℓ in data[n][:Λ], t in data[n][:T]], (vars[:𝛿][n, ℓ, t] - vars[:𝛿][ℓ, n, t]) * data[n][:b][ℓ] == vars[:PF][n, ℓ, t]\n",
    "\n",
    "    c8[ω in keys(scenarios), n in keys(data),t in data[n][:T], q in data[n][:Q]], vars[:W_spill][n,q,ω,t] <= data[n][:Windenergy][q][ω][:W_realized][t]\n",
    "    c9[ω in keys(scenarios), n in keys(data),t in data[n][:T], j in data[n][:J]], vars[:L_Shed][n,j, ω, t] <= data[n][:L][j][:L][t]\n",
    "\n",
    "    Power_balance_day_ahead[n in keys(data), t in data[n][:T]], \n",
    "    sum(vars[:P][n,i,t] for i in data[n][:I]) + sum(vars[:W_s][n,q,t] for q in data[n][:Q]) - sum(data[n][:L][j][:L][t] for j in data[n][:J]) - sum(vars[:PF][n, ℓ, t] for ℓ in data[n][:Λ]) == 0\n",
    "\n",
    "    Power_balance_at_stage[ω in keys(scenarios), n in keys(data), t in data[n][:T]], \n",
    "    sum(vars[:r_U][n,i, ω, t] for i in data[n][:I]) -\n",
    "    sum(vars[:r_D][n,i, ω, t] for i in data[n][:I]) +\n",
    "    sum(vars[:L_Shed][n,j, ω, t] for j in data[n][:J]) +\n",
    "    sum(data[n][:Windenergy][q][ω][:W_realized][t] -vars[:W_s][n,q,t] - vars[:W_spill][n,q,ω,t] for q in data[n][:Q]) -\n",
    "    sum(vars[:PF_scenario][ω, n, ℓ, t] for ℓ in data[n][:Λ]) +\n",
    "    sum(vars[:PF][n, ℓ, t] for ℓ in data[n][:Λ]) == 0\n",
    "    end)\n",
    "end;"
   ]
  },
  {
   "cell_type": "code",
   "execution_count": 77,
   "id": "31fc2906-6380-4459-b1bd-5f4fdf189f88",
   "metadata": {},
   "outputs": [],
   "source": [
    "function init_obj_function(model, data, vars)\n",
    "    @objective(model, Min, sum(vars[:P][n,i,t]* data[n][:C][i] + vars[:R_U][n,i,t] * data[n][:C_RU][i] + vars[:R_D][n,i,t] * data[n][:C_RD][i] for n in keys(data), i in data[n][:I], t in data[n][:T]) +\n",
    "    sum(scenarios[ω][:π] * (sum(data[n][:C_U][i] * vars[:r_U][n,i, ω ,t] + data[n][:C_D][i] * vars[:r_D][n,i, ω, t] for i in data[n][:I]) +\n",
    "                sum(data[n][:C_cur][q] * vars[:W_spill][n,q, ω, t] for q in data[n][:Q]) +\n",
    "                sum(data[n][:V_LOL][j] * vars[:L_Shed][n, j, ω, t] for j in data[n][:J])) for n in keys(data), ω in keys(scenarios), t in data[n][:T])\n",
    "    )\n",
    "end;"
   ]
  },
  {
   "cell_type": "code",
   "execution_count": 78,
   "id": "36cf5fd5-4e3c-4a6e-a2f5-f85068a034da",
   "metadata": {
    "scrolled": true
   },
   "outputs": [
    {
     "name": "stdout",
     "output_type": "stream",
     "text": [
      "Min 35 P[2,1,1] + 10 R_U[2,1,1] + 9 R_D[2,1,1] + 10 P[1,1,1] + 16 R_U[1,1,1] + 15 R_D[1,1,1] + 30 P[1,2,1] + 13 R_U[1,2,1] + 12 R_D[1,2,1] + 14 r_U[2,1,2,1] + 14 r_D[2,1,2,1] + 80 L_Shed[2,1,2,1] + 21 r_U[2,1,1,1] + 21 r_D[2,1,1,1] + 120 L_Shed[2,1,1,1] + 4 r_U[1,1,2,1] + 4 r_D[1,1,2,1] + 12 r_U[1,2,2,1] + 12 r_D[1,2,2,1] + 80 L_Shed[1,1,2,1] + 6 r_U[1,1,1,1] + 6 r_D[1,1,1,1] + 18 r_U[1,2,1,1] + 18 r_D[1,2,1,1] + 120 L_Shed[1,1,1,1]\n",
      "Subject to\n",
      " c7[2,2,1,1] : 7.6923 𝛿[2,1,1] - 7.6923 𝛿[1,2,1] - PF[2,1,1] == 0\n",
      " c7[2,1,2,1] : -7.6923 𝛿[2,1,1] + 7.6923 𝛿[1,2,1] - PF[1,2,1] == 0\n",
      " c7[1,2,1,1] : 7.6923 𝛿[2,1,1] - 7.6923 𝛿[1,2,1] - PF[2,1,1] == 0\n",
      " c7[1,1,2,1] : -7.6923 𝛿[2,1,1] + 7.6923 𝛿[1,2,1] - PF[1,2,1] == 0\n",
      " Power_balance_day_ahead[2,1] : P[2,1,1] - PF[2,1,1] == 100\n",
      " Power_balance_day_ahead[1,1] : P[1,1,1] + P[1,2,1] + W_s[1,1,1] - PF[1,2,1] == 40\n",
      " Power_balance_at_stage[2,2,1] : r_U[2,1,2,1] - r_D[2,1,2,1] + L_Shed[2,1,2,1] + PF[2,1,1] - PF_scenario[2,2,1,1] == 0\n",
      " Power_balance_at_stage[2,1,1] : r_U[1,1,2,1] + r_U[1,2,2,1] - r_D[1,1,2,1] - r_D[1,2,2,1] + L_Shed[1,1,2,1] - W_spill[1,1,2,1] - W_s[1,1,1] + PF[1,2,1] - PF_scenario[2,1,2,1] == -10\n",
      " Power_balance_at_stage[1,2,1] : r_U[2,1,1,1] - r_D[2,1,1,1] + L_Shed[2,1,1,1] + PF[2,1,1] - PF_scenario[1,2,1,1] == 0\n",
      " Power_balance_at_stage[1,1,1] : r_U[1,1,1,1] + r_U[1,2,1,1] - r_D[1,1,1,1] - r_D[1,2,1,1] + L_Shed[1,1,1,1] - W_spill[1,1,1,1] - W_s[1,1,1] + PF[1,2,1] - PF_scenario[1,1,2,1] == -50\n",
      " c2[2,1,1] : P[2,1,1] - R_D[2,1,1] >= 0\n",
      " c2[1,1,1] : P[1,1,1] - R_D[1,1,1] >= 0\n",
      " c2[1,2,1] : P[1,2,1] - R_D[1,2,1] >= 0\n",
      " c1[2,1,1] : P[2,1,1] + R_U[2,1,1] <= 100\n",
      " c1[1,1,1] : P[1,1,1] + R_U[1,1,1] <= 50\n",
      " c1[1,2,1] : P[1,2,1] + R_U[1,2,1] <= 110\n",
      " c3[2,1,1,2] : -R_U[2,1,1] + r_U[2,1,2,1] <= 0\n",
      " c3[2,1,1,1] : -R_U[2,1,1] + r_U[2,1,1,1] <= 0\n",
      " c3[1,1,1,2] : -R_U[1,1,1] + r_U[1,1,2,1] <= 0\n",
      " c3[1,1,1,1] : -R_U[1,1,1] + r_U[1,1,1,1] <= 0\n",
      " c3[1,2,1,2] : -R_U[1,2,1] + r_U[1,2,2,1] <= 0\n",
      " c3[1,2,1,1] : -R_U[1,2,1] + r_U[1,2,1,1] <= 0\n",
      " c4[2,1,1,2] : -R_D[2,1,1] + r_D[2,1,2,1] <= 0\n",
      " c4[2,1,1,1] : -R_D[2,1,1] + r_D[2,1,1,1] <= 0\n",
      " c4[1,1,1,2] : -R_D[1,1,1] + r_D[1,1,2,1] <= 0\n",
      " c4[1,1,1,1] : -R_D[1,1,1] + r_D[1,1,1,1] <= 0\n",
      " c4[1,2,1,2] : -R_D[1,2,1] + r_D[1,2,2,1] <= 0\n",
      " c4[1,2,1,1] : -R_D[1,2,1] + r_D[1,2,1,1] <= 0\n",
      " c5[2,2,1,1] : PF_scenario[2,2,1,1] <= 100\n",
      " c5[2,1,2,1] : PF_scenario[2,1,2,1] <= 100\n",
      " c5[1,2,1,1] : PF_scenario[1,2,1,1] <= 100\n",
      " c5[1,1,2,1] : PF_scenario[1,1,2,1] <= 100\n",
      " c6[2,1,1] : PF[2,1,1] <= 100\n",
      " c6[1,2,1] : PF[1,2,1] <= 100\n",
      " c8[2,1,1,1] : W_spill[1,1,2,1] <= 10\n",
      " c8[1,1,1,1] : W_spill[1,1,1,1] <= 50\n",
      " c9[2,2,1,1] : L_Shed[2,1,2,1] <= 100\n",
      " c9[2,1,1,1] : L_Shed[1,1,2,1] <= 40\n",
      " c9[1,2,1,1] : L_Shed[2,1,1,1] <= 100\n",
      " c9[1,1,1,1] : L_Shed[1,1,1,1] <= 40\n",
      " P[2,1,1] >= 0\n",
      " P[1,1,1] >= 0\n",
      " P[1,2,1] >= 0\n",
      " R_U[2,1,1] >= 0\n",
      " R_U[1,1,1] >= 0\n",
      " R_U[1,2,1] >= 0\n",
      " R_D[2,1,1] >= 0\n",
      " R_D[1,1,1] >= 0\n",
      " R_D[1,2,1] >= 0\n",
      " r_U[2,1,2,1] >= 0\n",
      " r_U[2,1,1,1] >= 0\n",
      " r_U[1,1,2,1] >= 0\n",
      " r_U[1,1,1,1] >= 0\n",
      " r_U[1,2,2,1] >= 0\n",
      " r_U[1,2,1,1] >= 0\n",
      " r_D[2,1,2,1] >= 0\n",
      " r_D[2,1,1,1] >= 0\n",
      " r_D[1,1,2,1] >= 0\n",
      " r_D[1,1,1,1] >= 0\n",
      " r_D[1,2,2,1] >= 0\n",
      " r_D[1,2,1,1] >= 0\n",
      " L_Shed[2,1,2,1] >= 0\n",
      " L_Shed[2,1,1,1] >= 0\n",
      " L_Shed[1,1,2,1] >= 0\n",
      " L_Shed[1,1,1,1] >= 0\n",
      " W_spill[1,1,2,1] >= 0\n",
      " W_spill[1,1,1,1] >= 0\n",
      " W_s[1,1,1] >= 0\n",
      " 𝛿[2,1,1] >= 0\n",
      " 𝛿[1,2,1] >= 0\n"
     ]
    }
   ],
   "source": [
    "model=Model(HiGHS.Optimizer)\n",
    "vars=init_variables(model)\n",
    "init_constraints(model, data, vars)\n",
    "init_obj_function(model, data, vars)\n",
    "print(model)"
   ]
  },
  {
   "cell_type": "code",
   "execution_count": 79,
   "id": "41b49558-859d-4748-880e-29c07390fabd",
   "metadata": {
    "scrolled": true
   },
   "outputs": [
    {
     "name": "stdout",
     "output_type": "stream",
     "text": [
      "Running HiGHS 1.6.0: Copyright (c) 2023 HiGHS under MIT licence terms\n",
      "Presolving model\n",
      "27 rows, 35 cols, 80 nonzeros\n",
      "2 rows, 3 cols, 4 nonzeros\n",
      "0 rows, 0 cols, 0 nonzeros\n",
      "Presolve : Reductions: rows 0(-40); columns 0(-36); elements 0(-94) - Reduced to empty\n",
      "Solving the original LP from the solution after postsolve\n",
      "Model   status      : Optimal\n",
      "Objective value     :  0.0000000000e+00\n",
      "HiGHS run time      :          0.00\n"
     ]
    }
   ],
   "source": [
    "optimize!(model)"
   ]
  },
  {
   "cell_type": "code",
   "execution_count": 80,
   "id": "328c9241-12d4-4fa0-97e7-5e8759d43d2e",
   "metadata": {},
   "outputs": [
    {
     "name": "stdout",
     "output_type": "stream",
     "text": [
      "Variable values:\n",
      "P:\n"
     ]
    },
    {
     "ename": "KeyError",
     "evalue": "KeyError: key :N not found",
     "output_type": "error",
     "traceback": [
      "KeyError: key :N not found\n",
      "\n",
      "Stacktrace:\n",
      " [1] getindex(h::Dict{Any, Any}, key::Symbol)\n",
      "   @ Base .\\dict.jl:484\n",
      " [2] top-level scope\n",
      "   @ a:\\07Dissertation\\01 Seminare\\AMO\\Abgabe\\Team_assignment_AMO\\Model_2.ipynb:4"
     ]
    }
   ],
   "source": [
    "# Print the values of the variables\n",
    "println(\"Variable values:\")\n",
    "println(\"P:\")\n",
    "for n in data[:N], i in data[:I], t in data[:T]\n",
    "    println(\"P[$i]: \", JuMP.value.(vars[:P][n, i, t]))\n",
    "end\n",
    "\n",
    "println(\"\\nR_U:\")\n",
    "for i in data[:I], t in data[:T]\n",
    "    println(\"R_U[$i]: \", value(vars[:R_U][i, t]))\n",
    "end\n",
    "\n",
    "println(\"\\nR_D:\")\n",
    "for i in data[:I], t in data[:T]\n",
    "    println(\"R_D[$i]: \", value(vars[:R_D][i, t]))end\n",
    "\n",
    "println(\"\\nL_Shed:\")\n",
    "for j in data[:J], ω in data[:Ω], t in data[:T]\n",
    "    println(\"L_Shed[$j, $ω, $t]: \", value(vars[:L_Shed][j, ω, t]))\n",
    "end\n",
    "\n",
    "println(\"\\nW_spill:\")\n",
    "for q in data[:Q], ω in data[:Ω], t in data[:T]\n",
    "    println(\"W_spill[$q, $ω, $t]: \", value(vars[:W_spill][q, ω, t]))\n",
    "end\n",
    "\n",
    "println(\"\\nW_realized:\")\n",
    "for q in data[:Q], ω in data[:Ω], t in data[:T]\n",
    "    println(\"W_realized[$q, $ω, $t]: \", value(data[:W_realized][q, ω, t]))\n",
    "end\n",
    "\n",
    "println(\"\\nW_s:\")\n",
    "for q in data[:Q], t in data[:T]\n",
    "    println(\"W_s[$q, $t]: \", value(vars[:W_s][q, t]))\n",
    "end\n",
    "\n",
    "println(\"\\nr_U:\")\n",
    "for i in data[:I], ω in data[:Ω], t in data[:T]\n",
    "    println(\"r_U[$i, $ω, $t]: \", value(vars[:r_U][i, ω, t]))\n",
    "end\n",
    "\n",
    "println(\"\\nr_D:\")\n",
    "for i in data[:I], ω in data[:Ω], t in data[:T]\n",
    "    println(\"r_D[$i, $ω, $t]: \", value(vars[:r_D][i, ω, t]))\n",
    "end\n",
    "\n",
    "println(\"\\nLoad\")\n",
    "for j in data[:J]\n",
    "    print(\"L[$j]:\", data[:L][j])\n",
    "end\n",
    "\n",
    "print(\"\\n\\nsum:\", sum(data[:L]))"
   ]
  }
 ],
 "metadata": {
  "kernelspec": {
   "display_name": "Julia 1.9.4",
   "language": "julia",
   "name": "julia-1.9"
  },
  "language_info": {
   "file_extension": ".jl",
   "mimetype": "application/julia",
   "name": "julia",
   "version": "1.9.4"
  }
 },
 "nbformat": 4,
 "nbformat_minor": 5
}
