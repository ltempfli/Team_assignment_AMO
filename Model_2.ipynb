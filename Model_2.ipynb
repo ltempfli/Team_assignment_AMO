{
 "cells": [
  {
   "cell_type": "markdown",
   "id": "01da2a5f-cd65-4ad7-94b6-d155f46be45f",
   "metadata": {},
   "source": [
    "## Model 2\n"
   ]
  },
  {
   "cell_type": "markdown",
   "id": "4cf767e0-4c37-46d1-81a6-2d034855caa9",
   "metadata": {},
   "source": [
    "Stochastic optimization model used to solve the two-stage problem"
   ]
  },
  {
   "cell_type": "code",
   "execution_count": 97,
   "id": "e79cef7d-eddd-4e9b-a8a4-b98cb7c86f8f",
   "metadata": {},
   "outputs": [],
   "source": [
    "using JuMP,HiGHS,DataFrames\n",
    "using CSV\n",
    "using DataFrames"
   ]
  },
  {
   "cell_type": "code",
   "execution_count": 98,
   "id": "9439b13d-e09c-4c42-94c0-d181f9f888b6",
   "metadata": {
    "scrolled": true
   },
   "outputs": [
    {
     "data": {
      "text/html": [
       "<div><div style = \"float: left;\"><span>2×15 DataFrame</span></div><div style = \"clear: both;\"></div></div><div class = \"data-frame\" style = \"overflow-x: scroll;\"><table class = \"data-frame\" style = \"margin-bottom: 6px;\"><thead><tr class = \"header\"><th class = \"rowNumber\" style = \"font-weight: bold; text-align: right;\">Row</th><th style = \"text-align: left;\">Node</th><th style = \"text-align: left;\">I</th><th style = \"text-align: left;\">P_max</th><th style = \"text-align: left;\">C</th><th style = \"text-align: left;\">C_RU</th><th style = \"text-align: left;\">C_RD</th><th style = \"text-align: left;\">C_U</th><th style = \"text-align: left;\">C_D</th><th style = \"text-align: left;\">J</th><th style = \"text-align: left;\">V_LOL</th><th style = \"text-align: left;\">Q</th><th style = \"text-align: left;\">C_cur</th><th style = \"text-align: left;\">Lambda</th><th style = \"text-align: left;\">b</th><th style = \"text-align: left;\">LC_Max</th></tr><tr class = \"subheader headerLastRow\"><th class = \"rowNumber\" style = \"font-weight: bold; text-align: right;\"></th><th title = \"Int64\" style = \"text-align: left;\">Int64</th><th title = \"String3\" style = \"text-align: left;\">String3</th><th title = \"String7\" style = \"text-align: left;\">String7</th><th title = \"String7\" style = \"text-align: left;\">String7</th><th title = \"String7\" style = \"text-align: left;\">String7</th><th title = \"String7\" style = \"text-align: left;\">String7</th><th title = \"String7\" style = \"text-align: left;\">String7</th><th title = \"String7\" style = \"text-align: left;\">String7</th><th title = \"Int64\" style = \"text-align: left;\">Int64</th><th title = \"Int64\" style = \"text-align: left;\">Int64</th><th title = \"Int64\" style = \"text-align: left;\">Int64</th><th title = \"Union{Missing, Int64}\" style = \"text-align: left;\">Int64?</th><th title = \"Int64\" style = \"text-align: left;\">Int64</th><th title = \"String15\" style = \"text-align: left;\">String15</th><th title = \"String7\" style = \"text-align: left;\">String7</th></tr></thead><tbody><tr><td class = \"rowNumber\" style = \"font-weight: bold; text-align: right;\">1</td><td style = \"text-align: right;\">1</td><td style = \"text-align: left;\">1;2</td><td style = \"text-align: left;\">50;110</td><td style = \"text-align: left;\">10;30</td><td style = \"text-align: left;\">16;13</td><td style = \"text-align: left;\">15;12</td><td style = \"text-align: left;\">10;30</td><td style = \"text-align: left;\">10;30</td><td style = \"text-align: right;\">1</td><td style = \"text-align: right;\">200</td><td style = \"text-align: right;\">1</td><td style = \"text-align: right;\">0</td><td style = \"text-align: right;\">2</td><td style = \"text-align: left;\">1;7.69230769231</td><td style = \"text-align: left;\">0;100</td></tr><tr><td class = \"rowNumber\" style = \"font-weight: bold; text-align: right;\">2</td><td style = \"text-align: right;\">2</td><td style = \"text-align: left;\">1</td><td style = \"text-align: left;\">100</td><td style = \"text-align: left;\">35</td><td style = \"text-align: left;\">10</td><td style = \"text-align: left;\">9</td><td style = \"text-align: left;\">35</td><td style = \"text-align: left;\">35</td><td style = \"text-align: right;\">1</td><td style = \"text-align: right;\">200</td><td style = \"text-align: right;\">0</td><td style = \"font-style: italic; text-align: right;\">missing</td><td style = \"text-align: right;\">1</td><td style = \"text-align: left;\">7.69230769231;1</td><td style = \"text-align: left;\">100;0</td></tr></tbody></table></div>"
      ],
      "text/latex": [
       "\\begin{tabular}{r|ccccccccccc}\n",
       "\t& Node & I & P\\_max & C & C\\_RU & C\\_RD & C\\_U & C\\_D & J & V\\_LOL & \\\\\n",
       "\t\\hline\n",
       "\t& Int64 & String3 & String7 & String7 & String7 & String7 & String7 & String7 & Int64 & Int64 & \\\\\n",
       "\t\\hline\n",
       "\t1 & 1 & 1;2 & 50;110 & 10;30 & 16;13 & 15;12 & 10;30 & 10;30 & 1 & 200 & $\\dots$ \\\\\n",
       "\t2 & 2 & 1 & 100 & 35 & 10 & 9 & 35 & 35 & 1 & 200 & $\\dots$ \\\\\n",
       "\\end{tabular}\n"
      ],
      "text/plain": [
       "\u001b[1m2×15 DataFrame\u001b[0m\n",
       "\u001b[1m Row \u001b[0m│\u001b[1m Node  \u001b[0m\u001b[1m I       \u001b[0m\u001b[1m P_max   \u001b[0m\u001b[1m C       \u001b[0m\u001b[1m C_RU    \u001b[0m\u001b[1m C_RD    \u001b[0m\u001b[1m C_U     \u001b[0m\u001b[1m C_D     \u001b[0m\u001b[1m J\u001b[0m ⋯\n",
       "     │\u001b[90m Int64 \u001b[0m\u001b[90m String3 \u001b[0m\u001b[90m String7 \u001b[0m\u001b[90m String7 \u001b[0m\u001b[90m String7 \u001b[0m\u001b[90m String7 \u001b[0m\u001b[90m String7 \u001b[0m\u001b[90m String7 \u001b[0m\u001b[90m I\u001b[0m ⋯\n",
       "─────┼──────────────────────────────────────────────────────────────────────────\n",
       "   1 │     1  1;2      50;110   10;30    16;13    15;12    10;30    10;30      ⋯\n",
       "   2 │     2  1        100      35       10       9        35       35\n",
       "\u001b[36m                                                               7 columns omitted\u001b[0m"
      ]
     },
     "execution_count": 98,
     "metadata": {},
     "output_type": "execute_result"
    }
   ],
   "source": [
    "# Import data about buses\n",
    "df_buses = CSV.read(\"data/24_buses.csv\", DataFrame)"
   ]
  },
  {
   "cell_type": "code",
   "execution_count": 99,
   "id": "e85e35f5-c275-4092-b07f-4133e537902f",
   "metadata": {},
   "outputs": [
    {
     "data": {
      "text/plain": [
       "string_to_array"
      ]
     },
     "execution_count": 99,
     "metadata": {},
     "output_type": "execute_result"
    }
   ],
   "source": [
    "\"\"\"\n",
    "Transforms indices into range for lists of objects (such as generation units)\n",
    "\n",
    "Input of 0 or empty cells is translated to no objects (i.e. empty array)\n",
    "\"\"\"\n",
    "function string_to_range(s)\n",
    "    # Check if s is missing or a string that represents an empty cell\n",
    "    if s == \"missing\" || s == \"0\"\n",
    "        return Int[]  # Return an empty array of Int type\n",
    "    else\n",
    "        str = string(s)  # Convert to string if not already\n",
    "        nums = split(str, \";\")  # Split the string by comma\n",
    "        nums = parse.(Int, nums)  # Parse each part to an integer\n",
    "        return minimum(nums):maximum(nums)  # Return the range\n",
    "    end\n",
    "end\n",
    "\n",
    "\"\"\"\n",
    "Transforms indices into array of values (such as generation costs per unit for each generation unit)\n",
    "\n",
    "Input of missing cells is translated to no values (i.e. empty array)\n",
    "\n",
    "Input of 0 is translated to 0 since it can be a coefficient\n",
    "\"\"\"\n",
    "function string_to_array(s)\n",
    "    # Check if s is missing or a string that represents an empty cell\n",
    "    #if s == \"0\"\n",
    "    #    return 0  # Return an empty array of Float64 type\n",
    "\n",
    "    if s == \"missing\"\n",
    "        return Float64[]\n",
    "\n",
    "    else\n",
    "        str = string(s)  # Convert to string if not already\n",
    "        nums = split(str, \";\")  # Split the string by semicolon\n",
    "        nums = parse.(Float64, nums)  # Parse each part to a float\n",
    "        return nums  # Return the array of floats\n",
    "    end\n",
    "end\n"
   ]
  },
  {
   "cell_type": "code",
   "execution_count": 100,
   "id": "f34a1b1d-bc64-4623-a5b8-ca90385aaa41",
   "metadata": {},
   "outputs": [],
   "source": [
    "# Transform columns with objects\n",
    "columns_to_range = [:I, :J, :Q]\n",
    "\n",
    "for col in columns_to_range\n",
    "    # Convert the column to String if it's not already\n",
    "    df_buses[!, col] = string.(df_buses[!, col])\n",
    "    # Apply the function to the column\n",
    "    df_buses[!, col] = [string_to_range(value) for value in df_buses[!, col]]\n",
    "end\n",
    "\n",
    "# Transform columns with values\n",
    "columns_to_array = [:C, :P_max, :C_RU, :C_RD, :C_U,\t:C_D, :V_LOL, :C_cur, :b, :LC_Max, :Lambda]\n",
    "for col in columns_to_array\n",
    "    # Convert the column to String if it's not already\n",
    "    df_buses[!, col] = string.(df_buses[!, col])\n",
    "    # Apply the function to the column\n",
    "    df_buses[!, col] = [string_to_array(value) for value in df_buses[!, col]]\n",
    "end\n"
   ]
  },
  {
   "cell_type": "code",
   "execution_count": 101,
   "id": "f98d085a-e5bf-4f97-a336-d6cb5f0a993e",
   "metadata": {
    "scrolled": true
   },
   "outputs": [
    {
     "data": {
      "text/html": [
       "<div><div style = \"float: left;\"><span>2×15 DataFrame</span></div><div style = \"clear: both;\"></div></div><div class = \"data-frame\" style = \"overflow-x: scroll;\"><table class = \"data-frame\" style = \"margin-bottom: 6px;\"><thead><tr class = \"header\"><th class = \"rowNumber\" style = \"font-weight: bold; text-align: right;\">Row</th><th style = \"text-align: left;\">Node</th><th style = \"text-align: left;\">I</th><th style = \"text-align: left;\">P_max</th><th style = \"text-align: left;\">C</th><th style = \"text-align: left;\">C_RU</th><th style = \"text-align: left;\">C_RD</th><th style = \"text-align: left;\">C_U</th><th style = \"text-align: left;\">C_D</th><th style = \"text-align: left;\">J</th><th style = \"text-align: left;\">V_LOL</th><th style = \"text-align: left;\">Q</th><th style = \"text-align: left;\">C_cur</th><th style = \"text-align: left;\">Lambda</th><th style = \"text-align: left;\">b</th><th style = \"text-align: left;\">LC_Max</th></tr><tr class = \"subheader headerLastRow\"><th class = \"rowNumber\" style = \"font-weight: bold; text-align: right;\"></th><th title = \"Int64\" style = \"text-align: left;\">Int64</th><th title = \"UnitRange{Int64}\" style = \"text-align: left;\">UnitRang…</th><th title = \"Vector{Float64}\" style = \"text-align: left;\">Array…</th><th title = \"Vector{Float64}\" style = \"text-align: left;\">Array…</th><th title = \"Vector{Float64}\" style = \"text-align: left;\">Array…</th><th title = \"Vector{Float64}\" style = \"text-align: left;\">Array…</th><th title = \"Vector{Float64}\" style = \"text-align: left;\">Array…</th><th title = \"Vector{Float64}\" style = \"text-align: left;\">Array…</th><th title = \"UnitRange{Int64}\" style = \"text-align: left;\">UnitRang…</th><th title = \"Vector{Float64}\" style = \"text-align: left;\">Array…</th><th title = \"AbstractVector{Int64}\" style = \"text-align: left;\">Abstract…</th><th title = \"Vector{Float64}\" style = \"text-align: left;\">Array…</th><th title = \"Vector{Float64}\" style = \"text-align: left;\">Array…</th><th title = \"Vector{Float64}\" style = \"text-align: left;\">Array…</th><th title = \"Vector{Float64}\" style = \"text-align: left;\">Array…</th></tr></thead><tbody><tr><td class = \"rowNumber\" style = \"font-weight: bold; text-align: right;\">1</td><td style = \"text-align: right;\">1</td><td style = \"text-align: left;\">1:2</td><td style = \"text-align: left;\">[50.0, 110.0]</td><td style = \"text-align: left;\">[10.0, 30.0]</td><td style = \"text-align: left;\">[16.0, 13.0]</td><td style = \"text-align: left;\">[15.0, 12.0]</td><td style = \"text-align: left;\">[10.0, 30.0]</td><td style = \"text-align: left;\">[10.0, 30.0]</td><td style = \"text-align: left;\">1:1</td><td style = \"text-align: left;\">[200.0]</td><td style = \"text-align: left;\">1:1</td><td style = \"text-align: left;\">[0.0]</td><td style = \"text-align: left;\">[2.0]</td><td style = \"text-align: left;\">[1.0, 7.69231]</td><td style = \"text-align: left;\">[0.0, 100.0]</td></tr><tr><td class = \"rowNumber\" style = \"font-weight: bold; text-align: right;\">2</td><td style = \"text-align: right;\">2</td><td style = \"text-align: left;\">1:1</td><td style = \"text-align: left;\">[100.0]</td><td style = \"text-align: left;\">[35.0]</td><td style = \"text-align: left;\">[10.0]</td><td style = \"text-align: left;\">[9.0]</td><td style = \"text-align: left;\">[35.0]</td><td style = \"text-align: left;\">[35.0]</td><td style = \"text-align: left;\">1:1</td><td style = \"text-align: left;\">[200.0]</td><td style = \"text-align: left;\">Int64[]</td><td style = \"text-align: left;\">Float64[]</td><td style = \"text-align: left;\">[1.0]</td><td style = \"text-align: left;\">[7.69231, 1.0]</td><td style = \"text-align: left;\">[100.0, 0.0]</td></tr></tbody></table></div>"
      ],
      "text/latex": [
       "\\begin{tabular}{r|cccccccc}\n",
       "\t& Node & I & P\\_max & C & C\\_RU & C\\_RD & C\\_U & \\\\\n",
       "\t\\hline\n",
       "\t& Int64 & UnitRang… & Array… & Array… & Array… & Array… & Array… & \\\\\n",
       "\t\\hline\n",
       "\t1 & 1 & 1:2 & [50.0, 110.0] & [10.0, 30.0] & [16.0, 13.0] & [15.0, 12.0] & [10.0, 30.0] & $\\dots$ \\\\\n",
       "\t2 & 2 & 1:1 & [100.0] & [35.0] & [10.0] & [9.0] & [35.0] & $\\dots$ \\\\\n",
       "\\end{tabular}\n"
      ],
      "text/plain": [
       "\u001b[1m2×15 DataFrame\u001b[0m\n",
       "\u001b[1m Row \u001b[0m│\u001b[1m Node  \u001b[0m\u001b[1m I         \u001b[0m\u001b[1m P_max         \u001b[0m\u001b[1m C            \u001b[0m\u001b[1m C_RU         \u001b[0m\u001b[1m C_RD      \u001b[0m ⋯\n",
       "     │\u001b[90m Int64 \u001b[0m\u001b[90m UnitRang… \u001b[0m\u001b[90m Array…        \u001b[0m\u001b[90m Array…       \u001b[0m\u001b[90m Array…       \u001b[0m\u001b[90m Array…    \u001b[0m ⋯\n",
       "─────┼──────────────────────────────────────────────────────────────────────────\n",
       "   1 │     1  1:2        [50.0, 110.0]  [10.0, 30.0]  [16.0, 13.0]  [15.0, 12. ⋯\n",
       "   2 │     2  1:1        [100.0]        [35.0]        [10.0]        [9.0]\n",
       "\u001b[36m                                                              10 columns omitted\u001b[0m"
      ]
     },
     "execution_count": 101,
     "metadata": {},
     "output_type": "execute_result"
    }
   ],
   "source": [
    "df_buses"
   ]
  },
  {
   "cell_type": "code",
   "execution_count": 102,
   "id": "84d21c3e-06c2-450c-aaeb-3b13687995cc",
   "metadata": {},
   "outputs": [
    {
     "data": {
      "text/html": [
       "<div><div style = \"float: left;\"><span>1×3 DataFrame</span></div><div style = \"clear: both;\"></div></div><div class = \"data-frame\" style = \"overflow-x: scroll;\"><table class = \"data-frame\" style = \"margin-bottom: 6px;\"><thead><tr class = \"header\"><th class = \"rowNumber\" style = \"font-weight: bold; text-align: right;\">Row</th><th style = \"text-align: left;\">T</th><th style = \"text-align: left;\">Omega</th><th style = \"text-align: left;\">Pi</th></tr><tr class = \"subheader headerLastRow\"><th class = \"rowNumber\" style = \"font-weight: bold; text-align: right;\"></th><th title = \"String3\" style = \"text-align: left;\">String3</th><th title = \"String3\" style = \"text-align: left;\">String3</th><th title = \"String7\" style = \"text-align: left;\">String7</th></tr></thead><tbody><tr><td class = \"rowNumber\" style = \"font-weight: bold; text-align: right;\">1</td><td style = \"text-align: left;\">1;1</td><td style = \"text-align: left;\">1;2</td><td style = \"text-align: left;\">0.6;0.4</td></tr></tbody></table></div>"
      ],
      "text/latex": [
       "\\begin{tabular}{r|ccc}\n",
       "\t& T & Omega & Pi\\\\\n",
       "\t\\hline\n",
       "\t& String3 & String3 & String7\\\\\n",
       "\t\\hline\n",
       "\t1 & 1;1 & 1;2 & 0.6;0.4 \\\\\n",
       "\\end{tabular}\n"
      ],
      "text/plain": [
       "\u001b[1m1×3 DataFrame\u001b[0m\n",
       "\u001b[1m Row \u001b[0m│\u001b[1m T       \u001b[0m\u001b[1m Omega   \u001b[0m\u001b[1m Pi      \u001b[0m\n",
       "     │\u001b[90m String3 \u001b[0m\u001b[90m String3 \u001b[0m\u001b[90m String7 \u001b[0m\n",
       "─────┼───────────────────────────\n",
       "   1 │ 1;1      1;2      0.6;0.4"
      ]
     },
     "execution_count": 102,
     "metadata": {},
     "output_type": "execute_result"
    }
   ],
   "source": [
    "# Import the rest of the data\n",
    "df_other = CSV.read(\"data/other_data.csv\", DataFrame)"
   ]
  },
  {
   "cell_type": "code",
   "execution_count": 103,
   "id": "6a35daea-1f17-4f6c-b9ca-6a0b84797b26",
   "metadata": {},
   "outputs": [],
   "source": [
    "# Transform columns with objects\n",
    "columns_to_range = [:T, :Omega]\n",
    "\n",
    "for col in columns_to_range\n",
    "    # Convert the column to String if it's not already\n",
    "    df_other[!, col] = string.(df_other[!, col])\n",
    "    # Apply the function to the column\n",
    "    df_other[!, col] = [string_to_range(value) for value in df_other[!, col]]\n",
    "end\n",
    "\n",
    "# Transform columns with values\n",
    "columns_to_array = [:Pi]\n",
    "for col in columns_to_array\n",
    "    # Convert the column to String if it's not already\n",
    "    df_other[!, col] = string.(df_other[!, col])\n",
    "    # Apply the function to the column\n",
    "    df_other[!, col] = [string_to_array(value) for value in df_other[!, col]]\n",
    "end"
   ]
  },
  {
   "cell_type": "code",
   "execution_count": 104,
   "id": "cfc0b947-9131-4f29-afa3-1c15c336bd76",
   "metadata": {},
   "outputs": [
    {
     "data": {
      "text/html": [
       "<div><div style = \"float: left;\"><span>1×3 DataFrame</span></div><div style = \"clear: both;\"></div></div><div class = \"data-frame\" style = \"overflow-x: scroll;\"><table class = \"data-frame\" style = \"margin-bottom: 6px;\"><thead><tr class = \"header\"><th class = \"rowNumber\" style = \"font-weight: bold; text-align: right;\">Row</th><th style = \"text-align: left;\">T</th><th style = \"text-align: left;\">Omega</th><th style = \"text-align: left;\">Pi</th></tr><tr class = \"subheader headerLastRow\"><th class = \"rowNumber\" style = \"font-weight: bold; text-align: right;\"></th><th title = \"UnitRange{Int64}\" style = \"text-align: left;\">UnitRang…</th><th title = \"UnitRange{Int64}\" style = \"text-align: left;\">UnitRang…</th><th title = \"Vector{Float64}\" style = \"text-align: left;\">Array…</th></tr></thead><tbody><tr><td class = \"rowNumber\" style = \"font-weight: bold; text-align: right;\">1</td><td style = \"text-align: left;\">1:1</td><td style = \"text-align: left;\">1:2</td><td style = \"text-align: left;\">[0.6, 0.4]</td></tr></tbody></table></div>"
      ],
      "text/latex": [
       "\\begin{tabular}{r|ccc}\n",
       "\t& T & Omega & Pi\\\\\n",
       "\t\\hline\n",
       "\t& UnitRang… & UnitRang… & Array…\\\\\n",
       "\t\\hline\n",
       "\t1 & 1:1 & 1:2 & [0.6, 0.4] \\\\\n",
       "\\end{tabular}\n"
      ],
      "text/plain": [
       "\u001b[1m1×3 DataFrame\u001b[0m\n",
       "\u001b[1m Row \u001b[0m│\u001b[1m T         \u001b[0m\u001b[1m Omega     \u001b[0m\u001b[1m Pi         \u001b[0m\n",
       "     │\u001b[90m UnitRang… \u001b[0m\u001b[90m UnitRang… \u001b[0m\u001b[90m Array…     \u001b[0m\n",
       "─────┼──────────────────────────────────\n",
       "   1 │ 1:1        1:2        [0.6, 0.4]"
      ]
     },
     "execution_count": 104,
     "metadata": {},
     "output_type": "execute_result"
    }
   ],
   "source": [
    "df_other"
   ]
  },
  {
   "cell_type": "code",
   "execution_count": 105,
   "id": "92eea34f-5d32-4fc3-9362-206e2235e02c",
   "metadata": {},
   "outputs": [
    {
     "data": {
      "text/plain": [
       "\"N = 1:2                                #number of nodes (buses)\\nI=[[1:2]; [1:1]]                           #number of generation units of node n\\n# Q [0:0] \\nQ = [[1], []]                          # Q[n] gives the wind units at node n\\nT=1:1                                \" ⋯ 1418 bytes ⋯ \"    #maximum production capacity\\n\\n# From IEEE 24 bus\\nb = [[1, 1/0.13], [1/0.13, 1]]                     #line susceptance (loss of transmission)\\nLC_Max = [[0, 100], [100, 0]]          #maximum transmission quantity between two buses [n][ℓ]\\nprint(W_realized[1][1][2][1])\\n\""
      ]
     },
     "execution_count": 105,
     "metadata": {},
     "output_type": "execute_result"
    }
   ],
   "source": [
    "\"\"\"\n",
    "N = 1:2                                #number of nodes (buses)\n",
    "I=[[1:2]; [1:1]]                           #number of generation units of node n\n",
    "# Q [0:0] \n",
    "Q = [[1], []]                          # Q[n] gives the wind units at node n\n",
    "T=1:1                                  #number of time intervalls \n",
    "Ω=1:2                                  #number of scenarios\n",
    "J=[[1:1]; [1:1]]                           #number of loads  of node n\n",
    "Λ=[[2:2]; [1:1]]                            #set of nodes directly connected to node n\n",
    "#Λ=[[2] [1]]                            #set of nodes directly connected to node n\n",
    "C=[[10, 30], [35]]                          #unit cost of generation C[N,I]\n",
    "C_RU=[[16, 13], [10]]                       #cost of up reserve commitment C_RU[N,I]\n",
    "C_RD=[[15, 12], [9]]                        #cost of down reserve commitment C_RD[N,I]\n",
    "C_U=[[10, 30], [35]]                        #cost of up reserve commitment C_U[N,I]\n",
    "C_D=[[10, 30], [35]]                        #cost of down reserve commitment C_D[N,I]\n",
    "π=[0.6, 0.4]                           #probabilities of the scenarios\n",
    "V_LOL=[[200], [200]]                        #value of the lost load\n",
    "C_cur=[[0]] #[15]                         #cost of curtailment at turbine C_cur[N,Q]\n",
    "L= [[40], [100]]               #loads for every time intervall L=[N] [J,T]\n",
    "#W_realized = [[[50] [10]] [[50] [10]] [[50] [10]]] #create random scenarios for four time points q,ω,t\n",
    "\n",
    "# changed back to original\n",
    "W_realized = [[[[50],[10]],[]],[]] #70 .+ 15 * randn(1, 1, 2, 1)  #create random scenarios for n,q,ω,t [[[[50],[10]]],[]]#\n",
    "#[[[111 112] [121 122]] [[211 212] [221 222]] [[311 312] [321 322]]]\n",
    "P_max=[[50, 110], [100]];                   #maximum production capacity\n",
    "\n",
    "# From IEEE 24 bus\n",
    "b = [[1, 1/0.13], [1/0.13, 1]]                     #line susceptance (loss of transmission)\n",
    "LC_Max = [[0, 100], [100, 0]]          #maximum transmission quantity between two buses [n][ℓ]\n",
    "print(W_realized[1][1][2][1])\n",
    "\"\"\""
   ]
  },
  {
   "cell_type": "code",
   "execution_count": 106,
   "id": "ed734a17-070c-4e0b-b5de-dd2534451679",
   "metadata": {},
   "outputs": [
    {
     "data": {
      "text/plain": [
       "\"data= Dict(\\n    :N => N,\\n    :I => I,\\n    :Q => Q,\\n    :T => T,\\n    :Ω => Ω,\\n    :J => J,\\n    :Λ => Λ,\\n    :C => C,\\n    :C_RU => C_RU,\\n    :C_RD => C_RD,\\n    :C_U => C_U,\\n    :C_D => C_D,\\n    :π => π,\\n    :V_LOL => V_LOL,\\n    :C_cur => C_cur,\\n    :L => L,\\n    :W_realized => W_realized,\\n    :P_max => P_max,\\n    :b => b,\\n    :LC_Max => LC_Max\\n    );\\n#print(W_realized[1,2,1])\\n\""
      ]
     },
     "execution_count": 106,
     "metadata": {},
     "output_type": "execute_result"
    }
   ],
   "source": [
    "\"\"\"\n",
    "data= Dict(\n",
    "    :N => N,\n",
    "    :I => I,\n",
    "    :Q => Q,\n",
    "    :T => T,\n",
    "    :Ω => Ω,\n",
    "    :J => J,\n",
    "    :Λ => Λ,\n",
    "    :C => C,\n",
    "    :C_RU => C_RU,\n",
    "    :C_RD => C_RD,\n",
    "    :C_U => C_U,\n",
    "    :C_D => C_D,\n",
    "    :π => π,\n",
    "    :V_LOL => V_LOL,\n",
    "    :C_cur => C_cur,\n",
    "    :L => L,\n",
    "    :W_realized => W_realized,\n",
    "    :P_max => P_max,\n",
    "    :b => b,\n",
    "    :LC_Max => LC_Max\n",
    "    );\n",
    "#print(W_realized[1,2,1])\n",
    "\"\"\""
   ]
  },
  {
   "cell_type": "code",
   "execution_count": 107,
   "id": "d3d5a73a-6017-46a2-be0a-d9358efca745",
   "metadata": {},
   "outputs": [],
   "source": [
    "# Create an empty dictionary to hold all nodes\n",
    "data = Dict()\n",
    "\n",
    "# Iterate over the range of nodes\n",
    "for node in 1:2\n",
    "    # Create a dictionary for the current node with all other variables\n",
    "    data_node = Dict(\n",
    "        :I => df_buses.I[node],\n",
    "        :Q => df_buses.Q[node],\n",
    "#        :T => df_other.T,\n",
    "#        :Ω => df_other.Omega,\n",
    "        :J => df_buses.J[node],\n",
    "        :Λ => df_buses.Lambda[node],\n",
    "        :C => df_buses.C[node],\n",
    "        :C_RU => df_buses.C_RU[node],\n",
    "        :C_RD => df_buses.C_RD[node],\n",
    "        :C_U => df_buses.C_U[node],\n",
    "        :C_D => df_buses.C_D[node],\n",
    "#        :π => df_other.Pi,\n",
    "        :V_LOL => df_buses.V_LOL[node],\n",
    "        :C_cur => df_buses.C_cur[node],\n",
    "#        :L => df_buses.L[node],\n",
    "#        :W_realized => W_realized,\n",
    "        :P_max => df_buses.P_max[node],\n",
    "        :b => df_buses.b[node],\n",
    "        :LC_Max => df_buses.LC_Max[node],\n",
    "        )\n",
    "    \n",
    "    # Assign the dictionary to the current node key\n",
    "    data[node] = data_node\n",
    "end\n",
    "\n"
   ]
  },
  {
   "cell_type": "code",
   "execution_count": 108,
   "id": "f8024117-948f-4e66-95be-d2ad924f45cb",
   "metadata": {},
   "outputs": [
    {
     "name": "stdout",
     "output_type": "stream",
     "text": [
      "Dict{Symbol, AbstractVector}(:C_RU => [16.0, 13.0], :b => [1.0, 7.69230769231], :C_U => [10.0, 30.0], :C_D => [10.0, 30.0], :P_max => [50.0, 110.0], :C_cur => [0.0], :LC_Max => [0.0, 100.0], :Λ => [2.0], :C_RD => [15.0, 12.0], :Q => 1:1, :V_LOL => [200.0], :I => 1:2, :J => 1:1, :C => [10.0, 30.0])\n",
      "Dict{Symbol, AbstractVector}(:C_RU => [10.0], :b => [7.69230769231, 1.0], :C_U => [35.0], :C_D => [35.0], :P_max => [100.0], :C_cur => Float64[], :LC_Max => [100.0, 0.0], :Λ => [1.0], :C_RD => [9.0], :Q => Int64[], :V_LOL => [200.0], :I => 1:1, :J => 1:1, :C => [35.0])\n"
     ]
    }
   ],
   "source": [
    "println(data[1])\n",
    "println(data[2])"
   ]
  },
  {
   "cell_type": "code",
   "execution_count": 110,
   "id": "1b7feac8-b794-477f-a1af-006dfeb529e6",
   "metadata": {},
   "outputs": [],
   "source": [
    "function init_variables(model::JuMP.Model)\n",
    "    P=@variable(model, P[n in data[:N], i in data[:I][n], t in data[:T]] >=0) #energy generated\n",
    "    R_U=@variable(model, R_U[n in data[:N], i in data[:I][n], t in data[:T]] >=0) #committed upward reserve capacity of generator i\n",
    "    R_D=@variable(model, R_D[n in data[:N], i in data[:I][n], t in data[:T]] >=0) #committed downward reserve capacity of generator i\n",
    "    r_U=@variable(model, r_U[n in data[:N], i in data[:I][n], ω in data[:Ω], t in data[:T]] >=0) #up regulation of generator i in case 𝜔\n",
    "    r_D=@variable(model, r_D[n in data[:N], i in data[:I][n], ω in data[:Ω], t in data[:T]] >=0) #down regulation of generator i in case 𝜔\n",
    "    L_Shed=@variable(model, L_Shed[n in data[:N], j in data[:J][n], ω in data[:Ω], t in data[:T]] >=0) #loss of load at load demand j in case 𝜔\n",
    "    W_spill=@variable(model, W_spill[n in data[:N], q in data[:Q][n], ω in data[:Ω], t in data[:T]] >=0) #curtailment of turbine q in case 𝜔\n",
    "    W_s=@variable(model, W_s[n in data[:N], q in data[:Q][n], t in data[:T]] >=0) #scheduled wind power generation at turbine q\n",
    "    𝛿=@variable(model, 𝛿[n in data[:N], ℓ in data[:Λ][n], t in data[:T]] >= 0) #voltage angle\n",
    "    PF=@variable(model, PF[n in data[:N], ℓ in data[:Λ][n], t in data[:T]] >= 0) #power flow          # added >= 0 \n",
    "    PF_scenario=@variable(model, PF_scenario[ω in data[:Ω], n in data[:N], ℓ in data[:Λ][n], t in data[:T]] >= 0) #power flow scenario\n",
    "    \n",
    "    vars= Dict(\n",
    "        :P => P,\n",
    "        :R_U => R_U,\n",
    "        :R_D => R_D,\n",
    "        :r_U => r_U,\n",
    "        :r_D => r_D,\n",
    "        :L_Shed => L_Shed,\n",
    "        :W_spill => W_spill,\n",
    "        :W_s => W_s,            # added commas\n",
    "        :𝛿 => 𝛿,\n",
    "        :PF => PF,\n",
    "        :PF_scenario => PF_scenario\n",
    "    )\n",
    "    \n",
    "    return vars\n",
    "end;\n"
   ]
  },
  {
   "cell_type": "code",
   "execution_count": 111,
   "id": "789406ff-632f-40b0-a4b1-9656e6327b06",
   "metadata": {},
   "outputs": [],
   "source": [
    "function init_constraints(model::JuMP.Model, data::Dict, vars::Dict)\n",
    "    @constraints(model, begin \n",
    "            c1[n in data[:N],i in data[:I][n], t in data[:T]], vars[:P][n, i, t]+ vars[:R_U][n, i, t]<= data[:P_max][n][i]\n",
    "            c2[n in data[:N],i in data[:I][n] ,t in data[:T]], vars[:P][n, i, t]- vars[:R_D][n, i, t]>= 0\n",
    "            c3[n in data[:N],i in data[:I][n], t in data[:T], ω in data[:Ω]], vars[:r_U][n, i, ω, t] <= vars[:R_U][n,i,t]\n",
    "            c4[n in data[:N],i in data[:I][n], t in data[:T], ω in data[:Ω]], vars[:r_D][n, i, ω, t] <= vars[:R_D][n,i,t]\n",
    "            \n",
    "            c5[ω in data[:Ω], n in data[:N], ℓ in data[:Λ][n], t in data[:T]], vars[:PF_scenario][ω, n, ℓ, t] <= data[:LC_Max][n][ℓ]\n",
    "            \n",
    "            c6[n in data[:N], ℓ in data[:Λ][n], t in data[:T]], vars[:PF][n, ℓ, t] <= data[:LC_Max][n][ℓ]\n",
    "            # Something wrong with powerflow\n",
    "            c7[ω in data[:Ω], n in data[:N], ℓ in data[:Λ][n], t in data[:T]], (vars[:𝛿][n, ℓ, t] - vars[:𝛿][ℓ, n, t]) * data[:b][n][ℓ] == vars[:PF][n, ℓ, t]\n",
    "\n",
    "            ## !!\n",
    "            Power_balance_day_ahead[n in data[:N], t in data[:T]], \n",
    "            sum(vars[:P][n,i,t] for i in data[:I][n]) + sum(vars[:W_s][n,q,t] for q in data[:Q][n]) - sum(data[:L][n][j,t] for j in data[:J][n]) - sum(vars[:PF][n, ℓ, t] for ℓ in data[:Λ][n]) == 0\n",
    "\n",
    "            Power_balance_at_stage[ω in data[:Ω], n in data[:N], t in data[:T]], \n",
    "            sum(vars[:r_U][n,i, ω, t] for i in data[:I][n]) -\n",
    "            sum(vars[:r_D][n,i, ω, t] for i in data[:I][n]) +\n",
    "            sum(vars[:L_Shed][n,j, ω, t] for j in data[:J][n]) +\n",
    "            # n ! and W_realized and Q changed\n",
    "            sum(data[:W_realized][n][q][ω][t] -vars[:W_s][n,q,t] - vars[:W_spill][n,q,ω,t] for q in data[:Q][n]) -\n",
    "            sum(vars[:PF_scenario][ω, n, ℓ, t] for ℓ in data[:Λ][n]) +\n",
    "            sum(vars[:PF][n, ℓ, t] for ℓ in data[:Λ][n]) == 0 \n",
    "    end)\n",
    "end;\n"
   ]
  },
  {
   "cell_type": "code",
   "execution_count": 112,
   "id": "497ed0bc-d3ca-49b6-a917-3e4d64c1031c",
   "metadata": {},
   "outputs": [
    {
     "ename": "LoadError",
     "evalue": "KeyError: key :b not found",
     "output_type": "error",
     "traceback": [
      "KeyError: key :b not found",
      "",
      "Stacktrace:",
      " [1] getindex(h::Dict{Any, Any}, key::Symbol)",
      "   @ Base .\\dict.jl:484",
      " [2] top-level scope",
      "   @ In[112]:5"
     ]
    }
   ],
   "source": [
    "#W_realized[1,1,1,1]\n",
    "#print(vars[:W_s][1,1,1])\n",
    "#println(data[:Q])\n",
    "#println(keys(vars[:W_s]))\n",
    "data[:b][1][2]\n"
   ]
  },
  {
   "cell_type": "code",
   "execution_count": 113,
   "id": "31fc2906-6380-4459-b1bd-5f4fdf189f88",
   "metadata": {},
   "outputs": [],
   "source": [
    "function init_obj_function(model, data, vars)\n",
    "    @objective(model, Min, sum(vars[:P][n,i,t]* data[:C][n][i] + vars[:R_U][n,i,t] * data[:C_RU][n][i] + vars[:R_D][n,i,t] * data[:C_RD][n][i] for n in data[:N], i in data[:I][n], t in data[:T]) +\n",
    "    sum(π[ω] * (sum(data[:C_U][n][i] * vars[:r_U][n,i, ω ,t] + data[:C_D][n][i] * vars[:r_D][n,i, ω, t] for i in data[:I][n]) +\n",
    "                sum(data[:C_cur][n][q] * vars[:W_spill][n,q, ω, t] for q in data[:Q][n]) +\n",
    "                sum(data[:V_LOL][n][j] * vars[:L_Shed][n, j, ω, t] for j in data[:J][n])) for n in data[:N], ω in data[:Ω], t in data[:T])\n",
    "    )\n",
    "end;"
   ]
  },
  {
   "cell_type": "code",
   "execution_count": 114,
   "id": "36cf5fd5-4e3c-4a6e-a2f5-f85068a034da",
   "metadata": {
    "scrolled": true
   },
   "outputs": [
    {
     "ename": "LoadError",
     "evalue": "At In[110]:2: `@variable(model, P[n in data[:N], i in (data[:I])[n], t in data[:T]] >= 0)`: unexpected error parsing reference set: data[:N]",
     "output_type": "error",
     "traceback": [
      "At In[110]:2: `@variable(model, P[n in data[:N], i in (data[:I])[n], t in data[:T]] >= 0)`: unexpected error parsing reference set: data[:N]",
      "",
      "Stacktrace:",
      "  [1] error(::String, ::String, ::Expr)",
      "    @ Base .\\error.jl:44",
      "  [2] (::JuMP.Containers.var\"#error_fn#98\"{String})(::String, ::Vararg{Any})",
      "    @ JuMP.Containers C:\\Users\\user\\.julia\\packages\\JuMP\\HjlGr\\src\\Containers\\macro.jl:325",
      "  [3] (::var\"#264#313\")()",
      "    @ Main C:\\Users\\user\\.julia\\packages\\JuMP\\HjlGr\\src\\Containers\\macro.jl:359",
      "  [4] _first_iterate(iterators::Tuple{var\"#264#313\", var\"#265#314\", var\"#266#315\"}, condition::Function, elems::Tuple{}, states::Tuple{})",
      "    @ JuMP.Containers C:\\Users\\user\\.julia\\packages\\JuMP\\HjlGr\\src\\Containers\\nested_iterator.jl:121",
      "  [5] iterate",
      "    @ C:\\Users\\user\\.julia\\packages\\JuMP\\HjlGr\\src\\Containers\\nested_iterator.jl:157 [inlined]",
      "  [6] iterate",
      "    @ .\\generator.jl:44 [inlined]",
      "  [7] grow_to!(dest::JuMP.Containers.NoDuplicateDict{Any, Any}, itr::Base.Generator{JuMP.Containers.NestedIterator{Tuple{var\"#264#313\", var\"#265#314\", var\"#266#315\"}, JuMP.Containers.var\"#78#80\"}, JuMP.Containers.var\"#91#93\"{var\"#263#312\"{Model}}})",
      "    @ Base .\\dict.jl:120",
      "  [8] dict_with_eltype",
      "    @ .\\abstractdict.jl:590 [inlined]",
      "  [9] JuMP.Containers.NoDuplicateDict(it::Base.Generator{JuMP.Containers.NestedIterator{Tuple{var\"#264#313\", var\"#265#314\", var\"#266#315\"}, JuMP.Containers.var\"#78#80\"}, JuMP.Containers.var\"#91#93\"{var\"#263#312\"{Model}}})",
      "    @ JuMP.Containers C:\\Users\\user\\.julia\\packages\\JuMP\\HjlGr\\src\\Containers\\no_duplicate_dict.jl:41",
      " [10] container(f::Function, indices::JuMP.Containers.NestedIterator{Tuple{var\"#264#313\", var\"#265#314\", var\"#266#315\"}, JuMP.Containers.var\"#78#80\"}, ::Type{JuMP.Containers.SparseAxisArray}, names::Vector{Any})",
      "    @ JuMP.Containers C:\\Users\\user\\.julia\\packages\\JuMP\\HjlGr\\src\\Containers\\container.jl:146",
      " [11] container",
      "    @ C:\\Users\\user\\.julia\\packages\\JuMP\\HjlGr\\src\\Containers\\container.jl:75 [inlined]",
      " [12] macro expansion",
      "    @ C:\\Users\\user\\.julia\\packages\\JuMP\\HjlGr\\src\\macros.jl:393 [inlined]",
      " [13] init_variables(model::Model)",
      "    @ Main .\\In[110]:2",
      " [14] top-level scope",
      "    @ In[114]:2"
     ]
    }
   ],
   "source": [
    "model=Model(HiGHS.Optimizer)\n",
    "vars=init_variables(model)\n",
    "init_constraints(model, data, vars)\n",
    "init_obj_function(model, data, vars)\n",
    "print(model)"
   ]
  },
  {
   "cell_type": "code",
   "execution_count": 115,
   "id": "41b49558-859d-4748-880e-29c07390fabd",
   "metadata": {
    "scrolled": true
   },
   "outputs": [
    {
     "name": "stdout",
     "output_type": "stream",
     "text": [
      "Model   status      : Empty\n",
      "HiGHS run time      :          0.00\n"
     ]
    }
   ],
   "source": [
    "optimize!(model)"
   ]
  },
  {
   "cell_type": "code",
   "execution_count": 116,
   "id": "328c9241-12d4-4fa0-97e7-5e8759d43d2e",
   "metadata": {},
   "outputs": [
    {
     "name": "stdout",
     "output_type": "stream",
     "text": [
      "Variable values:\n",
      "P:\n"
     ]
    },
    {
     "ename": "LoadError",
     "evalue": "KeyError: key :N not found",
     "output_type": "error",
     "traceback": [
      "KeyError: key :N not found",
      "",
      "Stacktrace:",
      " [1] getindex(h::Dict{Any, Any}, key::Symbol)",
      "   @ Base .\\dict.jl:484",
      " [2] top-level scope",
      "   @ .\\In[116]:4"
     ]
    }
   ],
   "source": [
    "# Print the values of the variables\n",
    "println(\"Variable values:\")\n",
    "println(\"P:\")\n",
    "for n in data[:N], i in data[:I], t in data[:T]\n",
    "    println(\"P[$i]: \", JuMP.value.(vars[:P][n, i, t]))\n",
    "end\n",
    "\n",
    "println(\"\\nR_U:\")\n",
    "for i in data[:I], t in data[:T]\n",
    "    println(\"R_U[$i]: \", value(vars[:R_U][i, t]))\n",
    "end\n",
    "\n",
    "println(\"\\nR_D:\")\n",
    "for i in data[:I], t in data[:T]\n",
    "    println(\"R_D[$i]: \", value(vars[:R_D][i, t]))end\n",
    "\n",
    "println(\"\\nL_Shed:\")\n",
    "for j in data[:J], ω in data[:Ω], t in data[:T]\n",
    "    println(\"L_Shed[$j, $ω, $t]: \", value(vars[:L_Shed][j, ω, t]))\n",
    "end\n",
    "\n",
    "println(\"\\nW_spill:\")\n",
    "for q in data[:Q], ω in data[:Ω], t in data[:T]\n",
    "    println(\"W_spill[$q, $ω, $t]: \", value(vars[:W_spill][q, ω, t]))\n",
    "end\n",
    "\n",
    "println(\"\\nW_realized:\")\n",
    "for q in data[:Q], ω in data[:Ω], t in data[:T]\n",
    "    println(\"W_realized[$q, $ω, $t]: \", value(data[:W_realized][q, ω, t]))\n",
    "end\n",
    "\n",
    "println(\"\\nW_s:\")\n",
    "for q in data[:Q], t in data[:T]\n",
    "    println(\"W_s[$q, $t]: \", value(vars[:W_s][q, t]))\n",
    "end\n",
    "\n",
    "println(\"\\nr_U:\")\n",
    "for i in data[:I], ω in data[:Ω], t in data[:T]\n",
    "    println(\"r_U[$i, $ω, $t]: \", value(vars[:r_U][i, ω, t]))\n",
    "end\n",
    "\n",
    "println(\"\\nr_D:\")\n",
    "for i in data[:I], ω in data[:Ω], t in data[:T]\n",
    "    println(\"r_D[$i, $ω, $t]: \", value(vars[:r_D][i, ω, t]))\n",
    "end\n",
    "\n",
    "println(\"\\nLoad\")\n",
    "for j in data[:J]\n",
    "    print(\"L[$j]:\", data[:L][j])\n",
    "end\n",
    "\n",
    "print(\"\\n\\nsum:\", sum(data[:L]))"
   ]
  }
 ],
 "metadata": {
  "kernelspec": {
   "display_name": "Julia 1.9.4",
   "language": "julia",
   "name": "julia-1.9"
  },
  "language_info": {
   "file_extension": ".jl",
   "mimetype": "application/julia",
   "name": "julia",
   "version": "1.9.4"
  }
 },
 "nbformat": 4,
 "nbformat_minor": 5
}
