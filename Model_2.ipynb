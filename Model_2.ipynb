{
 "cells": [
  {
   "cell_type": "markdown",
   "id": "01da2a5f-cd65-4ad7-94b6-d155f46be45f",
   "metadata": {},
   "source": [
    "## Model 2\n"
   ]
  },
  {
   "cell_type": "markdown",
   "id": "4cf767e0-4c37-46d1-81a6-2d034855caa9",
   "metadata": {},
   "source": [
    "Stochastic optimization model used to solve the two-stage problem"
   ]
  },
  {
   "cell_type": "code",
   "execution_count": 4,
   "id": "e79cef7d-eddd-4e9b-a8a4-b98cb7c86f8f",
   "metadata": {},
   "outputs": [],
   "source": [
    "using JuMP,HiGHS,DataFrames\n",
    "using CSV\n",
    "using DataFrames"
   ]
  },
  {
   "cell_type": "code",
   "execution_count": 5,
   "id": "9439b13d-e09c-4c42-94c0-d181f9f888b6",
   "metadata": {
    "scrolled": true
   },
   "outputs": [
    {
     "data": {
      "text/html": [
       "<div><div style = \"float: left;\"><span>2×4 DataFrame</span></div><div style = \"clear: both;\"></div></div><div class = \"data-frame\" style = \"overflow-x: scroll;\"><table class = \"data-frame\" style = \"margin-bottom: 6px;\"><thead><tr class = \"header\"><th class = \"rowNumber\" style = \"font-weight: bold; text-align: right;\">Row</th><th style = \"text-align: left;\">Node</th><th style = \"text-align: left;\">Q</th><th style = \"text-align: left;\">Omega</th><th style = \"text-align: left;\">energy</th></tr><tr class = \"subheader headerLastRow\"><th class = \"rowNumber\" style = \"font-weight: bold; text-align: right;\"></th><th title = \"Int64\" style = \"text-align: left;\">Int64</th><th title = \"Int64\" style = \"text-align: left;\">Int64</th><th title = \"Int64\" style = \"text-align: left;\">Int64</th><th title = \"Int64\" style = \"text-align: left;\">Int64</th></tr></thead><tbody><tr><td class = \"rowNumber\" style = \"font-weight: bold; text-align: right;\">1</td><td style = \"text-align: right;\">1</td><td style = \"text-align: right;\">1</td><td style = \"text-align: right;\">1</td><td style = \"text-align: right;\">50</td></tr><tr><td class = \"rowNumber\" style = \"font-weight: bold; text-align: right;\">2</td><td style = \"text-align: right;\">1</td><td style = \"text-align: right;\">1</td><td style = \"text-align: right;\">2</td><td style = \"text-align: right;\">10</td></tr></tbody></table></div>"
      ],
      "text/latex": [
       "\\begin{tabular}{r|cccc}\n",
       "\t& Node & Q & Omega & energy\\\\\n",
       "\t\\hline\n",
       "\t& Int64 & Int64 & Int64 & Int64\\\\\n",
       "\t\\hline\n",
       "\t1 & 1 & 1 & 1 & 50 \\\\\n",
       "\t2 & 1 & 1 & 2 & 10 \\\\\n",
       "\\end{tabular}\n"
      ],
      "text/plain": [
       "\u001b[1m2×4 DataFrame\u001b[0m\n",
       "\u001b[1m Row \u001b[0m│\u001b[1m Node  \u001b[0m\u001b[1m Q     \u001b[0m\u001b[1m Omega \u001b[0m\u001b[1m energy \u001b[0m\n",
       "     │\u001b[90m Int64 \u001b[0m\u001b[90m Int64 \u001b[0m\u001b[90m Int64 \u001b[0m\u001b[90m Int64  \u001b[0m\n",
       "─────┼─────────────────────────────\n",
       "   1 │     1      1      1      50\n",
       "   2 │     1      1      2      10"
      ]
     },
     "metadata": {},
     "output_type": "display_data"
    }
   ],
   "source": [
    "# Import data about buses\n",
    "df_buses = CSV.read(\"data/24_buses.csv\", DataFrame,types=Dict(\"I\" => String, \"C_cur\" => String, \"Lambda\" => String))\n",
    "#Import demand data\n",
    "df_demands = CSV.read(\"data/demand.csv\", DataFrame)\n",
    "# Import the rest of the data\n",
    "df_other = CSV.read(\"data/other_data.csv\", DataFrame)\n",
    "# Import the realized wind energy\n",
    "df_realizedEnergy = CSV.read(\"data/realizedEnergy.csv\", DataFrame)"
   ]
  },
  {
   "cell_type": "code",
   "execution_count": 6,
   "id": "e85e35f5-c275-4092-b07f-4133e537902f",
   "metadata": {},
   "outputs": [
    {
     "data": {
      "text/plain": [
       "string_to_array"
      ]
     },
     "metadata": {},
     "output_type": "display_data"
    }
   ],
   "source": [
    "\"\"\"\n",
    "Transforms indices into range for lists of objects (such as generation units)\n",
    "\n",
    "Input of 0 or empty cells is translated to no objects (i.e. empty array)\n",
    "\"\"\"\n",
    "function string_to_range(s)\n",
    "    # Check if s is missing or a string that represents an empty cell\n",
    "    if s == \"missing\" || s == \"0\"\n",
    "        return Int[]  # Return an empty array of Int type\n",
    "    else\n",
    "        str = string(s)  # Convert to string if not already\n",
    "        nums = split(str, \";\")  # Split the string by comma\n",
    "        nums = parse.(Int, nums)  # Parse each part to an integer\n",
    "        return minimum(nums):maximum(nums)  # Return the range\n",
    "    end\n",
    "end\n",
    "\n",
    "\"\"\"\n",
    "Transforms indices into array of values (such as generation costs per unit for each generation unit)\n",
    "\n",
    "Input of missing cells is translated to no values (i.e. empty array)\n",
    "\n",
    "Input of 0 is translated to 0 since it can be a coefficient\n",
    "\"\"\"\n",
    "function string_to_array(s)\n",
    "    # Check if s is missing or a string that represents an empty cell\n",
    "    #if s == \"0\"\n",
    "    #    return 0  # Return an empty array of Float64 type\n",
    "\n",
    "    if s == \"missing\"\n",
    "        return Float64[]\n",
    "\n",
    "    else\n",
    "        str = string(s)  # Convert to string if not already\n",
    "        nums = split(str, \";\")  # Split the string by semicolon\n",
    "        nums = parse.(Float64, nums)  # Parse each part to a float\n",
    "        return nums  # Return the array of floats\n",
    "    end\n",
    "end\n"
   ]
  },
  {
   "cell_type": "code",
   "execution_count": 7,
   "id": "f34a1b1d-bc64-4623-a5b8-ca90385aaa41",
   "metadata": {},
   "outputs": [],
   "source": [
    "# Transform columns with objects\n",
    "columns_to_range = [:I, :J, :Q]\n",
    "\n",
    "for col in columns_to_range\n",
    "    # Convert the column to String if it's not already\n",
    "    df_buses[!, col] = string.(df_buses[!, col])\n",
    "    # Apply the function to the column\n",
    "    df_buses[!, col] = [string_to_range(value) for value in df_buses[!, col]]\n",
    "end\n",
    "\n",
    "# Transform columns with values\n",
    "columns_to_array = [:C, :P_max, :C_RU, :C_RD, :C_U,\t:C_D, :V_LOL, :C_cur, :b, :LC_Max, :Lambda]\n",
    "for col in columns_to_array\n",
    "    # Convert the column to String if it's not already\n",
    "    df_buses[!, col] = string.(df_buses[!, col])\n",
    "    # Apply the function to the column\n",
    "    df_buses[!, col] = [string_to_array(value) for value in df_buses[!, col]]\n",
    "end\n"
   ]
  },
  {
   "cell_type": "code",
   "execution_count": 8,
   "id": "f98d085a-e5bf-4f97-a336-d6cb5f0a993e",
   "metadata": {
    "scrolled": true
   },
   "outputs": [
    {
     "data": {
      "text/html": [
       "<div><div style = \"float: left;\"><span>2×4 DataFrame</span></div><div style = \"clear: both;\"></div></div><div class = \"data-frame\" style = \"overflow-x: scroll;\"><table class = \"data-frame\" style = \"margin-bottom: 6px;\"><thead><tr class = \"header\"><th class = \"rowNumber\" style = \"font-weight: bold; text-align: right;\">Row</th><th style = \"text-align: left;\">Node</th><th style = \"text-align: left;\">Loads</th><th style = \"text-align: left;\">Demands</th><th style = \"text-align: left;\">Periods</th></tr><tr class = \"subheader headerLastRow\"><th class = \"rowNumber\" style = \"font-weight: bold; text-align: right;\"></th><th title = \"Int64\" style = \"text-align: left;\">Int64</th><th title = \"Int64\" style = \"text-align: left;\">Int64</th><th title = \"Int64\" style = \"text-align: left;\">Int64</th><th title = \"Int64\" style = \"text-align: left;\">Int64</th></tr></thead><tbody><tr><td class = \"rowNumber\" style = \"font-weight: bold; text-align: right;\">1</td><td style = \"text-align: right;\">1</td><td style = \"text-align: right;\">1</td><td style = \"text-align: right;\">40</td><td style = \"text-align: right;\">1</td></tr><tr><td class = \"rowNumber\" style = \"font-weight: bold; text-align: right;\">2</td><td style = \"text-align: right;\">2</td><td style = \"text-align: right;\">1</td><td style = \"text-align: right;\">100</td><td style = \"text-align: right;\">1</td></tr></tbody></table></div>"
      ],
      "text/latex": [
       "\\begin{tabular}{r|cccc}\n",
       "\t& Node & Loads & Demands & Periods\\\\\n",
       "\t\\hline\n",
       "\t& Int64 & Int64 & Int64 & Int64\\\\\n",
       "\t\\hline\n",
       "\t1 & 1 & 1 & 40 & 1 \\\\\n",
       "\t2 & 2 & 1 & 100 & 1 \\\\\n",
       "\\end{tabular}\n"
      ],
      "text/plain": [
       "\u001b[1m2×4 DataFrame\u001b[0m\n",
       "\u001b[1m Row \u001b[0m│\u001b[1m Node  \u001b[0m\u001b[1m Loads \u001b[0m\u001b[1m Demands \u001b[0m\u001b[1m Periods \u001b[0m\n",
       "     │\u001b[90m Int64 \u001b[0m\u001b[90m Int64 \u001b[0m\u001b[90m Int64   \u001b[0m\u001b[90m Int64   \u001b[0m\n",
       "─────┼────────────────────────────────\n",
       "   1 │     1      1       40        1\n",
       "   2 │     2      1      100        1"
      ]
     },
     "metadata": {},
     "output_type": "display_data"
    }
   ],
   "source": [
    "df_demands"
   ]
  },
  {
   "cell_type": "code",
   "execution_count": 9,
   "id": "84d21c3e-06c2-450c-aaeb-3b13687995cc",
   "metadata": {},
   "outputs": [],
   "source": []
  },
  {
   "cell_type": "code",
   "execution_count": 10,
   "id": "6a35daea-1f17-4f6c-b9ca-6a0b84797b26",
   "metadata": {},
   "outputs": [
    {
     "ename": "ArgumentError",
     "evalue": "ArgumentError: column name \"T\" not found in the data frame; existing most similar names are: \"Pi\"",
     "output_type": "error",
     "traceback": [
      "ArgumentError: column name \"T\" not found in the data frame; existing most similar names are: \"Pi\"\n",
      "\n",
      "Stacktrace:\n",
      " [1] lookupname\n",
      "   @ C:\\Users\\Leonie Hergeth\\.julia\\packages\\DataFrames\\58MUJ\\src\\other\\index.jl:416 [inlined]\n",
      " [2] getindex\n",
      "   @ C:\\Users\\Leonie Hergeth\\.julia\\packages\\DataFrames\\58MUJ\\src\\other\\index.jl:422 [inlined]\n",
      " [3] getindex(df::DataFrame, #unused#::typeof(!), col_ind::Symbol)\n",
      "   @ DataFrames C:\\Users\\Leonie Hergeth\\.julia\\packages\\DataFrames\\58MUJ\\src\\dataframe\\dataframe.jl:557\n",
      " [4] top-level scope\n",
      "   @ a:\\07Dissertation\\01 Seminare\\AMO\\Abgabe\\Team_assignment_AMO\\Model_2.ipynb:6"
     ]
    }
   ],
   "source": [
    "# Transform columns with objects\n",
    "columns_to_range = [:T, :Omega]\n",
    "\n",
    "for col in columns_to_range\n",
    "    # Convert the column to String if it's not already\n",
    "    df_other[!, col] = string.(df_other[!, col])\n",
    "    # Apply the function to the column\n",
    "    df_other[!, col] = [string_to_range(value) for value in df_other[!, col]]\n",
    "end\n",
    "\n",
    "# Transform columns with values\n",
    "columns_to_array = [:Pi]\n",
    "for col in columns_to_array\n",
    "    # Convert the column to String if it's not already\n",
    "    df_other[!, col] = string.(df_other[!, col])\n",
    "    # Apply the function to the column\n",
    "    df_other[!, col] = [string_to_array(value) for value in df_other[!, col]]\n",
    "end"
   ]
  },
  {
   "cell_type": "code",
   "execution_count": 11,
   "id": "d3d5a73a-6017-46a2-be0a-d9358efca745",
   "metadata": {},
   "outputs": [],
   "source": [
    "# Create an empty dictionary to hold all nodes\n",
    "data = Dict()\n",
    "\n",
    "# Iterate over the range of nodes\n",
    "for singleNode in eachrow(df_buses)\n",
    "    # Create a dictionary for the current node with all other variables\n",
    "    data_node = Dict(\n",
    "        :I => singleNode.I,\n",
    "        :Q => singleNode.Q,\n",
    "        :J => singleNode.J,\n",
    "        :Λ => singleNode.Lambda,\n",
    "        :C => singleNode.C,\n",
    "        :C_RU => singleNode.C_RU,\n",
    "        :C_RD => singleNode.C_RD,\n",
    "        :C_U => singleNode.C_U,\n",
    "        :C_D => singleNode.C_D,\n",
    "        :V_LOL => singleNode.V_LOL,\n",
    "        :C_cur => singleNode.C_cur,\n",
    "        :P_max => singleNode.P_max,\n",
    "        :b => singleNode.b,\n",
    "        :LC_Max => singleNode.LC_Max,\n",
    "        :L => Dict(),\n",
    "        :Ω => 0,\n",
    "    )    \n",
    "    # Assign the dictionary to the current node key\n",
    "    data[singleNode.Node] = data_node\n",
    "end\n",
    "\n",
    "#Create dictionary for alle demands dependent on node and load -> array with different times\n",
    "knownLoads = []\n",
    "demands = Dict()\n",
    "for singleNode in eachrow(df_demands)\n",
    "    data_node = Dict(\n",
    "        :L => singleNode.Demands,\n",
    "    )    \n",
    "    if  singleNode.Node ∉ knownLoads\n",
    "        demands = Dict()\n",
    "    end\n",
    "    push!(knownLoads, singleNode.Node)\n",
    "\n",
    "    demands[singleNode.Loads] = data_node\n",
    "    data[singleNode.Node][:L] = demands\n",
    "    \n",
    "    data[singleNode.Node][:T] = Int(singleNode.Periods)\n",
    "end\n",
    "\n",
    "#create dictionary with all scenarios\n",
    "scenarios = Dict()\n",
    "for singleNode in eachrow(df_other)\n",
    "    data_node = Dict(\n",
    "        :π => singleNode.Pi,\n",
    "    )\n",
    "    scenarios[singleNode.Omega] = data_node\n",
    "end\n",
    "\n",
    "#create dictionary with all realized Energy from wind turbine dependent on node, wind turbine, scenario -> array with different times\n",
    "windenergy = Dict()\n",
    "data_Omega = Dict()\n",
    "for singleNode in eachrow(df_realizedEnergy)\n",
    "    data_node = Dict(\n",
    "        :W_realized => singleNode.energy,\n",
    "    )\n",
    "    if ! haskey(windenergy, singleNode.Q)\n",
    "        data_Omega = Dict()\n",
    "    end\n",
    "    data_Omega[singleNode.Omega] = data_node\n",
    "    windenergy[singleNode.Q] = data_Omega\n",
    "    data[singleNode.Node][:Windenergy] = windenergy\n",
    "end\n",
    "\n",
    "#Float muss in Integer umgewandelt werden\n",
    "for value in keys(data)\n",
    "    data[value][:Λ]  = round.(Int, data[value][:Λ])\n",
    "end"
   ]
  },
  {
   "cell_type": "code",
   "execution_count": 12,
   "id": "8d39fce8",
   "metadata": {},
   "outputs": [
    {
     "name": "stdout",
     "output_type": "stream",
     "text": [
      "100"
     ]
    }
   ],
   "source": [
    "print(data[2][:L][1][:L])"
   ]
  },
  {
   "cell_type": "code",
   "execution_count": 13,
   "id": "1b7feac8-b794-477f-a1af-006dfeb529e6",
   "metadata": {},
   "outputs": [],
   "source": [
    "function init_variables(model::JuMP.Model)\n",
    "    P=@variable(model, P[n in keys(data), i in data[n][:I], t in data[n][:T]] >=0) #energy generated\n",
    "    R_U=@variable(model, R_U[n in keys(data), i in data[n][:I], t in data[n][:T]] >=0) #committed upward reserve capacity of generator i\n",
    "    R_D=@variable(model, R_D[n in keys(data), i in data[n][:I], t in data[n][:T]] >=0) #committed downward reserve capacity of generator i\n",
    "    r_U=@variable(model, r_U[n in keys(data), i in data[n][:I], ω in keys(scenarios), t in data[n][:T]] >=0) #up regulation of generator i in case 𝜔\n",
    "    r_D=@variable(model, r_D[n in keys(data), i in data[n][:I], ω in keys(scenarios), t in data[n][:T]] >=0) #down regulation of generator i in case 𝜔\n",
    "    L_Shed=@variable(model, L_Shed[n in keys(data), j in data[n][:J], ω in keys(scenarios), t in data[n][:T]] >=0) #loss of load at load demand j in case 𝜔\n",
    "    W_spill=@variable(model, W_spill[n in keys(data), q in data[n][:Q], ω in keys(scenarios), t in data[n][:T]] >=0) #curtailment of turbine q in case 𝜔\n",
    "    W_s=@variable(model, W_s[n in keys(data), q in data[n][:Q], t in data[n][:T]] >=0) #scheduled wind power generation at turbine q\n",
    "    𝛿=@variable(model, 𝛿[n in keys(data), ℓ in data[n][:Λ], t in data[n][:T]] >= 0) #voltage angle\n",
    "    PF=@variable(model, PF[n in keys(data), ℓ in data[n][:Λ], t in data[n][:T]] >= 0) #power flow          # added >= 0 \n",
    "    PF_scenario=@variable(model, PF_scenario[ω in keys(scenarios), n in keys(data), ℓ in data[n][:Λ], t in data[n][:T]] >= 0) #power flow scenario\n",
    "    \n",
    "    \n",
    "    vars= Dict(\n",
    "        :P => P,\n",
    "        :R_U => R_U,\n",
    "        :R_D => R_D,\n",
    "        :r_U => r_U,\n",
    "        :r_D => r_D,\n",
    "        :L_Shed => L_Shed,\n",
    "        :W_spill => W_spill,\n",
    "        :W_s => W_s,\n",
    "        :𝛿 => 𝛿,\n",
    "        :PF => PF,\n",
    "        :PF_scenario => PF_scenario\n",
    "    )    \n",
    "    return vars\n",
    "end;\n"
   ]
  },
  {
   "cell_type": "code",
   "execution_count": 14,
   "id": "96a2e122",
   "metadata": {},
   "outputs": [
    {
     "name": "stdout",
     "output_type": "stream",
     "text": [
      "Dict{Any, Any}(1"
     ]
    },
    {
     "name": "stdout",
     "output_type": "stream",
     "text": [
      " => Dict(:L => 40))"
     ]
    }
   ],
   "source": [
    "print(data[1][:L])"
   ]
  },
  {
   "cell_type": "code",
   "execution_count": 20,
   "id": "789406ff-632f-40b0-a4b1-9656e6327b06",
   "metadata": {},
   "outputs": [],
   "source": [
    "function init_constraints(model::JuMP.Model, data::Dict, vars::Dict)\n",
    "    @constraints(model, begin \n",
    "    c1[n in keys(data),i in data[n][:I], t in data[n][:T]], vars[:P][n, i, t]+ vars[:R_U][n, i, t]<= data[n][:P_max][i]\n",
    "    c2[n in keys(data),i in data[n][:I] ,t in data[n][:T]], vars[:P][n, i, t]- vars[:R_D][n, i, t]>= 0\n",
    "    c3[n in keys(data),i in data[n][:I], t in data[n][:T], ω in keys(scenarios)], vars[:r_U][n, i, ω, t] <= vars[:R_U][n,i,t]\n",
    "    c4[n in keys(data),i in data[n][:I], t in data[n][:T], ω in keys(scenarios)], vars[:r_D][n, i, ω, t] <= vars[:R_D][n,i,t]\n",
    "    \n",
    "    c5[ω in keys(scenarios), n in keys(data), ℓ in data[n][:Λ], t in data[n][:T]], vars[:PF_scenario][ω, n, ℓ, t] <= data[n][:LC_Max][ℓ]\n",
    "    \n",
    "    c6[n in keys(data), ℓ in data[n][:Λ], t in data[n][:T]], vars[:PF][n, ℓ, t] <= data[n][:LC_Max][ℓ]\n",
    "    c7[ω in keys(scenarios), n in keys(data), ℓ in data[n][:Λ], t in data[n][:T]], (vars[:𝛿][n, ℓ, t] - vars[:𝛿][ℓ, n, t]) * data[n][:b][ℓ] == vars[:PF][n, ℓ, t]\n",
    "\n",
    "    ## HIER MUSS NOCH DER DEMAND ÜBER T LAUFEN\n",
    "    Power_balance_day_ahead[n in keys(data), t in data[n][:T]], \n",
    "    sum(vars[:P][n,i,t] for i in data[n][:I]) + sum(vars[:W_s][n,q,t] for q in data[n][:Q]) - sum(data[n][:L][j][:L] for j in data[n][:J]) - sum(vars[:PF][n, ℓ, t] for ℓ in data[n][:Λ]) == 0\n",
    "\n",
    "    Power_balance_at_stage[ω in keys(scenarios), n in keys(data), t in data[n][:T]], \n",
    "    sum(vars[:r_U][n,i, ω, t] for i in data[n][:I]) -\n",
    "    sum(vars[:r_D][n,i, ω, t] for i in data[n][:I]) +\n",
    "    sum(vars[:L_Shed][n,j, ω, t] for j in data[n][:J]) +\n",
    "    # n ! and W_realized and Q changed\n",
    "    sum(data[n][:Windenergy][q][ω][:W_realized] -vars[:W_s][n,q,t] - vars[:W_spill][n,q,ω,t] for q in data[n][:Q]) -\n",
    "    sum(vars[:PF_scenario][ω, n, ℓ, t] for ℓ in data[n][:Λ]) +\n",
    "    sum(vars[:PF][n, ℓ, t] for ℓ in data[n][:Λ]) == 0\n",
    "    end)\n",
    "end;"
   ]
  },
  {
   "cell_type": "code",
   "execution_count": 16,
   "id": "31fc2906-6380-4459-b1bd-5f4fdf189f88",
   "metadata": {},
   "outputs": [],
   "source": [
    "function init_obj_function(model, data, vars)\n",
    "    @objective(model, Min, sum(vars[:P][n,i,t]* data[n][:C][i] + vars[:R_U][n,i,t] * data[n][:C_RU][i] + vars[:R_D][n,i,t] * data[n][:C_RD][i] for n in keys(data), i in data[n][:I], t in data[n][:T]) +\n",
    "    sum(scenarios[ω][:π] * (sum(data[n][:C_U][i] * vars[:r_U][n,i, ω ,t] + data[n][:C_D][i] * vars[:r_D][n,i, ω, t] for i in data[n][:I]) +\n",
    "                sum(data[n][:C_cur][q] * vars[:W_spill][n,q, ω, t] for q in data[n][:Q]) +\n",
    "                sum(data[n][:V_LOL][j] * vars[:L_Shed][n, j, ω, t] for j in data[n][:J])) for n in keys(data), ω in keys(scenarios), t in data[n][:T])\n",
    "    )\n",
    "end;"
   ]
  },
  {
   "cell_type": "code",
   "execution_count": 21,
   "id": "36cf5fd5-4e3c-4a6e-a2f5-f85068a034da",
   "metadata": {
    "scrolled": true
   },
   "outputs": [
    {
     "name": "stdout",
     "output_type": "stream",
     "text": [
      "Min 35 P[2,1,1] + 10 R_U[2,1,1] + 9 R_D[2,1,1] + 10 P[1,1,1] + 16 R_U[1,1,1] + 15 R_D[1,1,1] + 30 P[1,2,1] + 13 R_U[1,2,1] + 12 R_D[1,2,1] + 14 r_U[2,1,2,1] + 14 r_D[2,1,2,1] + 80 L_Shed[2,1,2,1] + 21 r_U[2,1,1,1] + 21 r_D[2,1,1,1] + 120 L_Shed[2,1,1,1] + 4 r_U[1,1,2,1] + 4 r_D[1,1,2,1] + 12 r_U[1,2,2,1] + 12 r_D[1,2,2,1] + 80 L_Shed[1,1,2,1] + 6 r_U[1,1,1,1] + 6 r_D[1,1,1,1] + 18 r_U[1,2,1,1] + 18 r_D[1,2,1,1] + 120 L_Shed[1,1,1,1]\n",
      "Subject to\n",
      " c7[2,2,1,1] : 7.69230769231 𝛿[2,1,1] - 7.69230769231 𝛿[1,2,1] - PF[2,1,1] == 0\n",
      " c7[2,1,2,1] : -7.69230769231 𝛿[2,1,1] + 7.69230769231 𝛿[1,2,1] - PF[1,2,1] == 0\n",
      " c7[1,2,1,1] : 7.69230769231 𝛿[2,1,1] - 7.69230769231 𝛿[1,2,1] - PF[2,1,1] == 0\n",
      " c7[1,1,2,1] : -7.69230769231 𝛿[2,1,1] + 7.69230769231 𝛿[1,2,1] - PF[1,2,1] == 0\n",
      " Power_balance_day_ahead[2,1] : P[2,1,1] - PF[2,1,1] == 100\n",
      " Power_balance_day_ahead[1,1] : P[1,1,1] + P[1,2,1] + W_s[1,1,1] - PF[1,2,1] == 40\n",
      " Power_balance_at_stage[2,2,1] : r_U[2,1,2,1] - r_D[2,1,2,1] + L_Shed[2,1,2,1] + PF[2,1,1] - PF_scenario[2,2,1,1] == 0\n",
      " Power_balance_at_stage[2,1,1] : r_U[1,1,2,1] + r_U[1,2,2,1] - r_D[1,1,2,1] - r_D[1,2,2,1] + L_Shed[1,1,2,1] - W_spill[1,1,2,1] - W_s[1,1,1] + PF[1,2,1] - PF_scenario[2,1,2,1] == -10\n",
      " Power_balance_at_stage[1,2,1] : r_U[2,1,1,1] - r_D[2,1,1,1] + L_Shed[2,1,1,1] + PF[2,1,1] - PF_scenario[1,2,1,1] == 0\n",
      " Power_balance_at_stage[1,1,1] : r_U[1,1,1,1] + r_U[1,2,1,1] - r_D[1,1,1,1] - r_D[1,2,1,1] + L_Shed[1,1,1,1] - W_spill[1,1,1,1] - W_s[1,1,1] + PF[1,2,1] - PF_scenario[1,1,2,1] == -50\n",
      " c2[2,1,1] : P[2,1,1] - R_D[2,1,1] >= 0\n",
      " c2[1,1,1] : P[1,1,1] - R_D[1,1,1] >= 0\n",
      " c2[1,2,1] : P[1,2,1] - R_D[1,2,1] >= 0\n",
      " c1[2,1,1] : P[2,1,1] + R_U[2,1,1] <= 100\n",
      " c1[1,1,1] : P[1,1,1] + R_U[1,1,1] <= 50\n",
      " c1[1,2,1] : P[1,2,1] + R_U[1,2,1] <= 110\n",
      " c3[2,1,1,2] : -R_U[2,1,1] + r_U[2,1,2,1] <= 0\n",
      " c3[2,1,1,1] : -R_U[2,1,1] + r_U[2,1,1,1] <= 0\n",
      " c3[1,1,1,2] : -R_U[1,1,1] + r_U[1,1,2,1] <= 0\n",
      " c3[1,1,1,1] : -R_U[1,1,1] + r_U[1,1,1,1] <= 0\n",
      " c3[1,2,1,2] : -R_U[1,2,1] + r_U[1,2,2,1] <= 0\n",
      " c3[1,2,1,1] : -R_U[1,2,1] + r_U[1,2,1,1] <= 0\n",
      " c4[2,1,1,2] : -R_D[2,1,1] + r_D[2,1,2,1] <= 0\n",
      " c4[2,1,1,1] : -R_D[2,1,1] + r_D[2,1,1,1] <= 0\n",
      " c4[1,1,1,2] : -R_D[1,1,1] + r_D[1,1,2,1] <= 0\n",
      " c4[1,1,1,1] : -R_D[1,1,1] + r_D[1,1,1,1] <= 0\n",
      " c4[1,2,1,2] : -R_D[1,2,1] + r_D[1,2,2,1] <= 0\n",
      " c4[1,2,1,1] : -R_D[1,2,1] + r_D[1,2,1,1] <= 0\n",
      " c5[2,2,1,1] : PF_scenario[2,2,1,1] <= 100\n",
      " c5[2,1,2,1] : PF_scenario[2,1,2,1] <= 100\n",
      " c5[1,2,1,1] : PF_scenario[1,2,1,1] <= 100\n",
      " c5[1,1,2,1] : PF_scenario[1,1,2,1] <= 100\n",
      " c6[2,1,1] : PF[2,1,1] <= 100\n",
      " c6[1,2,1] : PF[1,2,1] <= 100\n",
      " P[2,1,1] >= 0\n",
      " P[1,1,1] >= 0\n",
      " P[1,2,1] >= 0\n",
      " R_U[2,1,1] >= 0\n",
      " R_U[1,1,1] >= 0\n",
      " R_U[1,2,1] >= 0\n",
      " R_D[2,1,1] >= 0\n",
      " R_D[1,1,1] >= 0\n",
      " R_D[1,2,1] >= 0\n",
      " r_U[2,1,2,1] >= 0\n",
      " r_U[2,1,1,1] >= 0\n",
      " r_U[1,1,2,1] >= 0\n",
      " r_U[1,1,1,1] >= 0\n",
      " r_U[1,2,2,1] >= 0\n",
      " r_U[1,2,1,1] >= 0\n",
      " r_D[2,1,2,1] >= 0\n",
      " r_D[2,1,1,1] >= 0\n",
      " r_D[1,1,2,1] >= 0\n",
      " r_D[1,1,1,1] >= 0\n",
      " r_D[1,2,2,1] >= 0\n",
      " r_D[1,2,1,1] >= 0\n",
      " L_Shed[2,1,2,1] >= 0\n",
      " L_Shed[2,1,1,1] >= 0\n",
      " L_Shed[1,1,2,1] >= 0\n",
      " L_Shed[1,1,1,1] >= 0\n",
      " W_spill[1,1,2,1] >= 0\n",
      " W_spill[1,1,1,1] >= 0\n",
      " W_s[1,1,1] >= 0\n",
      " 𝛿[2,1,1] >= 0\n",
      " 𝛿[1,2,1] >= 0\n",
      " PF[2,1,1] >= 0\n",
      " PF[1,2,1] >= 0\n",
      " PF_scenario[2,2,1,1] >= 0\n",
      " PF_scenario[2,1,2,1] >= 0\n",
      " PF_scenario[1,2,1,1] >= 0\n",
      " PF_scenario[1,1,2,1] >= 0\n"
     ]
    }
   ],
   "source": [
    "model=Model(HiGHS.Optimizer)\n",
    "vars=init_variables(model)\n",
    "init_constraints(model, data, vars)\n",
    "init_obj_function(model, data, vars)\n",
    "print(model)"
   ]
  },
  {
   "cell_type": "code",
   "execution_count": 22,
   "id": "41b49558-859d-4748-880e-29c07390fabd",
   "metadata": {
    "scrolled": true
   },
   "outputs": [
    {
     "name": "stdout",
     "output_type": "stream",
     "text": [
      "Running HiGHS 1.6.0: Copyright (c) 2023 HiGHS under MIT licence terms\n",
      "Presolving model\n",
      "21 rows, 25 cols, 58 nonzeros\n",
      "9 rows, 13 cols, 25 nonzeros\n",
      "Presolve : Reductions: rows 9(-25); columns 13(-23); elements 25(-63)\n",
      "Solving the presolved LP\n",
      "Using EKK dual simplex solver - serial\n",
      "  Iteration        Objective     Infeasibilities num(sum)\n",
      "          0     3.5000000000e+03 Pr: 3(100) 0s\n",
      "          4     3.8000000000e+03 Pr: 0(0) 0s\n",
      "Solving the original LP from the solution after postsolve\n",
      "Model   status      : Optimal\n",
      "Simplex   iterations: 4\n",
      "Objective value     :  3.8000000000e+03\n",
      "HiGHS run time      :          0.01\n"
     ]
    }
   ],
   "source": [
    "optimize!(model)"
   ]
  },
  {
   "cell_type": "code",
   "execution_count": 19,
   "id": "328c9241-12d4-4fa0-97e7-5e8759d43d2e",
   "metadata": {},
   "outputs": [
    {
     "name": "stdout",
     "output_type": "stream",
     "text": [
      "Variable values:\n",
      "P:\n"
     ]
    },
    {
     "ename": "KeyError",
     "evalue": "KeyError: key :N not found",
     "output_type": "error",
     "traceback": [
      "KeyError: key :N not found\n",
      "\n",
      "Stacktrace:\n",
      " [1] getindex(h::Dict{Any, Any}, key::Symbol)\n",
      "   @ Base .\\dict.jl:484\n",
      " [2] top-level scope\n",
      "   @ a:\\07Dissertation\\01 Seminare\\AMO\\Abgabe\\Team_assignment_AMO\\Model_2.ipynb:4"
     ]
    }
   ],
   "source": [
    "# Print the values of the variables\n",
    "println(\"Variable values:\")\n",
    "println(\"P:\")\n",
    "for n in data[:N], i in data[:I], t in data[:T]\n",
    "    println(\"P[$i]: \", JuMP.value.(vars[:P][n, i, t]))\n",
    "end\n",
    "\n",
    "println(\"\\nR_U:\")\n",
    "for i in data[:I], t in data[:T]\n",
    "    println(\"R_U[$i]: \", value(vars[:R_U][i, t]))\n",
    "end\n",
    "\n",
    "println(\"\\nR_D:\")\n",
    "for i in data[:I], t in data[:T]\n",
    "    println(\"R_D[$i]: \", value(vars[:R_D][i, t]))end\n",
    "\n",
    "println(\"\\nL_Shed:\")\n",
    "for j in data[:J], ω in data[:Ω], t in data[:T]\n",
    "    println(\"L_Shed[$j, $ω, $t]: \", value(vars[:L_Shed][j, ω, t]))\n",
    "end\n",
    "\n",
    "println(\"\\nW_spill:\")\n",
    "for q in data[:Q], ω in data[:Ω], t in data[:T]\n",
    "    println(\"W_spill[$q, $ω, $t]: \", value(vars[:W_spill][q, ω, t]))\n",
    "end\n",
    "\n",
    "println(\"\\nW_realized:\")\n",
    "for q in data[:Q], ω in data[:Ω], t in data[:T]\n",
    "    println(\"W_realized[$q, $ω, $t]: \", value(data[:W_realized][q, ω, t]))\n",
    "end\n",
    "\n",
    "println(\"\\nW_s:\")\n",
    "for q in data[:Q], t in data[:T]\n",
    "    println(\"W_s[$q, $t]: \", value(vars[:W_s][q, t]))\n",
    "end\n",
    "\n",
    "println(\"\\nr_U:\")\n",
    "for i in data[:I], ω in data[:Ω], t in data[:T]\n",
    "    println(\"r_U[$i, $ω, $t]: \", value(vars[:r_U][i, ω, t]))\n",
    "end\n",
    "\n",
    "println(\"\\nr_D:\")\n",
    "for i in data[:I], ω in data[:Ω], t in data[:T]\n",
    "    println(\"r_D[$i, $ω, $t]: \", value(vars[:r_D][i, ω, t]))\n",
    "end\n",
    "\n",
    "println(\"\\nLoad\")\n",
    "for j in data[:J]\n",
    "    print(\"L[$j]:\", data[:L][j])\n",
    "end\n",
    "\n",
    "print(\"\\n\\nsum:\", sum(data[:L]))"
   ]
  }
 ],
 "metadata": {
  "kernelspec": {
   "display_name": "Julia 1.9.4",
   "language": "julia",
   "name": "julia-1.9"
  },
  "language_info": {
   "file_extension": ".jl",
   "mimetype": "application/julia",
   "name": "julia",
   "version": "1.9.4"
  }
 },
 "nbformat": 4,
 "nbformat_minor": 5
}
