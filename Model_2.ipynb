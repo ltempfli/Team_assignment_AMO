{
 "cells": [
  {
   "cell_type": "markdown",
   "id": "01da2a5f-cd65-4ad7-94b6-d155f46be45f",
   "metadata": {},
   "source": [
    "## Model 2\n"
   ]
  },
  {
   "cell_type": "markdown",
   "id": "4cf767e0-4c37-46d1-81a6-2d034855caa9",
   "metadata": {},
   "source": [
    "Newest version (6.2.24)"
   ]
  },
  {
   "cell_type": "code",
   "execution_count": 29,
   "id": "e79cef7d-eddd-4e9b-a8a4-b98cb7c86f8f",
   "metadata": {},
   "outputs": [],
   "source": [
    "using JuMP,HiGHS,DataFrames\n",
    "using CSV\n",
    "using DataFrames"
   ]
  },
  {
   "cell_type": "code",
   "execution_count": 114,
   "id": "9439b13d-e09c-4c42-94c0-d181f9f888b6",
   "metadata": {
    "scrolled": true
   },
   "outputs": [
    {
     "data": {
      "text/html": [
       "<div><div style = \"float: left;\"><span>2×3 DataFrame</span></div><div style = \"clear: both;\"></div></div><div class = \"data-frame\" style = \"overflow-x: scroll;\"><table class = \"data-frame\" style = \"margin-bottom: 6px;\"><thead><tr class = \"header\"><th class = \"rowNumber\" style = \"font-weight: bold; text-align: right;\">Row</th><th style = \"text-align: left;\">Node</th><th style = \"text-align: left;\">I</th><th style = \"text-align: left;\">Q</th></tr><tr class = \"subheader headerLastRow\"><th class = \"rowNumber\" style = \"font-weight: bold; text-align: right;\"></th><th title = \"Int64\" style = \"text-align: left;\">Int64</th><th title = \"String7\" style = \"text-align: left;\">String7</th><th title = \"Int64\" style = \"text-align: left;\">Int64</th></tr></thead><tbody><tr><td class = \"rowNumber\" style = \"font-weight: bold; text-align: right;\">1</td><td style = \"text-align: right;\">1</td><td style = \"text-align: left;\"> 1,2,3 </td><td style = \"text-align: right;\">1</td></tr><tr><td class = \"rowNumber\" style = \"font-weight: bold; text-align: right;\">2</td><td style = \"text-align: right;\">2</td><td style = \"text-align: left;\">0</td><td style = \"text-align: right;\">2</td></tr></tbody></table></div>"
      ],
      "text/latex": [
       "\\begin{tabular}{r|ccc}\n",
       "\t& Node & I & Q\\\\\n",
       "\t\\hline\n",
       "\t& Int64 & String7 & Int64\\\\\n",
       "\t\\hline\n",
       "\t1 & 1 &  1,2,3  & 1 \\\\\n",
       "\t2 & 2 & 0 & 2 \\\\\n",
       "\\end{tabular}\n"
      ],
      "text/plain": [
       "\u001b[1m2×3 DataFrame\u001b[0m\n",
       "\u001b[1m Row \u001b[0m│\u001b[1m Node  \u001b[0m\u001b[1m I       \u001b[0m\u001b[1m Q     \u001b[0m\n",
       "     │\u001b[90m Int64 \u001b[0m\u001b[90m String7 \u001b[0m\u001b[90m Int64 \u001b[0m\n",
       "─────┼───────────────────────\n",
       "   1 │     1   1,2,3       1\n",
       "   2 │     2  0            2"
      ]
     },
     "execution_count": 114,
     "metadata": {},
     "output_type": "execute_result"
    }
   ],
   "source": [
    "csv_file_path = \"data/24_buses.csv\"\n",
    "df_buses = CSV.read(csv_file_path, DataFrame)"
   ]
  },
  {
   "cell_type": "code",
   "execution_count": 115,
   "id": "e85e35f5-c275-4092-b07f-4133e537902f",
   "metadata": {},
   "outputs": [
    {
     "data": {
      "text/plain": [
       "2-element Vector{AbstractVector{Int64}}:\n",
       " 1:3\n",
       " []"
      ]
     },
     "execution_count": 115,
     "metadata": {},
     "output_type": "execute_result"
    }
   ],
   "source": [
    "function string_to_range(s)\n",
    "    # Check if s is missing or a string that represents an empty cell\n",
    "    if ismissing(s) || s == \"0\"\n",
    "        return Int[]  # Return an empty array of Int type\n",
    "    else\n",
    "        str = string(s)  # Convert to string if not already\n",
    "        nums = split(str, \",\")  # Split the string by comma\n",
    "        nums = parse.(Int, nums)  # Parse each part to an integer\n",
    "        return minimum(nums):maximum(nums)  # Return the range\n",
    "    end\n",
    "end\n",
    "\n",
    "\n",
    "# Convert the 'I' column to String if it's not already\n",
    "df_buses.I = string.(df_buses.I)\n",
    "\n",
    "# Apply the function to the 'I' column\n",
    "df_buses.I = [string_to_range(i) for i in df_buses.I]\n"
   ]
  },
  {
   "cell_type": "code",
   "execution_count": 116,
   "id": "f98d085a-e5bf-4f97-a336-d6cb5f0a993e",
   "metadata": {},
   "outputs": [
    {
     "data": {
      "text/html": [
       "<div><div style = \"float: left;\"><span>2×3 DataFrame</span></div><div style = \"clear: both;\"></div></div><div class = \"data-frame\" style = \"overflow-x: scroll;\"><table class = \"data-frame\" style = \"margin-bottom: 6px;\"><thead><tr class = \"header\"><th class = \"rowNumber\" style = \"font-weight: bold; text-align: right;\">Row</th><th style = \"text-align: left;\">Node</th><th style = \"text-align: left;\">I</th><th style = \"text-align: left;\">Q</th></tr><tr class = \"subheader headerLastRow\"><th class = \"rowNumber\" style = \"font-weight: bold; text-align: right;\"></th><th title = \"Int64\" style = \"text-align: left;\">Int64</th><th title = \"AbstractVector{Int64}\" style = \"text-align: left;\">Abstract…</th><th title = \"Int64\" style = \"text-align: left;\">Int64</th></tr></thead><tbody><tr><td class = \"rowNumber\" style = \"font-weight: bold; text-align: right;\">1</td><td style = \"text-align: right;\">1</td><td style = \"text-align: left;\">1:3</td><td style = \"text-align: right;\">1</td></tr><tr><td class = \"rowNumber\" style = \"font-weight: bold; text-align: right;\">2</td><td style = \"text-align: right;\">2</td><td style = \"text-align: left;\">Int64[]</td><td style = \"text-align: right;\">2</td></tr></tbody></table></div>"
      ],
      "text/latex": [
       "\\begin{tabular}{r|ccc}\n",
       "\t& Node & I & Q\\\\\n",
       "\t\\hline\n",
       "\t& Int64 & Abstract… & Int64\\\\\n",
       "\t\\hline\n",
       "\t1 & 1 & 1:3 & 1 \\\\\n",
       "\t2 & 2 & [] & 2 \\\\\n",
       "\\end{tabular}\n"
      ],
      "text/plain": [
       "\u001b[1m2×3 DataFrame\u001b[0m\n",
       "\u001b[1m Row \u001b[0m│\u001b[1m Node  \u001b[0m\u001b[1m I         \u001b[0m\u001b[1m Q     \u001b[0m\n",
       "     │\u001b[90m Int64 \u001b[0m\u001b[90m Abstract… \u001b[0m\u001b[90m Int64 \u001b[0m\n",
       "─────┼─────────────────────────\n",
       "   1 │     1  1:3            1\n",
       "   2 │     2  Int64[]        2"
      ]
     },
     "execution_count": 116,
     "metadata": {},
     "output_type": "execute_result"
    }
   ],
   "source": [
    "df_buses"
   ]
  },
  {
   "cell_type": "code",
   "execution_count": 13,
   "id": "92eea34f-5d32-4fc3-9362-206e2235e02c",
   "metadata": {},
   "outputs": [
    {
     "name": "stdout",
     "output_type": "stream",
     "text": [
      "10"
     ]
    }
   ],
   "source": [
    "\"\"\"\n",
    "N = 1:2                                #number of nodes (buses)\n",
    "I=[[1:2]; [1:1]]                           #number of generation units of node n\n",
    "# Q [0:0] \n",
    "Q = [[1], []]                          # Q[n] gives the wind units at node n\n",
    "T=1:1                                  #number of time intervalls \n",
    "Ω=1:2                                  #number of scenarios\n",
    "J=[[1:1]; [1:1]]                           #number of loads  of node n\n",
    "Λ=[[2:2]; [1:1]]                            #set of nodes directly connected to node n\n",
    "#Λ=[[2] [1]]                            #set of nodes directly connected to node n\n",
    "C=[[10, 30], [35]]                          #unit cost of generation C[N,I]\n",
    "C_RU=[[16, 13], [10]]                       #cost of up reserve commitment C_RU[N,I]\n",
    "C_RD=[[15, 12], [9]]                        #cost of down reserve commitment C_RD[N,I]\n",
    "C_U=[[10, 30], [35]]                        #cost of up reserve commitment C_U[N,I]\n",
    "C_D=[[10, 30], [35]]                        #cost of down reserve commitment C_D[N,I]\n",
    "π=[0.6, 0.4]                           #probabilities of the scenarios\n",
    "V_LOL=[[200], [200]]                        #value of the lost load\n",
    "C_cur=[[0]] #[15]                         #cost of curtailment at turbine C_cur[N,Q]\n",
    "L= [[40], [100]]               #loads for every time intervall L=[N] [J,T]\n",
    "#W_realized = [[[50] [10]] [[50] [10]] [[50] [10]]] #create random scenarios for four time points q,ω,t\n",
    "\n",
    "# changed back to original\n",
    "W_realized = [[[[50],[10]],[]],[]] #70 .+ 15 * randn(1, 1, 2, 1)  #create random scenarios for n,q,ω,t [[[[50],[10]]],[]]#\n",
    "#[[[111 112] [121 122]] [[211 212] [221 222]] [[311 312] [321 322]]]\n",
    "P_max=[[50, 110], [100]];                   #maximum production capacity\n",
    "\n",
    "# From IEEE 24 bus\n",
    "b = [[1, 1/0.13], [1/0.13, 1]]                     #line susceptance (loss of transmission)\n",
    "LC_Max = [[0, 100], [100, 0]]          #maximum transmission quantity between two buses [n][ℓ]\n",
    "print(W_realized[1][1][2][1])\n",
    "\"\"\""
   ]
  },
  {
   "cell_type": "code",
   "execution_count": 14,
   "id": "ed734a17-070c-4e0b-b5de-dd2534451679",
   "metadata": {},
   "outputs": [],
   "source": [
    "\"\"\"\n",
    "data= Dict(\n",
    "    :N => N,\n",
    "    :I => I,\n",
    "    :Q => Q,\n",
    "    :T => T,\n",
    "    :Ω => Ω,\n",
    "    :J => J,\n",
    "    :Λ => Λ,\n",
    "    :C => C,\n",
    "    :C_RU => C_RU,\n",
    "    :C_RD => C_RD,\n",
    "    :C_U => C_U,\n",
    "    :C_D => C_D,\n",
    "    :π => π,\n",
    "    :V_LOL => V_LOL,\n",
    "    :C_cur => C_cur,\n",
    "    :L => L,\n",
    "    :W_realized => W_realized,\n",
    "    :P_max => P_max,\n",
    "    :b => b,\n",
    "    :LC_Max => LC_Max\n",
    "    );\n",
    "#print(W_realized[1,2,1])\n",
    "\"\"\""
   ]
  },
  {
   "cell_type": "code",
   "execution_count": 119,
   "id": "d3d5a73a-6017-46a2-be0a-d9358efca745",
   "metadata": {},
   "outputs": [],
   "source": [
    "# Create an empty dictionary to hold all nodes\n",
    "data = Dict()\n",
    "\n",
    "# Iterate over the range of nodes\n",
    "for node in 1:2\n",
    "    # Create a dictionary for the current node with all other variables\n",
    "    data_node = Dict(\n",
    "        :I => df_buses.I[node],\n",
    "        :Q => df_buses.Q[node],\n",
    "    \n",
    "        )\n",
    "    \n",
    "    # Assign the dictionary to the current node key\n",
    "    data[node] = data_node\n",
    "end\n",
    "\n"
   ]
  },
  {
   "cell_type": "code",
   "execution_count": 123,
   "id": "f8024117-948f-4e66-95be-d2ad924f45cb",
   "metadata": {},
   "outputs": [
    {
     "name": "stdout",
     "output_type": "stream",
     "text": [
      "Dict{Symbol, Any}(:I => 1:3, :Q => 1)\n",
      "Dict{Symbol, Any}(:I => Int64[], :Q => 2)\n"
     ]
    }
   ],
   "source": [
    "println(data[1])\n",
    "println(data[2])"
   ]
  },
  {
   "cell_type": "code",
   "execution_count": 120,
   "id": "1a33f1db-df02-4ac5-b7d3-4457899f3690",
   "metadata": {},
   "outputs": [
    {
     "name": "stdout",
     "output_type": "stream",
     "text": [
      "1\n",
      "2\n",
      "3\n"
     ]
    }
   ],
   "source": [
    "#print(nodes_dict[2][:I])\n",
    "\n",
    "for n in 1:2\n",
    "    for i in data[n][:I]\n",
    "        println(data[n][:I][i])\n",
    "        end\n",
    "    end\n"
   ]
  },
  {
   "cell_type": "code",
   "execution_count": 15,
   "id": "1b7feac8-b794-477f-a1af-006dfeb529e6",
   "metadata": {},
   "outputs": [],
   "source": [
    "function init_variables(model::JuMP.Model)\n",
    "    P=@variable(model, P[n in data[:N], i in data[:I][n], t in data[:T]] >=0) #energy generated\n",
    "    R_U=@variable(model, R_U[n in data[:N], i in data[:I][n], t in data[:T]] >=0) #committed upward reserve capacity of generator i\n",
    "    R_D=@variable(model, R_D[n in data[:N], i in data[:I][n], t in data[:T]] >=0) #committed downward reserve capacity of generator i\n",
    "    r_U=@variable(model, r_U[n in data[:N], i in data[:I][n], ω in data[:Ω], t in data[:T]] >=0) #up regulation of generator i in case 𝜔\n",
    "    r_D=@variable(model, r_D[n in data[:N], i in data[:I][n], ω in data[:Ω], t in data[:T]] >=0) #down regulation of generator i in case 𝜔\n",
    "    L_Shed=@variable(model, L_Shed[n in data[:N], j in data[:J][n], ω in data[:Ω], t in data[:T]] >=0) #loss of load at load demand j in case 𝜔\n",
    "    W_spill=@variable(model, W_spill[n in data[:N], q in data[:Q][n], ω in data[:Ω], t in data[:T]] >=0) #curtailment of turbine q in case 𝜔\n",
    "    W_s=@variable(model, W_s[n in data[:N], q in data[:Q][n], t in data[:T]] >=0) #scheduled wind power generation at turbine q\n",
    "    𝛿=@variable(model, 𝛿[n in data[:N], ℓ in data[:Λ][n], t in data[:T]] >= 0) #voltage angle\n",
    "    PF=@variable(model, PF[n in data[:N], ℓ in data[:Λ][n], t in data[:T]] >= 0) #power flow          # added >= 0 \n",
    "    PF_scenario=@variable(model, PF_scenario[ω in data[:Ω], n in data[:N], ℓ in data[:Λ][n], t in data[:T]] >= 0) #power flow scenario\n",
    "    \n",
    "    vars= Dict(\n",
    "        :P => P,\n",
    "        :R_U => R_U,\n",
    "        :R_D => R_D,\n",
    "        :r_U => r_U,\n",
    "        :r_D => r_D,\n",
    "        :L_Shed => L_Shed,\n",
    "        :W_spill => W_spill,\n",
    "        :W_s => W_s,            # added commas\n",
    "        :𝛿 => 𝛿,\n",
    "        :PF => PF,\n",
    "        :PF_scenario => PF_scenario\n",
    "    )\n",
    "    \n",
    "    return vars\n",
    "end;\n"
   ]
  },
  {
   "cell_type": "code",
   "execution_count": 16,
   "id": "789406ff-632f-40b0-a4b1-9656e6327b06",
   "metadata": {},
   "outputs": [],
   "source": [
    "function init_constraints(model::JuMP.Model, data::Dict, vars::Dict)\n",
    "    @constraints(model, begin \n",
    "            c1[n in data[:N],i in data[:I][n], t in data[:T]], vars[:P][n, i, t]+ vars[:R_U][n, i, t]<= data[:P_max][n][i]\n",
    "            c2[n in data[:N],i in data[:I][n] ,t in data[:T]], vars[:P][n, i, t]- vars[:R_D][n, i, t]>= 0\n",
    "            c3[n in data[:N],i in data[:I][n], t in data[:T], ω in data[:Ω]], vars[:r_U][n, i, ω, t] <= vars[:R_U][n,i,t]\n",
    "            c4[n in data[:N],i in data[:I][n], t in data[:T], ω in data[:Ω]], vars[:r_D][n, i, ω, t] <= vars[:R_D][n,i,t]\n",
    "            \n",
    "            c5[ω in data[:Ω], n in data[:N], ℓ in data[:Λ][n], t in data[:T]], vars[:PF_scenario][ω, n, ℓ, t] <= data[:LC_Max][n][ℓ]\n",
    "            \n",
    "            c6[n in data[:N], ℓ in data[:Λ][n], t in data[:T]], vars[:PF][n, ℓ, t] <= data[:LC_Max][n][ℓ]\n",
    "            # Something wrong with powerflow\n",
    "            c7[ω in data[:Ω], n in data[:N], ℓ in data[:Λ][n], t in data[:T]], (vars[:𝛿][n, ℓ, t] - vars[:𝛿][ℓ, n, t]) * data[:b][n][ℓ] == vars[:PF][n, ℓ, t]\n",
    "\n",
    "            ## !!\n",
    "            Power_balance_day_ahead[n in data[:N], t in data[:T]], \n",
    "            sum(vars[:P][n,i,t] for i in data[:I][n]) + sum(vars[:W_s][n,q,t] for q in data[:Q][n]) - sum(data[:L][n][j,t] for j in data[:J][n]) - sum(vars[:PF][n, ℓ, t] for ℓ in data[:Λ][n]) == 0\n",
    "\n",
    "            Power_balance_at_stage[ω in data[:Ω], n in data[:N], t in data[:T]], \n",
    "            sum(vars[:r_U][n,i, ω, t] for i in data[:I][n]) -\n",
    "            sum(vars[:r_D][n,i, ω, t] for i in data[:I][n]) +\n",
    "            sum(vars[:L_Shed][n,j, ω, t] for j in data[:J][n]) +\n",
    "            # n ! and W_realized and Q changed\n",
    "            sum(data[:W_realized][n][q][ω][t] -vars[:W_s][n,q,t] - vars[:W_spill][n,q,ω,t] for q in data[:Q][n]) -\n",
    "            sum(vars[:PF_scenario][ω, n, ℓ, t] for ℓ in data[:Λ][n]) +\n",
    "            sum(vars[:PF][n, ℓ, t] for ℓ in data[:Λ][n]) == 0 \n",
    "    end)\n",
    "end;\n"
   ]
  },
  {
   "cell_type": "code",
   "execution_count": 17,
   "id": "497ed0bc-d3ca-49b6-a917-3e4d64c1031c",
   "metadata": {},
   "outputs": [
    {
     "data": {
      "text/plain": [
       "7.692307692307692"
      ]
     },
     "execution_count": 17,
     "metadata": {},
     "output_type": "execute_result"
    }
   ],
   "source": [
    "#W_realized[1,1,1,1]\n",
    "#print(vars[:W_s][1,1,1])\n",
    "#println(data[:Q])\n",
    "#println(keys(vars[:W_s]))\n",
    "data[:b][1][2]\n"
   ]
  },
  {
   "cell_type": "code",
   "execution_count": 18,
   "id": "31fc2906-6380-4459-b1bd-5f4fdf189f88",
   "metadata": {},
   "outputs": [],
   "source": [
    "function init_obj_function(model, data, vars)\n",
    "    @objective(model, Min, sum(vars[:P][n,i,t]* data[:C][n][i] + vars[:R_U][n,i,t] * data[:C_RU][n][i] + vars[:R_D][n,i,t] * data[:C_RD][n][i] for n in data[:N], i in data[:I][n], t in data[:T]) +\n",
    "    sum(π[ω] * (sum(data[:C_U][n][i] * vars[:r_U][n,i, ω ,t] + data[:C_D][n][i] * vars[:r_D][n,i, ω, t] for i in data[:I][n]) +\n",
    "                sum(data[:C_cur][n][q] * vars[:W_spill][n,q, ω, t] for q in data[:Q][n]) +\n",
    "                sum(data[:V_LOL][n][j] * vars[:L_Shed][n, j, ω, t] for j in data[:J][n])) for n in data[:N], ω in data[:Ω], t in data[:T])\n",
    "    )\n",
    "end;"
   ]
  },
  {
   "cell_type": "code",
   "execution_count": 19,
   "id": "36cf5fd5-4e3c-4a6e-a2f5-f85068a034da",
   "metadata": {
    "scrolled": true
   },
   "outputs": [
    {
     "data": {
      "text/latex": [
       "$$ \\begin{aligned}\n",
       "\\min\\quad & 10 P_{1,1,1} + 16 R\\_U_{1,1,1} + 15 R\\_D_{1,1,1} + 30 P_{1,2,1} + 13 R\\_U_{1,2,1} + 12 R\\_D_{1,2,1} + 35 P_{2,1,1} + 10 R\\_U_{2,1,1} + 9 R\\_D_{2,1,1} + 6 r\\_U_{1,1,1,1} + 6 r\\_D_{1,1,1,1} + 18 r\\_U_{1,2,1,1} + 18 r\\_D_{1,2,1,1} + 120 L\\_Shed_{1,1,1,1} + 4 r\\_U_{1,1,2,1} + 4 r\\_D_{1,1,2,1} + 12 r\\_U_{1,2,2,1} + 12 r\\_D_{1,2,2,1} + 80 L\\_Shed_{1,1,2,1} + 21 r\\_U_{2,1,1,1} + 21 r\\_D_{2,1,1,1} + 120 L\\_Shed_{2,1,1,1} + 14 r\\_U_{2,1,2,1} + 14 r\\_D_{2,1,2,1} + 80 L\\_Shed_{2,1,2,1}\\\\\n",
       "\\text{Subject to} \\quad & 7.692307692307692 𝛿_{1,2,1} - 7.692307692307692 𝛿_{2,1,1} - PF_{1,2,1} = 0\\\\\n",
       " & -7.692307692307692 𝛿_{1,2,1} + 7.692307692307692 𝛿_{2,1,1} - PF_{2,1,1} = 0\\\\\n",
       " & 7.692307692307692 𝛿_{1,2,1} - 7.692307692307692 𝛿_{2,1,1} - PF_{1,2,1} = 0\\\\\n",
       " & -7.692307692307692 𝛿_{1,2,1} + 7.692307692307692 𝛿_{2,1,1} - PF_{2,1,1} = 0\\\\\n",
       " & P_{1,1,1} + P_{1,2,1} + W\\_s_{1,1,1} - PF_{1,2,1} = 40\\\\\n",
       " & P_{2,1,1} - PF_{2,1,1} = 100\\\\\n",
       " & r\\_U_{1,1,1,1} + r\\_U_{1,2,1,1} - r\\_D_{1,1,1,1} - r\\_D_{1,2,1,1} + L\\_Shed_{1,1,1,1} - W\\_spill_{1,1,1,1} - W\\_s_{1,1,1} + PF_{1,2,1} - PF\\_scenario_{1,1,2,1} = -50\\\\\n",
       " & r\\_U_{1,1,2,1} + r\\_U_{1,2,2,1} - r\\_D_{1,1,2,1} - r\\_D_{1,2,2,1} + L\\_Shed_{1,1,2,1} - W\\_spill_{1,1,2,1} - W\\_s_{1,1,1} + PF_{1,2,1} - PF\\_scenario_{2,1,2,1} = -10\\\\\n",
       " & r\\_U_{2,1,1,1} - r\\_D_{2,1,1,1} + L\\_Shed_{2,1,1,1} + PF_{2,1,1} - PF\\_scenario_{1,2,1,1} = 0\\\\\n",
       " & r\\_U_{2,1,2,1} - r\\_D_{2,1,2,1} + L\\_Shed_{2,1,2,1} + PF_{2,1,1} - PF\\_scenario_{2,2,1,1} = 0\\\\\n",
       " & P_{1,1,1} - R\\_D_{1,1,1} \\geq 0\\\\\n",
       " & P_{1,2,1} - R\\_D_{1,2,1} \\geq 0\\\\\n",
       " & P_{2,1,1} - R\\_D_{2,1,1} \\geq 0\\\\\n",
       " & P_{1,1,1} + R\\_U_{1,1,1} \\leq 50\\\\\n",
       " & P_{1,2,1} + R\\_U_{1,2,1} \\leq 110\\\\\n",
       " & P_{2,1,1} + R\\_U_{2,1,1} \\leq 100\\\\\n",
       " & -R\\_U_{1,1,1} + r\\_U_{1,1,1,1} \\leq 0\\\\\n",
       " & -R\\_U_{1,1,1} + r\\_U_{1,1,2,1} \\leq 0\\\\\n",
       " & -R\\_U_{1,2,1} + r\\_U_{1,2,1,1} \\leq 0\\\\\n",
       " & -R\\_U_{1,2,1} + r\\_U_{1,2,2,1} \\leq 0\\\\\n",
       " & -R\\_U_{2,1,1} + r\\_U_{2,1,1,1} \\leq 0\\\\\n",
       " & -R\\_U_{2,1,1} + r\\_U_{2,1,2,1} \\leq 0\\\\\n",
       " & -R\\_D_{1,1,1} + r\\_D_{1,1,1,1} \\leq 0\\\\\n",
       " & -R\\_D_{1,1,1} + r\\_D_{1,1,2,1} \\leq 0\\\\\n",
       " & -R\\_D_{1,2,1} + r\\_D_{1,2,1,1} \\leq 0\\\\\n",
       " & -R\\_D_{1,2,1} + r\\_D_{1,2,2,1} \\leq 0\\\\\n",
       " & -R\\_D_{2,1,1} + r\\_D_{2,1,1,1} \\leq 0\\\\\n",
       " & -R\\_D_{2,1,1} + r\\_D_{2,1,2,1} \\leq 0\\\\\n",
       " & PF\\_scenario_{1,1,2,1} \\leq 100\\\\\n",
       " & PF\\_scenario_{1,2,1,1} \\leq 100\\\\\n",
       " & PF\\_scenario_{2,1,2,1} \\leq 100\\\\\n",
       " & PF\\_scenario_{2,2,1,1} \\leq 100\\\\\n",
       " & PF_{1,2,1} \\leq 100\\\\\n",
       " & PF_{2,1,1} \\leq 100\\\\\n",
       " & P_{1,1,1} \\geq 0\\\\\n",
       " & P_{1,2,1} \\geq 0\\\\\n",
       " & P_{2,1,1} \\geq 0\\\\\n",
       " & R\\_U_{1,1,1} \\geq 0\\\\\n",
       " & R\\_U_{1,2,1} \\geq 0\\\\\n",
       " & R\\_U_{2,1,1} \\geq 0\\\\\n",
       " & R\\_D_{1,1,1} \\geq 0\\\\\n",
       " & R\\_D_{1,2,1} \\geq 0\\\\\n",
       " & R\\_D_{2,1,1} \\geq 0\\\\\n",
       " & r\\_U_{1,1,1,1} \\geq 0\\\\\n",
       " & r\\_U_{1,1,2,1} \\geq 0\\\\\n",
       " & r\\_U_{1,2,1,1} \\geq 0\\\\\n",
       " & r\\_U_{1,2,2,1} \\geq 0\\\\\n",
       " & r\\_U_{2,1,1,1} \\geq 0\\\\\n",
       " & r\\_U_{2,1,2,1} \\geq 0\\\\\n",
       " & r\\_D_{1,1,1,1} \\geq 0\\\\\n",
       " & r\\_D_{1,1,2,1} \\geq 0\\\\\n",
       " & r\\_D_{1,2,1,1} \\geq 0\\\\\n",
       " & r\\_D_{1,2,2,1} \\geq 0\\\\\n",
       " & r\\_D_{2,1,1,1} \\geq 0\\\\\n",
       " & r\\_D_{2,1,2,1} \\geq 0\\\\\n",
       " & L\\_Shed_{1,1,1,1} \\geq 0\\\\\n",
       " & L\\_Shed_{1,1,2,1} \\geq 0\\\\\n",
       " & L\\_Shed_{2,1,1,1} \\geq 0\\\\\n",
       " & L\\_Shed_{2,1,2,1} \\geq 0\\\\\n",
       " & W\\_spill_{1,1,1,1} \\geq 0\\\\\n",
       " & W\\_spill_{1,1,2,1} \\geq 0\\\\\n",
       " & W\\_s_{1,1,1} \\geq 0\\\\\n",
       " & 𝛿_{1,2,1} \\geq 0\\\\\n",
       " & 𝛿_{2,1,1} \\geq 0\\\\\n",
       " & PF_{1,2,1} \\geq 0\\\\\n",
       " & PF_{2,1,1} \\geq 0\\\\\n",
       " & PF\\_scenario_{1,1,2,1} \\geq 0\\\\\n",
       " & PF\\_scenario_{1,2,1,1} \\geq 0\\\\\n",
       " & PF\\_scenario_{2,1,2,1} \\geq 0\\\\\n",
       " & PF\\_scenario_{2,2,1,1} \\geq 0\\\\\n",
       "\\end{aligned} $$"
      ]
     },
     "metadata": {},
     "output_type": "display_data"
    }
   ],
   "source": [
    "model=Model(HiGHS.Optimizer)\n",
    "vars=init_variables(model)\n",
    "init_constraints(model, data, vars)\n",
    "init_obj_function(model, data, vars)\n",
    "print(model)"
   ]
  },
  {
   "cell_type": "code",
   "execution_count": 20,
   "id": "41b49558-859d-4748-880e-29c07390fabd",
   "metadata": {
    "scrolled": true
   },
   "outputs": [
    {
     "name": "stdout",
     "output_type": "stream",
     "text": [
      "Running HiGHS 1.6.0: Copyright (c) 2023 HiGHS under MIT licence terms\n",
      "Presolving model\n",
      "21 rows, 25 cols, 58 nonzeros\n",
      "9 rows, 13 cols, 25 nonzeros\n",
      "Presolve : Reductions: rows 9(-25); columns 13(-23); elements 25(-63)\n",
      "Solving the presolved LP\n",
      "Using EKK dual simplex solver - serial\n",
      "  Iteration        Objective     Infeasibilities num(sum)\n",
      "          0     3.5000000000e+03 Pr: 3(100) 0s\n",
      "          4     3.8000000000e+03 Pr: 0(0) 0s\n",
      "Solving the original LP from the solution after postsolve\n",
      "Model   status      : Optimal\n",
      "Simplex   iterations: 4\n",
      "Objective value     :  3.8000000000e+03\n",
      "HiGHS run time      :          0.02\n"
     ]
    }
   ],
   "source": [
    "optimize!(model)"
   ]
  },
  {
   "cell_type": "code",
   "execution_count": 21,
   "id": "328c9241-12d4-4fa0-97e7-5e8759d43d2e",
   "metadata": {},
   "outputs": [
    {
     "name": "stdout",
     "output_type": "stream",
     "text": [
      "Variable values:\n",
      "P:\n",
      "P[1:2]:   [1]  =  30.0\n",
      "  [2]  =  0.0\n",
      "P[1:1]:   [1]  =  30.0\n",
      "P[1:2]:   [1]  =  100.0\n",
      "P[1:1]:   [1]  =  100.0\n",
      "\n",
      "R_U:\n"
     ]
    },
    {
     "ename": "LoadError",
     "evalue": "BoundsError: attempt to access JuMP.Containers.SparseAxisArray{VariableRef, 3, Tuple{Int64, Int64, Int64}} with 3 entries at index [1:2, 1]",
     "output_type": "error",
     "traceback": [
      "BoundsError: attempt to access JuMP.Containers.SparseAxisArray{VariableRef, 3, Tuple{Int64, Int64, Int64}} with 3 entries at index [1:2, 1]",
      "",
      "Stacktrace:",
      " [1] getindex(::JuMP.Containers.SparseAxisArray{VariableRef, 3, Tuple{Int64, Int64, Int64}}, ::UnitRange{Int64}, ::Vararg{Any}; kwargs::Base.Pairs{Symbol, Union{}, Tuple{}, NamedTuple{(), Tuple{}}})",
      "   @ JuMP.Containers C:\\Users\\user\\.julia\\packages\\JuMP\\HjlGr\\src\\Containers\\SparseAxisArray.jl:164",
      " [2] getindex(::JuMP.Containers.SparseAxisArray{VariableRef, 3, Tuple{Int64, Int64, Int64}}, ::UnitRange{Int64}, ::Int64)",
      "   @ JuMP.Containers C:\\Users\\user\\.julia\\packages\\JuMP\\HjlGr\\src\\Containers\\SparseAxisArray.jl:152",
      " [3] top-level scope",
      "   @ .\\In[21]:10"
     ]
    }
   ],
   "source": [
    "# Print the values of the variables\n",
    "println(\"Variable values:\")\n",
    "println(\"P:\")\n",
    "for n in data[:N], i in data[:I], t in data[:T]\n",
    "    println(\"P[$i]: \", JuMP.value.(vars[:P][n, i, t]))\n",
    "end\n",
    "\n",
    "println(\"\\nR_U:\")\n",
    "for i in data[:I], t in data[:T]\n",
    "    println(\"R_U[$i]: \", value(vars[:R_U][i, t]))\n",
    "end\n",
    "\n",
    "println(\"\\nR_D:\")\n",
    "for i in data[:I], t in data[:T]\n",
    "    println(\"R_D[$i]: \", value(vars[:R_D][i, t]))end\n",
    "\n",
    "println(\"\\nL_Shed:\")\n",
    "for j in data[:J], ω in data[:Ω], t in data[:T]\n",
    "    println(\"L_Shed[$j, $ω, $t]: \", value(vars[:L_Shed][j, ω, t]))\n",
    "end\n",
    "\n",
    "println(\"\\nW_spill:\")\n",
    "for q in data[:Q], ω in data[:Ω], t in data[:T]\n",
    "    println(\"W_spill[$q, $ω, $t]: \", value(vars[:W_spill][q, ω, t]))\n",
    "end\n",
    "\n",
    "println(\"\\nW_realized:\")\n",
    "for q in data[:Q], ω in data[:Ω], t in data[:T]\n",
    "    println(\"W_realized[$q, $ω, $t]: \", value(data[:W_realized][q, ω, t]))\n",
    "end\n",
    "\n",
    "println(\"\\nW_s:\")\n",
    "for q in data[:Q], t in data[:T]\n",
    "    println(\"W_s[$q, $t]: \", value(vars[:W_s][q, t]))\n",
    "end\n",
    "\n",
    "println(\"\\nr_U:\")\n",
    "for i in data[:I], ω in data[:Ω], t in data[:T]\n",
    "    println(\"r_U[$i, $ω, $t]: \", value(vars[:r_U][i, ω, t]))\n",
    "end\n",
    "\n",
    "println(\"\\nr_D:\")\n",
    "for i in data[:I], ω in data[:Ω], t in data[:T]\n",
    "    println(\"r_D[$i, $ω, $t]: \", value(vars[:r_D][i, ω, t]))\n",
    "end\n",
    "\n",
    "println(\"\\nLoad\")\n",
    "for j in data[:J]\n",
    "    print(\"L[$j]:\", data[:L][j])\n",
    "end\n",
    "\n",
    "print(\"\\n\\nsum:\", sum(data[:L]))"
   ]
  }
 ],
 "metadata": {
  "kernelspec": {
   "display_name": "Julia 1.9.4",
   "language": "julia",
   "name": "julia-1.9"
  },
  "language_info": {
   "file_extension": ".jl",
   "mimetype": "application/julia",
   "name": "julia",
   "version": "1.9.4"
  }
 },
 "nbformat": 4,
 "nbformat_minor": 5
}
